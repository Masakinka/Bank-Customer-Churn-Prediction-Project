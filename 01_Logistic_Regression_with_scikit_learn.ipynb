{
  "nbformat": 4,
  "nbformat_minor": 0,
  "metadata": {
    "colab": {
      "provenance": [],
      "include_colab_link": true
    },
    "kernelspec": {
      "name": "python3",
      "display_name": "Python 3"
    },
    "language_info": {
      "name": "python"
    }
  },
  "cells": [
    {
      "cell_type": "markdown",
      "metadata": {
        "id": "view-in-github",
        "colab_type": "text"
      },
      "source": [
        "<a href=\"https://colab.research.google.com/github/Masakinka/Bank-Customer-Churn-Prediction-Project/blob/main/01_Logistic_Regression_with_scikit_learn.ipynb\" target=\"_parent\"><img src=\"https://colab.research.google.com/assets/colab-badge.svg\" alt=\"Open In Colab\"/></a>"
      ]
    },
    {
      "cell_type": "markdown",
      "source": [
        "### Project Overview\n",
        "\n",
        "This project aims to build a machine learning model for predicting customer churn in the banking sector, using the dataset provided by the Kaggle competition, **[Bank Customer Churn Prediction (DLU Course)](https://www.kaggle.com/competitions/bank-customer-churn-prediction-dlu)**. The goal is to apply logistic regression as the primary method for solving this classification problem.\n",
        "\n",
        "We will begin by loading the relevant datasets: `train.csv`, `test.csv`, and `sample_submission.csv`, which are provided as part of the competition. The task involves preprocessing the data, training the model, and submitting the predictions on the test set.\n",
        "\n",
        "### Feature Description\n",
        "\n",
        "The dataset contains the following features:\n",
        "\n",
        "| Feature          | Description                                      | Data Type  |\n",
        "|------------------|--------------------------------------------------|------------|\n",
        "| `id`             | Unique identifier for each customer               | Numerical  |\n",
        "| `CustomerId`     | Customer identification number                    | Numerical  |\n",
        "| `Surname`        | Customer surname                                  | Categorical|\n",
        "| `CreditScore`    | Credit score of the customer                      | Numerical  |\n",
        "| `Geography`      | Customer's country of residence                   | Categorical|\n",
        "| `Gender`         | Customer gender                                   | Categorical|\n",
        "| `Age`            | Customer age                                      | Numerical  |\n",
        "| `Tenure`         | Number of years with the bank                     | Numerical  |\n",
        "| `Balance`        | Account balance                                   | Numerical  |\n",
        "| `NumOfProducts`  | Number of bank products the customer is using     | Numerical  |\n",
        "| `HasCrCard`      | Whether the customer has a credit card (1/0)      | Binary     |\n",
        "| `IsActiveMember` | Whether the customer is an active member (1/0)    | Binary     |\n",
        "| `EstimatedSalary`| Customer's estimated annual salary                | Numerical  |\n",
        "| `Exited`         | Whether the customer churned (target variable)    | Binary     |\n",
        "\n",
        "### Problem Statement\n",
        "\n",
        "The objective of this project is to build a binary classification model that predicts whether a customer will churn (exit the bank) based on their demographics, financial status, and banking behavior.\n",
        "\n",
        "### Key Project Goals\n",
        "\n",
        "1. Develop a robust logistic regression model to predict customer churn.\n",
        "2. Identify key factors contributing to customer churn.\n",
        "3. Provide actionable insights for improving customer retention strategies.\n",
        "\n",
        "### Scope and Limitations\n",
        "\n",
        "- The model uses historical data and does not update in real-time.\n",
        "- The dataset provided is pre-cleaned, with no missing values.\n",
        "- The analysis will not differentiate between various customer segments.\n",
        "\n",
        "### Main Objective\n",
        "\n",
        "The main objective is to develop a predictive model to help the bank identify customers at risk of leaving and to improve retention efforts through targeted interventions.\n"
      ],
      "metadata": {
        "id": "vvWAsdazjKga"
      }
    },
    {
      "cell_type": "markdown",
      "source": [
        "## Directory Cleaner (Optional)\n",
        "The commented-out section of code is designed to clean up the directory. It checks if a specific directory exists and removes it along with all its contents if found. This is useful for ensuring that the environment is clean before starting any operations, especially in iterative workflows."
      ],
      "metadata": {
        "id": "CNrDBqpUkhJl"
      }
    },
    {
      "cell_type": "markdown",
      "source": [
        "Check if a specific directory exists and delete it if it does. This is useful to start with a fresh working directory."
      ],
      "metadata": {
        "id": "QvyNQFlMktAk"
      }
    },
    {
      "cell_type": "code",
      "source": [
        "# # directory cleaner\n",
        "# import shutil\n",
        "# directory = './bank-customer-churn-prediction-dlu'\n",
        "# # Check if the directory exists\n",
        "# if os.path.exists(directory):\n",
        "#     # Remove the directory and all its contents\n",
        "#     shutil.rmtree(directory)\n",
        "#     print(f\"Directory {directory} has been cleared.\")\n",
        "# else:\n",
        "#     print(f\"Directory {directory} does not exist.\")"
      ],
      "metadata": {
        "id": "USe2VpH73UsD"
      },
      "execution_count": 2,
      "outputs": []
    },
    {
      "cell_type": "markdown",
      "source": [
        "## Installing Necessary Libraries"
      ],
      "metadata": {
        "id": "xlAzZz3bk2Yx"
      }
    },
    {
      "cell_type": "markdown",
      "source": [
        "These two lines install additional Python packages that are not necessarily included in standard environments:\n",
        "\n",
        "- opendatasets: This package is used to download datasets from Kaggle directly using the Kaggle API.\n",
        "- pyarrow: It provides efficient support for reading and writing data in Parquet format, commonly used for data storage."
      ],
      "metadata": {
        "id": "U3b5ZAZBk9Ss"
      }
    },
    {
      "cell_type": "code",
      "source": [
        "!pip install opendatasets --upgrade --quiet"
      ],
      "metadata": {
        "id": "qsgafdDL4xfD"
      },
      "execution_count": 3,
      "outputs": []
    },
    {
      "cell_type": "code",
      "source": [
        "!pip install pyarrow --quiet"
      ],
      "metadata": {
        "id": "Ca9USNcXNZ2K"
      },
      "execution_count": 4,
      "outputs": []
    },
    {
      "cell_type": "markdown",
      "source": [
        "**Importing Libraries**"
      ],
      "metadata": {
        "id": "DCsMII0JlF5h"
      }
    },
    {
      "cell_type": "code",
      "source": [
        "import opendatasets as od\n",
        "import os\n",
        "import joblib\n",
        "\n",
        "import pandas as pd\n",
        "import numpy as np\n",
        "import matplotlib.pyplot as plt\n",
        "import seaborn as sns\n",
        "\n",
        "from scipy.stats import chi2_contingency\n",
        "from sklearn.model_selection import train_test_split\n",
        "from sklearn.linear_model import LogisticRegression\n",
        "from sklearn.preprocessing import StandardScaler, OneHotEncoder\n",
        "from sklearn.compose import ColumnTransformer\n",
        "from sklearn.pipeline import Pipeline\n",
        "from sklearn.metrics import classification_report, confusion_matrix, roc_curve, roc_auc_score, f1_score, accuracy_score"
      ],
      "metadata": {
        "id": "2J2bS-kL2cHV"
      },
      "execution_count": 5,
      "outputs": []
    },
    {
      "cell_type": "markdown",
      "source": [
        "Here we customize the display settings for pandas to ensure that large dataframes are fully visible when printed. It allows us to view up to 130 rows and columns at a time, formats floating-point numbers to two decimal places, and displays all columns without truncating the view."
      ],
      "metadata": {
        "id": "MuXQmalclOX3"
      }
    },
    {
      "cell_type": "code",
      "source": [
        "pd.set_option('display.max.rows',130)\n",
        "pd.set_option('display.max.columns',130)\n",
        "pd.set_option('float_format', '{:.2f}'.format)\n",
        "pd.set_option('display.max_columns', None)\n",
        "pd.set_option('display.expand_frame_repr', False)"
      ],
      "metadata": {
        "id": "mWoZMs3dDE7e"
      },
      "execution_count": 6,
      "outputs": []
    },
    {
      "cell_type": "code",
      "source": [
        "od.version()"
      ],
      "metadata": {
        "colab": {
          "base_uri": "https://localhost:8080/",
          "height": 36
        },
        "id": "VUQW_VFS5h9A",
        "outputId": "86c8a73a-9c55-4d9a-e2d1-e8922c8a5cc1"
      },
      "execution_count": 7,
      "outputs": [
        {
          "output_type": "execute_result",
          "data": {
            "text/plain": [
              "'0.1.22'"
            ],
            "application/vnd.google.colaboratory.intrinsic+json": {
              "type": "string"
            }
          },
          "metadata": {},
          "execution_count": 7
        }
      ]
    },
    {
      "cell_type": "markdown",
      "source": [
        "## Loading Dataset"
      ],
      "metadata": {
        "id": "NeS8PD00lX0i"
      }
    },
    {
      "cell_type": "markdown",
      "source": [
        "We define the URL for the Kaggle competition from which we need to download the dataset. The opendatasets library is used to download the dataset to the local directory. It will prompt for the user's Kaggle credentials (username and API key)."
      ],
      "metadata": {
        "id": "j_usIWHWllF3"
      }
    },
    {
      "cell_type": "code",
      "source": [
        "# URL of the Kaggle competition dataset\n",
        "dataset_url = 'https://www.kaggle.com/competitions/bank-customer-churn-prediction-dlu/'\n",
        "\n",
        "# Downloading and extracting the dataset using opendatasets\n",
        "od.download(dataset_url)\n"
      ],
      "metadata": {
        "colab": {
          "base_uri": "https://localhost:8080/"
        },
        "id": "-crw3Us2lj2L",
        "outputId": "40adaa00-f23e-47ec-f602-f5ba3d746825"
      },
      "execution_count": 8,
      "outputs": [
        {
          "output_type": "stream",
          "name": "stdout",
          "text": [
            "Please provide your Kaggle credentials to download this dataset. Learn more: http://bit.ly/kaggle-creds\n",
            "Your Kaggle username: viktoriiabortnikova\n",
            "Your Kaggle Key: ··········\n",
            "Downloading bank-customer-churn-prediction-dlu.zip to ./bank-customer-churn-prediction-dlu\n"
          ]
        },
        {
          "output_type": "stream",
          "name": "stderr",
          "text": [
            "100%|██████████| 637k/637k [00:00<00:00, 47.5MB/s]"
          ]
        },
        {
          "output_type": "stream",
          "name": "stdout",
          "text": [
            "\n",
            "Extracting archive ./bank-customer-churn-prediction-dlu/bank-customer-churn-prediction-dlu.zip to ./bank-customer-churn-prediction-dlu\n"
          ]
        },
        {
          "output_type": "stream",
          "name": "stderr",
          "text": [
            "\n"
          ]
        }
      ]
    },
    {
      "cell_type": "markdown",
      "source": [
        "We check the directory to ensure that the dataset files have been downloaded successfully. Then, we load the training data from train.csv into a pandas DataFrame for further analysis. This data contains information about customer churn from the bank."
      ],
      "metadata": {
        "id": "2D5-fo3nl8Gq"
      }
    },
    {
      "cell_type": "code",
      "source": [
        "# Defining the directory where the dataset is stored\n",
        "data_dir = './bank-customer-churn-prediction-dlu'\n",
        "\n",
        "# Listing the files in the directory to confirm the download\n",
        "os.listdir(data_dir)\n",
        "# Expected files: 'train.csv', 'test.csv', 'sample_submission.csv'"
      ],
      "metadata": {
        "colab": {
          "base_uri": "https://localhost:8080/"
        },
        "id": "0pjVADNJluOj",
        "outputId": "572e6b9e-ae86-4790-e5fb-dfed528cfa9c"
      },
      "execution_count": 11,
      "outputs": [
        {
          "output_type": "execute_result",
          "data": {
            "text/plain": [
              "['train.csv', 'test.csv', 'sample_submission.csv']"
            ]
          },
          "metadata": {},
          "execution_count": 11
        }
      ]
    },
    {
      "cell_type": "code",
      "source": [
        "# define train_csv\n",
        "train_csv = data_dir + '/train.csv'"
      ],
      "metadata": {
        "id": "2BOuHrEd5teY"
      },
      "execution_count": 12,
      "outputs": []
    },
    {
      "cell_type": "code",
      "source": [
        "# Loading the training data into a pandas DataFrame\n",
        "raw_df = pd.read_csv(train_csv)\n",
        "raw_df"
      ],
      "metadata": {
        "id": "BB1PSRP92d2y",
        "colab": {
          "base_uri": "https://localhost:8080/",
          "height": 423
        },
        "outputId": "0b1458ed-71ac-4d2d-98f1-c7a38abbe639"
      },
      "execution_count": 14,
      "outputs": [
        {
          "output_type": "execute_result",
          "data": {
            "text/plain": [
              "          id  CustomerId   Surname  CreditScore Geography  Gender   Age  Tenure   Balance  NumOfProducts  HasCrCard  IsActiveMember  EstimatedSalary  Exited\n",
              "0          0 15779985.00   Nwankwo       678.00    France    Male 29.00    4.00      0.00           3.00       1.00            0.00        180626.36    0.00\n",
              "1          1 15650086.00     Ch'in       687.00    France  Female 34.00    1.00      0.00           2.00       0.00            1.00         63736.17    0.00\n",
              "2          2 15733602.00  Thompson       682.00    France  Female 52.00    6.00      0.00           3.00       0.00            0.00        179655.87    1.00\n",
              "3          3 15645794.00   Macleod       753.00   Germany    Male 44.00    6.00  83347.25           2.00       1.00            0.00        161407.48    0.00\n",
              "4          4 15633840.00      Hsia       544.00   Germany  Female 55.00    0.00 107747.57           1.00       1.00            0.00        176580.86    1.00\n",
              "...      ...         ...       ...          ...       ...     ...   ...     ...       ...            ...        ...             ...              ...     ...\n",
              "14995  14995 15807989.00     Ch'iu       585.00    France    Male 33.00    3.00      0.00           1.00       1.00            0.00         54191.38    0.00\n",
              "14996  14996 15731781.00    Ch'ang       678.00    France    Male 34.00    6.00      0.00           2.00       1.00            1.00         53437.10    0.00\n",
              "14997  14997 15667093.00    Goliwe       678.00    France  Female 54.00    4.00      0.00           1.00       1.00            0.00        147720.29    1.00\n",
              "14998  14998 15732644.00   Fanucci       705.00     Spain  Female 40.00    7.00      0.00           2.00       1.00            0.00        149550.95    0.00\n",
              "14999  14999 15713890.00  Milanesi       648.00    France  Female 42.00    3.00      0.00           3.00       1.00            0.00        112442.63    1.00\n",
              "\n",
              "[15000 rows x 14 columns]"
            ],
            "text/html": [
              "\n",
              "  <div id=\"df-fbd785c5-b18e-4852-9471-7c373ef75955\" class=\"colab-df-container\">\n",
              "    <div>\n",
              "<style scoped>\n",
              "    .dataframe tbody tr th:only-of-type {\n",
              "        vertical-align: middle;\n",
              "    }\n",
              "\n",
              "    .dataframe tbody tr th {\n",
              "        vertical-align: top;\n",
              "    }\n",
              "\n",
              "    .dataframe thead th {\n",
              "        text-align: right;\n",
              "    }\n",
              "</style>\n",
              "<table border=\"1\" class=\"dataframe\">\n",
              "  <thead>\n",
              "    <tr style=\"text-align: right;\">\n",
              "      <th></th>\n",
              "      <th>id</th>\n",
              "      <th>CustomerId</th>\n",
              "      <th>Surname</th>\n",
              "      <th>CreditScore</th>\n",
              "      <th>Geography</th>\n",
              "      <th>Gender</th>\n",
              "      <th>Age</th>\n",
              "      <th>Tenure</th>\n",
              "      <th>Balance</th>\n",
              "      <th>NumOfProducts</th>\n",
              "      <th>HasCrCard</th>\n",
              "      <th>IsActiveMember</th>\n",
              "      <th>EstimatedSalary</th>\n",
              "      <th>Exited</th>\n",
              "    </tr>\n",
              "  </thead>\n",
              "  <tbody>\n",
              "    <tr>\n",
              "      <th>0</th>\n",
              "      <td>0</td>\n",
              "      <td>15779985.00</td>\n",
              "      <td>Nwankwo</td>\n",
              "      <td>678.00</td>\n",
              "      <td>France</td>\n",
              "      <td>Male</td>\n",
              "      <td>29.00</td>\n",
              "      <td>4.00</td>\n",
              "      <td>0.00</td>\n",
              "      <td>3.00</td>\n",
              "      <td>1.00</td>\n",
              "      <td>0.00</td>\n",
              "      <td>180626.36</td>\n",
              "      <td>0.00</td>\n",
              "    </tr>\n",
              "    <tr>\n",
              "      <th>1</th>\n",
              "      <td>1</td>\n",
              "      <td>15650086.00</td>\n",
              "      <td>Ch'in</td>\n",
              "      <td>687.00</td>\n",
              "      <td>France</td>\n",
              "      <td>Female</td>\n",
              "      <td>34.00</td>\n",
              "      <td>1.00</td>\n",
              "      <td>0.00</td>\n",
              "      <td>2.00</td>\n",
              "      <td>0.00</td>\n",
              "      <td>1.00</td>\n",
              "      <td>63736.17</td>\n",
              "      <td>0.00</td>\n",
              "    </tr>\n",
              "    <tr>\n",
              "      <th>2</th>\n",
              "      <td>2</td>\n",
              "      <td>15733602.00</td>\n",
              "      <td>Thompson</td>\n",
              "      <td>682.00</td>\n",
              "      <td>France</td>\n",
              "      <td>Female</td>\n",
              "      <td>52.00</td>\n",
              "      <td>6.00</td>\n",
              "      <td>0.00</td>\n",
              "      <td>3.00</td>\n",
              "      <td>0.00</td>\n",
              "      <td>0.00</td>\n",
              "      <td>179655.87</td>\n",
              "      <td>1.00</td>\n",
              "    </tr>\n",
              "    <tr>\n",
              "      <th>3</th>\n",
              "      <td>3</td>\n",
              "      <td>15645794.00</td>\n",
              "      <td>Macleod</td>\n",
              "      <td>753.00</td>\n",
              "      <td>Germany</td>\n",
              "      <td>Male</td>\n",
              "      <td>44.00</td>\n",
              "      <td>6.00</td>\n",
              "      <td>83347.25</td>\n",
              "      <td>2.00</td>\n",
              "      <td>1.00</td>\n",
              "      <td>0.00</td>\n",
              "      <td>161407.48</td>\n",
              "      <td>0.00</td>\n",
              "    </tr>\n",
              "    <tr>\n",
              "      <th>4</th>\n",
              "      <td>4</td>\n",
              "      <td>15633840.00</td>\n",
              "      <td>Hsia</td>\n",
              "      <td>544.00</td>\n",
              "      <td>Germany</td>\n",
              "      <td>Female</td>\n",
              "      <td>55.00</td>\n",
              "      <td>0.00</td>\n",
              "      <td>107747.57</td>\n",
              "      <td>1.00</td>\n",
              "      <td>1.00</td>\n",
              "      <td>0.00</td>\n",
              "      <td>176580.86</td>\n",
              "      <td>1.00</td>\n",
              "    </tr>\n",
              "    <tr>\n",
              "      <th>...</th>\n",
              "      <td>...</td>\n",
              "      <td>...</td>\n",
              "      <td>...</td>\n",
              "      <td>...</td>\n",
              "      <td>...</td>\n",
              "      <td>...</td>\n",
              "      <td>...</td>\n",
              "      <td>...</td>\n",
              "      <td>...</td>\n",
              "      <td>...</td>\n",
              "      <td>...</td>\n",
              "      <td>...</td>\n",
              "      <td>...</td>\n",
              "      <td>...</td>\n",
              "    </tr>\n",
              "    <tr>\n",
              "      <th>14995</th>\n",
              "      <td>14995</td>\n",
              "      <td>15807989.00</td>\n",
              "      <td>Ch'iu</td>\n",
              "      <td>585.00</td>\n",
              "      <td>France</td>\n",
              "      <td>Male</td>\n",
              "      <td>33.00</td>\n",
              "      <td>3.00</td>\n",
              "      <td>0.00</td>\n",
              "      <td>1.00</td>\n",
              "      <td>1.00</td>\n",
              "      <td>0.00</td>\n",
              "      <td>54191.38</td>\n",
              "      <td>0.00</td>\n",
              "    </tr>\n",
              "    <tr>\n",
              "      <th>14996</th>\n",
              "      <td>14996</td>\n",
              "      <td>15731781.00</td>\n",
              "      <td>Ch'ang</td>\n",
              "      <td>678.00</td>\n",
              "      <td>France</td>\n",
              "      <td>Male</td>\n",
              "      <td>34.00</td>\n",
              "      <td>6.00</td>\n",
              "      <td>0.00</td>\n",
              "      <td>2.00</td>\n",
              "      <td>1.00</td>\n",
              "      <td>1.00</td>\n",
              "      <td>53437.10</td>\n",
              "      <td>0.00</td>\n",
              "    </tr>\n",
              "    <tr>\n",
              "      <th>14997</th>\n",
              "      <td>14997</td>\n",
              "      <td>15667093.00</td>\n",
              "      <td>Goliwe</td>\n",
              "      <td>678.00</td>\n",
              "      <td>France</td>\n",
              "      <td>Female</td>\n",
              "      <td>54.00</td>\n",
              "      <td>4.00</td>\n",
              "      <td>0.00</td>\n",
              "      <td>1.00</td>\n",
              "      <td>1.00</td>\n",
              "      <td>0.00</td>\n",
              "      <td>147720.29</td>\n",
              "      <td>1.00</td>\n",
              "    </tr>\n",
              "    <tr>\n",
              "      <th>14998</th>\n",
              "      <td>14998</td>\n",
              "      <td>15732644.00</td>\n",
              "      <td>Fanucci</td>\n",
              "      <td>705.00</td>\n",
              "      <td>Spain</td>\n",
              "      <td>Female</td>\n",
              "      <td>40.00</td>\n",
              "      <td>7.00</td>\n",
              "      <td>0.00</td>\n",
              "      <td>2.00</td>\n",
              "      <td>1.00</td>\n",
              "      <td>0.00</td>\n",
              "      <td>149550.95</td>\n",
              "      <td>0.00</td>\n",
              "    </tr>\n",
              "    <tr>\n",
              "      <th>14999</th>\n",
              "      <td>14999</td>\n",
              "      <td>15713890.00</td>\n",
              "      <td>Milanesi</td>\n",
              "      <td>648.00</td>\n",
              "      <td>France</td>\n",
              "      <td>Female</td>\n",
              "      <td>42.00</td>\n",
              "      <td>3.00</td>\n",
              "      <td>0.00</td>\n",
              "      <td>3.00</td>\n",
              "      <td>1.00</td>\n",
              "      <td>0.00</td>\n",
              "      <td>112442.63</td>\n",
              "      <td>1.00</td>\n",
              "    </tr>\n",
              "  </tbody>\n",
              "</table>\n",
              "<p>15000 rows × 14 columns</p>\n",
              "</div>\n",
              "    <div class=\"colab-df-buttons\">\n",
              "\n",
              "  <div class=\"colab-df-container\">\n",
              "    <button class=\"colab-df-convert\" onclick=\"convertToInteractive('df-fbd785c5-b18e-4852-9471-7c373ef75955')\"\n",
              "            title=\"Convert this dataframe to an interactive table.\"\n",
              "            style=\"display:none;\">\n",
              "\n",
              "  <svg xmlns=\"http://www.w3.org/2000/svg\" height=\"24px\" viewBox=\"0 -960 960 960\">\n",
              "    <path d=\"M120-120v-720h720v720H120Zm60-500h600v-160H180v160Zm220 220h160v-160H400v160Zm0 220h160v-160H400v160ZM180-400h160v-160H180v160Zm440 0h160v-160H620v160ZM180-180h160v-160H180v160Zm440 0h160v-160H620v160Z\"/>\n",
              "  </svg>\n",
              "    </button>\n",
              "\n",
              "  <style>\n",
              "    .colab-df-container {\n",
              "      display:flex;\n",
              "      gap: 12px;\n",
              "    }\n",
              "\n",
              "    .colab-df-convert {\n",
              "      background-color: #E8F0FE;\n",
              "      border: none;\n",
              "      border-radius: 50%;\n",
              "      cursor: pointer;\n",
              "      display: none;\n",
              "      fill: #1967D2;\n",
              "      height: 32px;\n",
              "      padding: 0 0 0 0;\n",
              "      width: 32px;\n",
              "    }\n",
              "\n",
              "    .colab-df-convert:hover {\n",
              "      background-color: #E2EBFA;\n",
              "      box-shadow: 0px 1px 2px rgba(60, 64, 67, 0.3), 0px 1px 3px 1px rgba(60, 64, 67, 0.15);\n",
              "      fill: #174EA6;\n",
              "    }\n",
              "\n",
              "    .colab-df-buttons div {\n",
              "      margin-bottom: 4px;\n",
              "    }\n",
              "\n",
              "    [theme=dark] .colab-df-convert {\n",
              "      background-color: #3B4455;\n",
              "      fill: #D2E3FC;\n",
              "    }\n",
              "\n",
              "    [theme=dark] .colab-df-convert:hover {\n",
              "      background-color: #434B5C;\n",
              "      box-shadow: 0px 1px 3px 1px rgba(0, 0, 0, 0.15);\n",
              "      filter: drop-shadow(0px 1px 2px rgba(0, 0, 0, 0.3));\n",
              "      fill: #FFFFFF;\n",
              "    }\n",
              "  </style>\n",
              "\n",
              "    <script>\n",
              "      const buttonEl =\n",
              "        document.querySelector('#df-fbd785c5-b18e-4852-9471-7c373ef75955 button.colab-df-convert');\n",
              "      buttonEl.style.display =\n",
              "        google.colab.kernel.accessAllowed ? 'block' : 'none';\n",
              "\n",
              "      async function convertToInteractive(key) {\n",
              "        const element = document.querySelector('#df-fbd785c5-b18e-4852-9471-7c373ef75955');\n",
              "        const dataTable =\n",
              "          await google.colab.kernel.invokeFunction('convertToInteractive',\n",
              "                                                    [key], {});\n",
              "        if (!dataTable) return;\n",
              "\n",
              "        const docLinkHtml = 'Like what you see? Visit the ' +\n",
              "          '<a target=\"_blank\" href=https://colab.research.google.com/notebooks/data_table.ipynb>data table notebook</a>'\n",
              "          + ' to learn more about interactive tables.';\n",
              "        element.innerHTML = '';\n",
              "        dataTable['output_type'] = 'display_data';\n",
              "        await google.colab.output.renderOutput(dataTable, element);\n",
              "        const docLink = document.createElement('div');\n",
              "        docLink.innerHTML = docLinkHtml;\n",
              "        element.appendChild(docLink);\n",
              "      }\n",
              "    </script>\n",
              "  </div>\n",
              "\n",
              "\n",
              "<div id=\"df-205cc0cc-64a7-434a-a0f3-efa1b17ddfe7\">\n",
              "  <button class=\"colab-df-quickchart\" onclick=\"quickchart('df-205cc0cc-64a7-434a-a0f3-efa1b17ddfe7')\"\n",
              "            title=\"Suggest charts\"\n",
              "            style=\"display:none;\">\n",
              "\n",
              "<svg xmlns=\"http://www.w3.org/2000/svg\" height=\"24px\"viewBox=\"0 0 24 24\"\n",
              "     width=\"24px\">\n",
              "    <g>\n",
              "        <path d=\"M19 3H5c-1.1 0-2 .9-2 2v14c0 1.1.9 2 2 2h14c1.1 0 2-.9 2-2V5c0-1.1-.9-2-2-2zM9 17H7v-7h2v7zm4 0h-2V7h2v10zm4 0h-2v-4h2v4z\"/>\n",
              "    </g>\n",
              "</svg>\n",
              "  </button>\n",
              "\n",
              "<style>\n",
              "  .colab-df-quickchart {\n",
              "      --bg-color: #E8F0FE;\n",
              "      --fill-color: #1967D2;\n",
              "      --hover-bg-color: #E2EBFA;\n",
              "      --hover-fill-color: #174EA6;\n",
              "      --disabled-fill-color: #AAA;\n",
              "      --disabled-bg-color: #DDD;\n",
              "  }\n",
              "\n",
              "  [theme=dark] .colab-df-quickchart {\n",
              "      --bg-color: #3B4455;\n",
              "      --fill-color: #D2E3FC;\n",
              "      --hover-bg-color: #434B5C;\n",
              "      --hover-fill-color: #FFFFFF;\n",
              "      --disabled-bg-color: #3B4455;\n",
              "      --disabled-fill-color: #666;\n",
              "  }\n",
              "\n",
              "  .colab-df-quickchart {\n",
              "    background-color: var(--bg-color);\n",
              "    border: none;\n",
              "    border-radius: 50%;\n",
              "    cursor: pointer;\n",
              "    display: none;\n",
              "    fill: var(--fill-color);\n",
              "    height: 32px;\n",
              "    padding: 0;\n",
              "    width: 32px;\n",
              "  }\n",
              "\n",
              "  .colab-df-quickchart:hover {\n",
              "    background-color: var(--hover-bg-color);\n",
              "    box-shadow: 0 1px 2px rgba(60, 64, 67, 0.3), 0 1px 3px 1px rgba(60, 64, 67, 0.15);\n",
              "    fill: var(--button-hover-fill-color);\n",
              "  }\n",
              "\n",
              "  .colab-df-quickchart-complete:disabled,\n",
              "  .colab-df-quickchart-complete:disabled:hover {\n",
              "    background-color: var(--disabled-bg-color);\n",
              "    fill: var(--disabled-fill-color);\n",
              "    box-shadow: none;\n",
              "  }\n",
              "\n",
              "  .colab-df-spinner {\n",
              "    border: 2px solid var(--fill-color);\n",
              "    border-color: transparent;\n",
              "    border-bottom-color: var(--fill-color);\n",
              "    animation:\n",
              "      spin 1s steps(1) infinite;\n",
              "  }\n",
              "\n",
              "  @keyframes spin {\n",
              "    0% {\n",
              "      border-color: transparent;\n",
              "      border-bottom-color: var(--fill-color);\n",
              "      border-left-color: var(--fill-color);\n",
              "    }\n",
              "    20% {\n",
              "      border-color: transparent;\n",
              "      border-left-color: var(--fill-color);\n",
              "      border-top-color: var(--fill-color);\n",
              "    }\n",
              "    30% {\n",
              "      border-color: transparent;\n",
              "      border-left-color: var(--fill-color);\n",
              "      border-top-color: var(--fill-color);\n",
              "      border-right-color: var(--fill-color);\n",
              "    }\n",
              "    40% {\n",
              "      border-color: transparent;\n",
              "      border-right-color: var(--fill-color);\n",
              "      border-top-color: var(--fill-color);\n",
              "    }\n",
              "    60% {\n",
              "      border-color: transparent;\n",
              "      border-right-color: var(--fill-color);\n",
              "    }\n",
              "    80% {\n",
              "      border-color: transparent;\n",
              "      border-right-color: var(--fill-color);\n",
              "      border-bottom-color: var(--fill-color);\n",
              "    }\n",
              "    90% {\n",
              "      border-color: transparent;\n",
              "      border-bottom-color: var(--fill-color);\n",
              "    }\n",
              "  }\n",
              "</style>\n",
              "\n",
              "  <script>\n",
              "    async function quickchart(key) {\n",
              "      const quickchartButtonEl =\n",
              "        document.querySelector('#' + key + ' button');\n",
              "      quickchartButtonEl.disabled = true;  // To prevent multiple clicks.\n",
              "      quickchartButtonEl.classList.add('colab-df-spinner');\n",
              "      try {\n",
              "        const charts = await google.colab.kernel.invokeFunction(\n",
              "            'suggestCharts', [key], {});\n",
              "      } catch (error) {\n",
              "        console.error('Error during call to suggestCharts:', error);\n",
              "      }\n",
              "      quickchartButtonEl.classList.remove('colab-df-spinner');\n",
              "      quickchartButtonEl.classList.add('colab-df-quickchart-complete');\n",
              "    }\n",
              "    (() => {\n",
              "      let quickchartButtonEl =\n",
              "        document.querySelector('#df-205cc0cc-64a7-434a-a0f3-efa1b17ddfe7 button');\n",
              "      quickchartButtonEl.style.display =\n",
              "        google.colab.kernel.accessAllowed ? 'block' : 'none';\n",
              "    })();\n",
              "  </script>\n",
              "</div>\n",
              "    </div>\n",
              "  </div>\n"
            ],
            "application/vnd.google.colaboratory.intrinsic+json": {
              "type": "dataframe",
              "variable_name": "raw_df",
              "summary": "{\n  \"name\": \"raw_df\",\n  \"rows\": 15000,\n  \"fields\": [\n    {\n      \"column\": \"id\",\n      \"properties\": {\n        \"dtype\": \"number\",\n        \"std\": 4330,\n        \"min\": 0,\n        \"max\": 14999,\n        \"num_unique_values\": 15000,\n        \"samples\": [\n          11499,\n          6475,\n          13167\n        ],\n        \"semantic_type\": \"\",\n        \"description\": \"\"\n      }\n    },\n    {\n      \"column\": \"CustomerId\",\n      \"properties\": {\n        \"dtype\": \"number\",\n        \"std\": 135205.03256056676,\n        \"min\": 1581102.0,\n        \"max\": 15815690.0,\n        \"num_unique_values\": 6348,\n        \"samples\": [\n          15676835.0,\n          15592999.0,\n          15570533.0\n        ],\n        \"semantic_type\": \"\",\n        \"description\": \"\"\n      }\n    },\n    {\n      \"column\": \"Surname\",\n      \"properties\": {\n        \"dtype\": \"category\",\n        \"num_unique_values\": 764,\n        \"samples\": [\n          \"Ndukaku\",\n          \"Chukwuebuka\",\n          \"Deleon\"\n        ],\n        \"semantic_type\": \"\",\n        \"description\": \"\"\n      }\n    },\n    {\n      \"column\": \"CreditScore\",\n      \"properties\": {\n        \"dtype\": \"number\",\n        \"std\": 72.25592575585755,\n        \"min\": 431.0,\n        \"max\": 850.0,\n        \"num_unique_values\": 378,\n        \"samples\": [\n          507.0,\n          618.0,\n          501.0\n        ],\n        \"semantic_type\": \"\",\n        \"description\": \"\"\n      }\n    },\n    {\n      \"column\": \"Geography\",\n      \"properties\": {\n        \"dtype\": \"category\",\n        \"num_unique_values\": 3,\n        \"samples\": [\n          \"France\",\n          \"Germany\",\n          \"Spain\"\n        ],\n        \"semantic_type\": \"\",\n        \"description\": \"\"\n      }\n    },\n    {\n      \"column\": \"Gender\",\n      \"properties\": {\n        \"dtype\": \"category\",\n        \"num_unique_values\": 2,\n        \"samples\": [\n          \"Female\",\n          \"Male\"\n        ],\n        \"semantic_type\": \"\",\n        \"description\": \"\"\n      }\n    },\n    {\n      \"column\": \"Age\",\n      \"properties\": {\n        \"dtype\": \"number\",\n        \"std\": 8.218363255923181,\n        \"min\": 18.0,\n        \"max\": 74.0,\n        \"num_unique_values\": 56,\n        \"samples\": [\n          29.0,\n          33.0\n        ],\n        \"semantic_type\": \"\",\n        \"description\": \"\"\n      }\n    },\n    {\n      \"column\": \"Tenure\",\n      \"properties\": {\n        \"dtype\": \"number\",\n        \"std\": 2.7766782777940255,\n        \"min\": 0.0,\n        \"max\": 10.0,\n        \"num_unique_values\": 11,\n        \"samples\": [\n          5.0,\n          4.0\n        ],\n        \"semantic_type\": \"\",\n        \"description\": \"\"\n      }\n    },\n    {\n      \"column\": \"Balance\",\n      \"properties\": {\n        \"dtype\": \"number\",\n        \"std\": 59727.30941872732,\n        \"min\": 0.0,\n        \"max\": 209767.31,\n        \"num_unique_values\": 3395,\n        \"samples\": [\n          120811.89,\n          123763.61\n        ],\n        \"semantic_type\": \"\",\n        \"description\": \"\"\n      }\n    },\n    {\n      \"column\": \"NumOfProducts\",\n      \"properties\": {\n        \"dtype\": \"number\",\n        \"std\": 0.5323063205431294,\n        \"min\": 1.0,\n        \"max\": 4.0,\n        \"num_unique_values\": 4,\n        \"samples\": [\n          2.0,\n          4.0\n        ],\n        \"semantic_type\": \"\",\n        \"description\": \"\"\n      }\n    },\n    {\n      \"column\": \"HasCrCard\",\n      \"properties\": {\n        \"dtype\": \"number\",\n        \"std\": 0.40817357465232057,\n        \"min\": 0.0,\n        \"max\": 1.0,\n        \"num_unique_values\": 2,\n        \"samples\": [\n          0.0,\n          1.0\n        ],\n        \"semantic_type\": \"\",\n        \"description\": \"\"\n      }\n    },\n    {\n      \"column\": \"IsActiveMember\",\n      \"properties\": {\n        \"dtype\": \"number\",\n        \"std\": 0.4999098747585243,\n        \"min\": 0.0,\n        \"max\": 1.0,\n        \"num_unique_values\": 2,\n        \"samples\": [\n          1.0,\n          0.0\n        ],\n        \"semantic_type\": \"\",\n        \"description\": \"\"\n      }\n    },\n    {\n      \"column\": \"EstimatedSalary\",\n      \"properties\": {\n        \"dtype\": \"number\",\n        \"std\": 45734.44588762869,\n        \"min\": 11.58,\n        \"max\": 199992.48,\n        \"num_unique_values\": 6242,\n        \"samples\": [\n          113553.42,\n          136816.37\n        ],\n        \"semantic_type\": \"\",\n        \"description\": \"\"\n      }\n    },\n    {\n      \"column\": \"Exited\",\n      \"properties\": {\n        \"dtype\": \"number\",\n        \"std\": 0.40259009858008776,\n        \"min\": 0.0,\n        \"max\": 1.0,\n        \"num_unique_values\": 2,\n        \"samples\": [\n          1.0,\n          0.0\n        ],\n        \"semantic_type\": \"\",\n        \"description\": \"\"\n      }\n    }\n  ]\n}"
            }
          },
          "metadata": {},
          "execution_count": 14
        }
      ]
    },
    {
      "cell_type": "markdown",
      "source": [
        "## Exploratory Data Analysis (EDA)\n",
        "We begin by exploring the dataset:\n",
        "\n",
        "- info(): Provides a concise summary of the DataFrame, including data types, missing values, and memory usage.\n",
        "- describe(): Generates descriptive statistics for numerical columns.\n",
        "- Checking for Missing Values: We check if any of the columns contain missing values."
      ],
      "metadata": {
        "id": "LnAjMA3gmY3S"
      }
    },
    {
      "cell_type": "code",
      "source": [
        "# Checking the basic information of the dataset\n",
        "raw_df.info(verbose = True, show_counts=True)"
      ],
      "metadata": {
        "colab": {
          "base_uri": "https://localhost:8080/"
        },
        "id": "GqnWmVi6CZz8",
        "outputId": "08609ea3-b136-43bc-c4d4-d8237806ac73"
      },
      "execution_count": 15,
      "outputs": [
        {
          "output_type": "stream",
          "name": "stdout",
          "text": [
            "<class 'pandas.core.frame.DataFrame'>\n",
            "RangeIndex: 15000 entries, 0 to 14999\n",
            "Data columns (total 14 columns):\n",
            " #   Column           Non-Null Count  Dtype  \n",
            "---  ------           --------------  -----  \n",
            " 0   id               15000 non-null  int64  \n",
            " 1   CustomerId       15000 non-null  float64\n",
            " 2   Surname          15000 non-null  object \n",
            " 3   CreditScore      15000 non-null  float64\n",
            " 4   Geography        15000 non-null  object \n",
            " 5   Gender           15000 non-null  object \n",
            " 6   Age              15000 non-null  float64\n",
            " 7   Tenure           15000 non-null  float64\n",
            " 8   Balance          15000 non-null  float64\n",
            " 9   NumOfProducts    15000 non-null  float64\n",
            " 10  HasCrCard        15000 non-null  float64\n",
            " 11  IsActiveMember   15000 non-null  float64\n",
            " 12  EstimatedSalary  15000 non-null  float64\n",
            " 13  Exited           15000 non-null  float64\n",
            "dtypes: float64(10), int64(1), object(3)\n",
            "memory usage: 1.6+ MB\n"
          ]
        }
      ]
    },
    {
      "cell_type": "code",
      "source": [
        "# Generating descriptive statistics for numerical columns\n",
        "raw_df.describe()"
      ],
      "metadata": {
        "id": "72ax5b6dkR4h",
        "colab": {
          "base_uri": "https://localhost:8080/",
          "height": 300
        },
        "outputId": "aad9265e-a963-4747-dc48-a9a8e15459c4"
      },
      "execution_count": 16,
      "outputs": [
        {
          "output_type": "execute_result",
          "data": {
            "text/plain": [
              "            id  CustomerId  CreditScore      Age   Tenure   Balance  NumOfProducts  HasCrCard  IsActiveMember  EstimatedSalary   Exited\n",
              "count 15000.00    15000.00     15000.00 15000.00 15000.00  15000.00       15000.00   15000.00        15000.00         15000.00 15000.00\n",
              "mean   7499.50 15691456.68       658.94    37.74     5.03  42729.79           1.59       0.79            0.49        117784.67     0.20\n",
              "std    4330.27   135205.03        72.26     8.22     2.78  59727.31           0.53       0.41            0.50         45734.45     0.40\n",
              "min       0.00  1581102.00       431.00    18.00     0.00      0.00           1.00       0.00            0.00            11.58     0.00\n",
              "25%    3749.75 15635143.00       603.00    32.00     3.00      0.00           1.00       1.00            0.00         83058.14     0.00\n",
              "50%    7499.50 15690175.00       662.00    37.00     5.00      0.00           2.00       1.00            0.00        123584.87     0.00\n",
              "75%   11249.25 15757181.50       708.00    42.00     7.00 109531.02           2.00       1.00            1.00        156884.70     0.00\n",
              "max   14999.00 15815690.00       850.00    74.00    10.00 209767.31           4.00       1.00            1.00        199992.48     1.00"
            ],
            "text/html": [
              "\n",
              "  <div id=\"df-aa56ea6d-82df-4ba0-8846-6a967cd1c607\" class=\"colab-df-container\">\n",
              "    <div>\n",
              "<style scoped>\n",
              "    .dataframe tbody tr th:only-of-type {\n",
              "        vertical-align: middle;\n",
              "    }\n",
              "\n",
              "    .dataframe tbody tr th {\n",
              "        vertical-align: top;\n",
              "    }\n",
              "\n",
              "    .dataframe thead th {\n",
              "        text-align: right;\n",
              "    }\n",
              "</style>\n",
              "<table border=\"1\" class=\"dataframe\">\n",
              "  <thead>\n",
              "    <tr style=\"text-align: right;\">\n",
              "      <th></th>\n",
              "      <th>id</th>\n",
              "      <th>CustomerId</th>\n",
              "      <th>CreditScore</th>\n",
              "      <th>Age</th>\n",
              "      <th>Tenure</th>\n",
              "      <th>Balance</th>\n",
              "      <th>NumOfProducts</th>\n",
              "      <th>HasCrCard</th>\n",
              "      <th>IsActiveMember</th>\n",
              "      <th>EstimatedSalary</th>\n",
              "      <th>Exited</th>\n",
              "    </tr>\n",
              "  </thead>\n",
              "  <tbody>\n",
              "    <tr>\n",
              "      <th>count</th>\n",
              "      <td>15000.00</td>\n",
              "      <td>15000.00</td>\n",
              "      <td>15000.00</td>\n",
              "      <td>15000.00</td>\n",
              "      <td>15000.00</td>\n",
              "      <td>15000.00</td>\n",
              "      <td>15000.00</td>\n",
              "      <td>15000.00</td>\n",
              "      <td>15000.00</td>\n",
              "      <td>15000.00</td>\n",
              "      <td>15000.00</td>\n",
              "    </tr>\n",
              "    <tr>\n",
              "      <th>mean</th>\n",
              "      <td>7499.50</td>\n",
              "      <td>15691456.68</td>\n",
              "      <td>658.94</td>\n",
              "      <td>37.74</td>\n",
              "      <td>5.03</td>\n",
              "      <td>42729.79</td>\n",
              "      <td>1.59</td>\n",
              "      <td>0.79</td>\n",
              "      <td>0.49</td>\n",
              "      <td>117784.67</td>\n",
              "      <td>0.20</td>\n",
              "    </tr>\n",
              "    <tr>\n",
              "      <th>std</th>\n",
              "      <td>4330.27</td>\n",
              "      <td>135205.03</td>\n",
              "      <td>72.26</td>\n",
              "      <td>8.22</td>\n",
              "      <td>2.78</td>\n",
              "      <td>59727.31</td>\n",
              "      <td>0.53</td>\n",
              "      <td>0.41</td>\n",
              "      <td>0.50</td>\n",
              "      <td>45734.45</td>\n",
              "      <td>0.40</td>\n",
              "    </tr>\n",
              "    <tr>\n",
              "      <th>min</th>\n",
              "      <td>0.00</td>\n",
              "      <td>1581102.00</td>\n",
              "      <td>431.00</td>\n",
              "      <td>18.00</td>\n",
              "      <td>0.00</td>\n",
              "      <td>0.00</td>\n",
              "      <td>1.00</td>\n",
              "      <td>0.00</td>\n",
              "      <td>0.00</td>\n",
              "      <td>11.58</td>\n",
              "      <td>0.00</td>\n",
              "    </tr>\n",
              "    <tr>\n",
              "      <th>25%</th>\n",
              "      <td>3749.75</td>\n",
              "      <td>15635143.00</td>\n",
              "      <td>603.00</td>\n",
              "      <td>32.00</td>\n",
              "      <td>3.00</td>\n",
              "      <td>0.00</td>\n",
              "      <td>1.00</td>\n",
              "      <td>1.00</td>\n",
              "      <td>0.00</td>\n",
              "      <td>83058.14</td>\n",
              "      <td>0.00</td>\n",
              "    </tr>\n",
              "    <tr>\n",
              "      <th>50%</th>\n",
              "      <td>7499.50</td>\n",
              "      <td>15690175.00</td>\n",
              "      <td>662.00</td>\n",
              "      <td>37.00</td>\n",
              "      <td>5.00</td>\n",
              "      <td>0.00</td>\n",
              "      <td>2.00</td>\n",
              "      <td>1.00</td>\n",
              "      <td>0.00</td>\n",
              "      <td>123584.87</td>\n",
              "      <td>0.00</td>\n",
              "    </tr>\n",
              "    <tr>\n",
              "      <th>75%</th>\n",
              "      <td>11249.25</td>\n",
              "      <td>15757181.50</td>\n",
              "      <td>708.00</td>\n",
              "      <td>42.00</td>\n",
              "      <td>7.00</td>\n",
              "      <td>109531.02</td>\n",
              "      <td>2.00</td>\n",
              "      <td>1.00</td>\n",
              "      <td>1.00</td>\n",
              "      <td>156884.70</td>\n",
              "      <td>0.00</td>\n",
              "    </tr>\n",
              "    <tr>\n",
              "      <th>max</th>\n",
              "      <td>14999.00</td>\n",
              "      <td>15815690.00</td>\n",
              "      <td>850.00</td>\n",
              "      <td>74.00</td>\n",
              "      <td>10.00</td>\n",
              "      <td>209767.31</td>\n",
              "      <td>4.00</td>\n",
              "      <td>1.00</td>\n",
              "      <td>1.00</td>\n",
              "      <td>199992.48</td>\n",
              "      <td>1.00</td>\n",
              "    </tr>\n",
              "  </tbody>\n",
              "</table>\n",
              "</div>\n",
              "    <div class=\"colab-df-buttons\">\n",
              "\n",
              "  <div class=\"colab-df-container\">\n",
              "    <button class=\"colab-df-convert\" onclick=\"convertToInteractive('df-aa56ea6d-82df-4ba0-8846-6a967cd1c607')\"\n",
              "            title=\"Convert this dataframe to an interactive table.\"\n",
              "            style=\"display:none;\">\n",
              "\n",
              "  <svg xmlns=\"http://www.w3.org/2000/svg\" height=\"24px\" viewBox=\"0 -960 960 960\">\n",
              "    <path d=\"M120-120v-720h720v720H120Zm60-500h600v-160H180v160Zm220 220h160v-160H400v160Zm0 220h160v-160H400v160ZM180-400h160v-160H180v160Zm440 0h160v-160H620v160ZM180-180h160v-160H180v160Zm440 0h160v-160H620v160Z\"/>\n",
              "  </svg>\n",
              "    </button>\n",
              "\n",
              "  <style>\n",
              "    .colab-df-container {\n",
              "      display:flex;\n",
              "      gap: 12px;\n",
              "    }\n",
              "\n",
              "    .colab-df-convert {\n",
              "      background-color: #E8F0FE;\n",
              "      border: none;\n",
              "      border-radius: 50%;\n",
              "      cursor: pointer;\n",
              "      display: none;\n",
              "      fill: #1967D2;\n",
              "      height: 32px;\n",
              "      padding: 0 0 0 0;\n",
              "      width: 32px;\n",
              "    }\n",
              "\n",
              "    .colab-df-convert:hover {\n",
              "      background-color: #E2EBFA;\n",
              "      box-shadow: 0px 1px 2px rgba(60, 64, 67, 0.3), 0px 1px 3px 1px rgba(60, 64, 67, 0.15);\n",
              "      fill: #174EA6;\n",
              "    }\n",
              "\n",
              "    .colab-df-buttons div {\n",
              "      margin-bottom: 4px;\n",
              "    }\n",
              "\n",
              "    [theme=dark] .colab-df-convert {\n",
              "      background-color: #3B4455;\n",
              "      fill: #D2E3FC;\n",
              "    }\n",
              "\n",
              "    [theme=dark] .colab-df-convert:hover {\n",
              "      background-color: #434B5C;\n",
              "      box-shadow: 0px 1px 3px 1px rgba(0, 0, 0, 0.15);\n",
              "      filter: drop-shadow(0px 1px 2px rgba(0, 0, 0, 0.3));\n",
              "      fill: #FFFFFF;\n",
              "    }\n",
              "  </style>\n",
              "\n",
              "    <script>\n",
              "      const buttonEl =\n",
              "        document.querySelector('#df-aa56ea6d-82df-4ba0-8846-6a967cd1c607 button.colab-df-convert');\n",
              "      buttonEl.style.display =\n",
              "        google.colab.kernel.accessAllowed ? 'block' : 'none';\n",
              "\n",
              "      async function convertToInteractive(key) {\n",
              "        const element = document.querySelector('#df-aa56ea6d-82df-4ba0-8846-6a967cd1c607');\n",
              "        const dataTable =\n",
              "          await google.colab.kernel.invokeFunction('convertToInteractive',\n",
              "                                                    [key], {});\n",
              "        if (!dataTable) return;\n",
              "\n",
              "        const docLinkHtml = 'Like what you see? Visit the ' +\n",
              "          '<a target=\"_blank\" href=https://colab.research.google.com/notebooks/data_table.ipynb>data table notebook</a>'\n",
              "          + ' to learn more about interactive tables.';\n",
              "        element.innerHTML = '';\n",
              "        dataTable['output_type'] = 'display_data';\n",
              "        await google.colab.output.renderOutput(dataTable, element);\n",
              "        const docLink = document.createElement('div');\n",
              "        docLink.innerHTML = docLinkHtml;\n",
              "        element.appendChild(docLink);\n",
              "      }\n",
              "    </script>\n",
              "  </div>\n",
              "\n",
              "\n",
              "<div id=\"df-dc1d59da-808e-4a39-bae5-67dd7e189996\">\n",
              "  <button class=\"colab-df-quickchart\" onclick=\"quickchart('df-dc1d59da-808e-4a39-bae5-67dd7e189996')\"\n",
              "            title=\"Suggest charts\"\n",
              "            style=\"display:none;\">\n",
              "\n",
              "<svg xmlns=\"http://www.w3.org/2000/svg\" height=\"24px\"viewBox=\"0 0 24 24\"\n",
              "     width=\"24px\">\n",
              "    <g>\n",
              "        <path d=\"M19 3H5c-1.1 0-2 .9-2 2v14c0 1.1.9 2 2 2h14c1.1 0 2-.9 2-2V5c0-1.1-.9-2-2-2zM9 17H7v-7h2v7zm4 0h-2V7h2v10zm4 0h-2v-4h2v4z\"/>\n",
              "    </g>\n",
              "</svg>\n",
              "  </button>\n",
              "\n",
              "<style>\n",
              "  .colab-df-quickchart {\n",
              "      --bg-color: #E8F0FE;\n",
              "      --fill-color: #1967D2;\n",
              "      --hover-bg-color: #E2EBFA;\n",
              "      --hover-fill-color: #174EA6;\n",
              "      --disabled-fill-color: #AAA;\n",
              "      --disabled-bg-color: #DDD;\n",
              "  }\n",
              "\n",
              "  [theme=dark] .colab-df-quickchart {\n",
              "      --bg-color: #3B4455;\n",
              "      --fill-color: #D2E3FC;\n",
              "      --hover-bg-color: #434B5C;\n",
              "      --hover-fill-color: #FFFFFF;\n",
              "      --disabled-bg-color: #3B4455;\n",
              "      --disabled-fill-color: #666;\n",
              "  }\n",
              "\n",
              "  .colab-df-quickchart {\n",
              "    background-color: var(--bg-color);\n",
              "    border: none;\n",
              "    border-radius: 50%;\n",
              "    cursor: pointer;\n",
              "    display: none;\n",
              "    fill: var(--fill-color);\n",
              "    height: 32px;\n",
              "    padding: 0;\n",
              "    width: 32px;\n",
              "  }\n",
              "\n",
              "  .colab-df-quickchart:hover {\n",
              "    background-color: var(--hover-bg-color);\n",
              "    box-shadow: 0 1px 2px rgba(60, 64, 67, 0.3), 0 1px 3px 1px rgba(60, 64, 67, 0.15);\n",
              "    fill: var(--button-hover-fill-color);\n",
              "  }\n",
              "\n",
              "  .colab-df-quickchart-complete:disabled,\n",
              "  .colab-df-quickchart-complete:disabled:hover {\n",
              "    background-color: var(--disabled-bg-color);\n",
              "    fill: var(--disabled-fill-color);\n",
              "    box-shadow: none;\n",
              "  }\n",
              "\n",
              "  .colab-df-spinner {\n",
              "    border: 2px solid var(--fill-color);\n",
              "    border-color: transparent;\n",
              "    border-bottom-color: var(--fill-color);\n",
              "    animation:\n",
              "      spin 1s steps(1) infinite;\n",
              "  }\n",
              "\n",
              "  @keyframes spin {\n",
              "    0% {\n",
              "      border-color: transparent;\n",
              "      border-bottom-color: var(--fill-color);\n",
              "      border-left-color: var(--fill-color);\n",
              "    }\n",
              "    20% {\n",
              "      border-color: transparent;\n",
              "      border-left-color: var(--fill-color);\n",
              "      border-top-color: var(--fill-color);\n",
              "    }\n",
              "    30% {\n",
              "      border-color: transparent;\n",
              "      border-left-color: var(--fill-color);\n",
              "      border-top-color: var(--fill-color);\n",
              "      border-right-color: var(--fill-color);\n",
              "    }\n",
              "    40% {\n",
              "      border-color: transparent;\n",
              "      border-right-color: var(--fill-color);\n",
              "      border-top-color: var(--fill-color);\n",
              "    }\n",
              "    60% {\n",
              "      border-color: transparent;\n",
              "      border-right-color: var(--fill-color);\n",
              "    }\n",
              "    80% {\n",
              "      border-color: transparent;\n",
              "      border-right-color: var(--fill-color);\n",
              "      border-bottom-color: var(--fill-color);\n",
              "    }\n",
              "    90% {\n",
              "      border-color: transparent;\n",
              "      border-bottom-color: var(--fill-color);\n",
              "    }\n",
              "  }\n",
              "</style>\n",
              "\n",
              "  <script>\n",
              "    async function quickchart(key) {\n",
              "      const quickchartButtonEl =\n",
              "        document.querySelector('#' + key + ' button');\n",
              "      quickchartButtonEl.disabled = true;  // To prevent multiple clicks.\n",
              "      quickchartButtonEl.classList.add('colab-df-spinner');\n",
              "      try {\n",
              "        const charts = await google.colab.kernel.invokeFunction(\n",
              "            'suggestCharts', [key], {});\n",
              "      } catch (error) {\n",
              "        console.error('Error during call to suggestCharts:', error);\n",
              "      }\n",
              "      quickchartButtonEl.classList.remove('colab-df-spinner');\n",
              "      quickchartButtonEl.classList.add('colab-df-quickchart-complete');\n",
              "    }\n",
              "    (() => {\n",
              "      let quickchartButtonEl =\n",
              "        document.querySelector('#df-dc1d59da-808e-4a39-bae5-67dd7e189996 button');\n",
              "      quickchartButtonEl.style.display =\n",
              "        google.colab.kernel.accessAllowed ? 'block' : 'none';\n",
              "    })();\n",
              "  </script>\n",
              "</div>\n",
              "    </div>\n",
              "  </div>\n"
            ],
            "application/vnd.google.colaboratory.intrinsic+json": {
              "type": "dataframe",
              "summary": "{\n  \"name\": \"raw_df\",\n  \"rows\": 8,\n  \"fields\": [\n    {\n      \"column\": \"id\",\n      \"properties\": {\n        \"dtype\": \"number\",\n        \"std\": 5405.853601715411,\n        \"min\": 0.0,\n        \"max\": 15000.0,\n        \"num_unique_values\": 7,\n        \"samples\": [\n          15000.0,\n          7499.5,\n          11249.25\n        ],\n        \"semantic_type\": \"\",\n        \"description\": \"\"\n      }\n    },\n    {\n      \"column\": \"CustomerId\",\n      \"properties\": {\n        \"dtype\": \"number\",\n        \"std\": 7850135.287495876,\n        \"min\": 15000.0,\n        \"max\": 15815690.0,\n        \"num_unique_values\": 8,\n        \"samples\": [\n          15691456.6808,\n          15690175.0,\n          15000.0\n        ],\n        \"semantic_type\": \"\",\n        \"description\": \"\"\n      }\n    },\n    {\n      \"column\": \"CreditScore\",\n      \"properties\": {\n        \"dtype\": \"number\",\n        \"std\": 5107.362733337686,\n        \"min\": 72.25592575585755,\n        \"max\": 15000.0,\n        \"num_unique_values\": 8,\n        \"samples\": [\n          658.9441333333333,\n          662.0,\n          15000.0\n        ],\n        \"semantic_type\": \"\",\n        \"description\": \"\"\n      }\n    },\n    {\n      \"column\": \"Age\",\n      \"properties\": {\n        \"dtype\": \"number\",\n        \"std\": 5290.761610692729,\n        \"min\": 8.218363255923181,\n        \"max\": 15000.0,\n        \"num_unique_values\": 8,\n        \"samples\": [\n          37.7396,\n          37.0,\n          15000.0\n        ],\n        \"semantic_type\": \"\",\n        \"description\": \"\"\n      }\n    },\n    {\n      \"column\": \"Tenure\",\n      \"properties\": {\n        \"dtype\": \"number\",\n        \"std\": 5301.644949228448,\n        \"min\": 0.0,\n        \"max\": 15000.0,\n        \"num_unique_values\": 8,\n        \"samples\": [\n          5.025266666666667,\n          5.0,\n          15000.0\n        ],\n        \"semantic_type\": \"\",\n        \"description\": \"\"\n      }\n    },\n    {\n      \"column\": \"Balance\",\n      \"properties\": {\n        \"dtype\": \"number\",\n        \"std\": 73458.58081552986,\n        \"min\": 0.0,\n        \"max\": 209767.31,\n        \"num_unique_values\": 6,\n        \"samples\": [\n          15000.0,\n          42729.791988,\n          209767.31\n        ],\n        \"semantic_type\": \"\",\n        \"description\": \"\"\n      }\n    },\n    {\n      \"column\": \"NumOfProducts\",\n      \"properties\": {\n        \"dtype\": \"number\",\n        \"std\": 5302.688648144171,\n        \"min\": 0.5323063205431294,\n        \"max\": 15000.0,\n        \"num_unique_values\": 6,\n        \"samples\": [\n          15000.0,\n          1.5909333333333333,\n          4.0\n        ],\n        \"semantic_type\": \"\",\n        \"description\": \"\"\n      }\n    },\n    {\n      \"column\": \"HasCrCard\",\n      \"properties\": {\n        \"dtype\": \"number\",\n        \"std\": 5303.038384627647,\n        \"min\": 0.0,\n        \"max\": 15000.0,\n        \"num_unique_values\": 5,\n        \"samples\": [\n          0.7888,\n          1.0,\n          0.40817357465232057\n        ],\n        \"semantic_type\": \"\",\n        \"description\": \"\"\n      }\n    },\n    {\n      \"column\": \"IsActiveMember\",\n      \"properties\": {\n        \"dtype\": \"number\",\n        \"std\": 5303.1498788180725,\n        \"min\": 0.0,\n        \"max\": 15000.0,\n        \"num_unique_values\": 5,\n        \"samples\": [\n          0.48966666666666664,\n          1.0,\n          0.4999098747585243\n        ],\n        \"semantic_type\": \"\",\n        \"description\": \"\"\n      }\n    },\n    {\n      \"column\": \"EstimatedSalary\",\n      \"properties\": {\n        \"dtype\": \"number\",\n        \"std\": 69838.18523709789,\n        \"min\": 11.58,\n        \"max\": 199992.48,\n        \"num_unique_values\": 8,\n        \"samples\": [\n          117784.66619333334,\n          123584.87,\n          15000.0\n        ],\n        \"semantic_type\": \"\",\n        \"description\": \"\"\n      }\n    },\n    {\n      \"column\": \"Exited\",\n      \"properties\": {\n        \"dtype\": \"number\",\n        \"std\": 5303.219752029091,\n        \"min\": 0.0,\n        \"max\": 15000.0,\n        \"num_unique_values\": 5,\n        \"samples\": [\n          0.20346666666666666,\n          1.0,\n          0.40259009858008776\n        ],\n        \"semantic_type\": \"\",\n        \"description\": \"\"\n      }\n    }\n  ]\n}"
            }
          },
          "metadata": {},
          "execution_count": 16
        }
      ]
    },
    {
      "cell_type": "code",
      "source": [
        "# Checking for missing values in the dataset\n",
        "raw_df.isna().sum()"
      ],
      "metadata": {
        "colab": {
          "base_uri": "https://localhost:8080/",
          "height": 523
        },
        "id": "y9XepGt42gGA",
        "outputId": "2b41aa73-1286-4462-89fb-9c827adfd896"
      },
      "execution_count": 17,
      "outputs": [
        {
          "output_type": "execute_result",
          "data": {
            "text/plain": [
              "id                 0\n",
              "CustomerId         0\n",
              "Surname            0\n",
              "CreditScore        0\n",
              "Geography          0\n",
              "Gender             0\n",
              "Age                0\n",
              "Tenure             0\n",
              "Balance            0\n",
              "NumOfProducts      0\n",
              "HasCrCard          0\n",
              "IsActiveMember     0\n",
              "EstimatedSalary    0\n",
              "Exited             0\n",
              "dtype: int64"
            ],
            "text/html": [
              "<div>\n",
              "<style scoped>\n",
              "    .dataframe tbody tr th:only-of-type {\n",
              "        vertical-align: middle;\n",
              "    }\n",
              "\n",
              "    .dataframe tbody tr th {\n",
              "        vertical-align: top;\n",
              "    }\n",
              "\n",
              "    .dataframe thead th {\n",
              "        text-align: right;\n",
              "    }\n",
              "</style>\n",
              "<table border=\"1\" class=\"dataframe\">\n",
              "  <thead>\n",
              "    <tr style=\"text-align: right;\">\n",
              "      <th></th>\n",
              "      <th>0</th>\n",
              "    </tr>\n",
              "  </thead>\n",
              "  <tbody>\n",
              "    <tr>\n",
              "      <th>id</th>\n",
              "      <td>0</td>\n",
              "    </tr>\n",
              "    <tr>\n",
              "      <th>CustomerId</th>\n",
              "      <td>0</td>\n",
              "    </tr>\n",
              "    <tr>\n",
              "      <th>Surname</th>\n",
              "      <td>0</td>\n",
              "    </tr>\n",
              "    <tr>\n",
              "      <th>CreditScore</th>\n",
              "      <td>0</td>\n",
              "    </tr>\n",
              "    <tr>\n",
              "      <th>Geography</th>\n",
              "      <td>0</td>\n",
              "    </tr>\n",
              "    <tr>\n",
              "      <th>Gender</th>\n",
              "      <td>0</td>\n",
              "    </tr>\n",
              "    <tr>\n",
              "      <th>Age</th>\n",
              "      <td>0</td>\n",
              "    </tr>\n",
              "    <tr>\n",
              "      <th>Tenure</th>\n",
              "      <td>0</td>\n",
              "    </tr>\n",
              "    <tr>\n",
              "      <th>Balance</th>\n",
              "      <td>0</td>\n",
              "    </tr>\n",
              "    <tr>\n",
              "      <th>NumOfProducts</th>\n",
              "      <td>0</td>\n",
              "    </tr>\n",
              "    <tr>\n",
              "      <th>HasCrCard</th>\n",
              "      <td>0</td>\n",
              "    </tr>\n",
              "    <tr>\n",
              "      <th>IsActiveMember</th>\n",
              "      <td>0</td>\n",
              "    </tr>\n",
              "    <tr>\n",
              "      <th>EstimatedSalary</th>\n",
              "      <td>0</td>\n",
              "    </tr>\n",
              "    <tr>\n",
              "      <th>Exited</th>\n",
              "      <td>0</td>\n",
              "    </tr>\n",
              "  </tbody>\n",
              "</table>\n",
              "</div><br><label><b>dtype:</b> int64</label>"
            ]
          },
          "metadata": {},
          "execution_count": 17
        }
      ]
    },
    {
      "cell_type": "markdown",
      "source": [
        "**Data Quality Check**\n"
      ],
      "metadata": {
        "id": "68eEXZRnmv4f"
      }
    },
    {
      "cell_type": "markdown",
      "source": [
        "We perform a check to ensure that columns such as Age, CreditScore, CustomerId, etc., do not contain fractional values when they are expected to hold integer values."
      ],
      "metadata": {
        "id": "e_vzTmIlmzbf"
      }
    },
    {
      "cell_type": "code",
      "source": [
        "# check for fractional results in these columns\n",
        "fractional_values_check = {\n",
        "    'Age': raw_df[raw_df['Age'] % 1 != 0].shape[0],\n",
        "    'CreditScore':  raw_df[raw_df['CreditScore'] % 1 != 0].shape[0],\n",
        "    'CustomerId':  raw_df[raw_df['CustomerId'] % 1 != 0].shape[0],\n",
        "    'Tenure': raw_df[raw_df['Tenure'] % 1 != 0].shape[0],\n",
        "    'NumOfProducts': raw_df[raw_df['NumOfProducts'] % 1 != 0].shape[0],\n",
        "    'HasCrCard': raw_df[raw_df['HasCrCard'] % 1 != 0].shape[0],\n",
        "    'IsActiveMember': raw_df[raw_df['IsActiveMember'] % 1 != 0].shape[0],\n",
        "    'Exited': raw_df[raw_df['Exited'] % 1 != 0].shape[0],\n",
        "}\n",
        "fractional_values_check"
      ],
      "metadata": {
        "colab": {
          "base_uri": "https://localhost:8080/"
        },
        "id": "eJQIibDimOmp",
        "outputId": "017502d2-b1fa-4089-f2df-578c97d797f2"
      },
      "execution_count": 18,
      "outputs": [
        {
          "output_type": "execute_result",
          "data": {
            "text/plain": [
              "{'Age': 0,\n",
              " 'CreditScore': 0,\n",
              " 'CustomerId': 0,\n",
              " 'Tenure': 0,\n",
              " 'NumOfProducts': 0,\n",
              " 'HasCrCard': 0,\n",
              " 'IsActiveMember': 0,\n",
              " 'Exited': 0}"
            ]
          },
          "metadata": {},
          "execution_count": 18
        }
      ]
    },
    {
      "cell_type": "markdown",
      "source": [
        "We correct the data types for certain columns to ensure consistency and to avoid issues later in the pipeline. For example, we convert CustomerId, CreditScore, Age, etc., from floating-point values to integers."
      ],
      "metadata": {
        "id": "CK_cJIDhm7KE"
      }
    },
    {
      "cell_type": "code",
      "source": [
        "# Correct data types\n",
        "raw_df['CustomerId'] = raw_df['CustomerId'].astype(int)\n",
        "raw_df['CreditScore'] = raw_df['CreditScore'].astype(int)\n",
        "raw_df['Age'] = raw_df['Age'].astype(int)\n",
        "raw_df['Tenure'] = raw_df['Tenure'].astype(int)\n",
        "raw_df['Exited'] = raw_df['Exited'].astype(int)\n",
        "raw_df['NumOfProducts'] = raw_df['NumOfProducts'].astype(int)\n",
        "raw_df['HasCrCard'] = raw_df['HasCrCard'].astype(int)\n",
        "raw_df['IsActiveMember'] = raw_df['IsActiveMember'].astype(int)"
      ],
      "metadata": {
        "id": "Oql9hd1emYDs"
      },
      "execution_count": 19,
      "outputs": []
    },
    {
      "cell_type": "markdown",
      "source": [
        "**Splitting Data into Training and Validation Sets**\n"
      ],
      "metadata": {
        "id": "o7XFjeAWnIOh"
      }
    },
    {
      "cell_type": "markdown",
      "source": [
        "Here, we split the dataset into features (X) and target (y). We then use train_test_split with stratification to create training and validation datasets. Stratification ensures that the target variable's distribution is the same in both the training and validation sets, which is especially important when working with imbalanced datasets (like customer churn)."
      ],
      "metadata": {
        "id": "seRp2Ky8nKUg"
      }
    },
    {
      "cell_type": "code",
      "source": [
        "# Split the data into features and target\n",
        "X = raw_df.drop('Exited', axis=1)\n",
        "y = raw_df['Exited']\n",
        "\n",
        "# Split the data into training and validation sets with stratification\n",
        "# This parameter indicates that the data split should be stratified according to the variable y.\n",
        "# This means that the distribution of classes in the training and validation sets will be similar\n",
        "# to the distribution of classes in the original dataset. This is important if you have imbalanced classes.\n",
        "# train_val_df, test_df = train_test_split(raw_df, test_size=0.2, random_state=42, stratify=raw_df['Exited'])\n",
        "X_train, X_val, y_train, y_val = train_test_split(X, y, test_size=0.2, stratify=y, random_state=42)\n",
        "\n",
        "# Display the shapes of the splits\n",
        "print(f\"Training set shape: {X_train.shape}, {y_train.shape}\")\n",
        "print(f\"Validation set shape: {X_val.shape}, {y_val.shape}\")\n",
        "\n",
        "# Display the first few rows of the training set\n",
        "print(X_train.head())\n",
        "print(y_train.head())"
      ],
      "metadata": {
        "colab": {
          "base_uri": "https://localhost:8080/"
        },
        "id": "JzM18B4uBQEt",
        "outputId": "53e0e994-85ce-4827-fd7c-813528999830"
      },
      "execution_count": 20,
      "outputs": [
        {
          "output_type": "stream",
          "name": "stdout",
          "text": [
            "Training set shape: (12000, 13), (12000,)\n",
            "Validation set shape: (3000, 13), (3000,)\n",
            "          id  CustomerId    Surname  CreditScore Geography  Gender  Age  Tenure   Balance  NumOfProducts  HasCrCard  IsActiveMember  EstimatedSalary\n",
            "7180    7180    15652218       Mays          682    France    Male   30       1 131394.56              1          1               1        143952.24\n",
            "10393  10393    15592937     Ch'eng          684    France  Female   39       2 178058.06              1          1               0        145518.31\n",
            "80        80    15774586      Ch'in          705   Germany    Male   35       6 116320.68              2          1               0        174431.01\n",
            "3365    3365    15780572         K?          669     Spain    Male   58       0      0.00              2          0               1         51565.98\n",
            "12236  12236    15642099  Trevisani          707    France    Male   21       3      0.00              2          1               1        148564.76\n",
            "7180     0\n",
            "10393    0\n",
            "80       0\n",
            "3365     0\n",
            "12236    0\n",
            "Name: Exited, dtype: int64\n"
          ]
        }
      ]
    },
    {
      "cell_type": "markdown",
      "source": [
        "`Customer ID`: A unique identifier for each customer (this field contains duplicates for different customer information, so we simply remove it).\n"
      ],
      "metadata": {
        "id": "sh2SZxg16m6u"
      }
    },
    {
      "cell_type": "markdown",
      "source": [
        "## Checking for Unique Users\n"
      ],
      "metadata": {
        "id": "kZARy5Ihn_9-"
      }
    },
    {
      "cell_type": "markdown",
      "source": [
        "We perform some additional analysis by checking the uniqueness of the Surname and CustomerId columns in the train and validation sets. This helps us understand how many unique customers we have in each dataset."
      ],
      "metadata": {
        "id": "IR8JBSt3oHS9"
      }
    },
    {
      "cell_type": "markdown",
      "source": [
        "**Check for unique users based on 'Surname'**"
      ],
      "metadata": {
        "id": "kT43eAcSo6ER"
      }
    },
    {
      "cell_type": "code",
      "source": [
        "# Check for unique users based on 'Surname'\n",
        "train_unique_users = X_train['Surname'].nunique()\n",
        "val_unique_users = X_val['Surname'].nunique()\n",
        "total_unique_users = raw_df['Surname'].nunique()\n",
        "\n",
        "# Create a bar plot\n",
        "labels = ['Train Set', 'Validation Set', 'Total Dataset']\n",
        "unique_users_counts = [train_unique_users, val_unique_users, total_unique_users]\n",
        "\n",
        "plt.figure(figsize=(10, 6))\n",
        "plt.bar(labels, unique_users_counts, color=['blue', 'green', 'red'])\n",
        "plt.xlabel('Dataset')\n",
        "plt.ylabel('Number of Unique Users')\n",
        "plt.title('Number of Unique Users in Train, Validation, and Total Datasets')\n",
        "plt.show()"
      ],
      "metadata": {
        "colab": {
          "base_uri": "https://localhost:8080/",
          "height": 564
        },
        "id": "EvRGRTkKgJRT",
        "outputId": "5917809c-3419-4874-d6c2-9dcec23daeb0"
      },
      "execution_count": 21,
      "outputs": [
        {
          "output_type": "display_data",
          "data": {
            "text/plain": [
              "<Figure size 1000x600 with 1 Axes>"
            ],
            "image/png": "[encoded data removed]"
          },
          "metadata": {}
        }
      ]
    },
    {
      "cell_type": "markdown",
      "source": [
        "- The training dataset contains around 5700 unique surnames.\n",
        "- The validation set has fewer unique surnames, indicating that some surnames are repeated across different subsets.\n",
        "- Overall, the total dataset has 6348 unique surnames, showing that some customers are listed multiple times due to varying information."
      ],
      "metadata": {
        "id": "qZsStBRmowsu"
      }
    },
    {
      "cell_type": "markdown",
      "source": [
        "**Check for unique users based on 'CustomerId'**"
      ],
      "metadata": {
        "id": "PwqmK27Ro8CM"
      }
    },
    {
      "cell_type": "code",
      "source": [
        "# Check for unique users based on 'CustomerId'\n",
        "train_unique_users = X_train['CustomerId'].nunique()\n",
        "val_unique_users = X_val['CustomerId'].nunique()\n",
        "total_unique_users = raw_df['CustomerId'].nunique()\n",
        "\n",
        "# Create a bar plot\n",
        "labels = ['Train Set', 'Validation Set', 'Total Dataset']\n",
        "unique_users_counts = [train_unique_users, val_unique_users, total_unique_users]\n",
        "\n",
        "plt.figure(figsize=(10, 6))\n",
        "plt.bar(labels, unique_users_counts, color=['blue', 'green', 'red'])\n",
        "plt.xlabel('Dataset')\n",
        "plt.ylabel('Number of Unique Users')\n",
        "plt.title('Number of Unique Users in Train, Validation, and Total Datasets')\n",
        "plt.show()"
      ],
      "metadata": {
        "colab": {
          "base_uri": "https://localhost:8080/",
          "height": 564
        },
        "id": "349MUh2s7nLx",
        "outputId": "6de45acf-0d29-4f31-a3e0-45b0c3053497"
      },
      "execution_count": 22,
      "outputs": [
        {
          "output_type": "display_data",
          "data": {
            "text/plain": [
              "<Figure size 1000x600 with 1 Axes>"
            ],
            "image/png": "[encoded data removed]"
          },
          "metadata": {}
        }
      ]
    },
    {
      "cell_type": "markdown",
      "source": [
        "- The total number of unique CustomerId values is 6348, which means that this field can help us uniquely identify customers in the dataset.\n",
        "- There is a similar pattern between the train and validation sets when we examine the CustomerId column, with fewer unique IDs in the validation set.\n",
        "- Based on this observation, we will drop the CustomerId column since it doesn't contribute meaningfully to the prediction task and might introduce data leakage due to repetition."
      ],
      "metadata": {
        "id": "4TCkkHF-pHYj"
      }
    },
    {
      "cell_type": "code",
      "source": [
        "train_unique_users,val_unique_users,total_unique_users"
      ],
      "metadata": {
        "colab": {
          "base_uri": "https://localhost:8080/"
        },
        "id": "V2Qd-cp8jWOu",
        "outputId": "5097c4af-d6a4-4903-952d-ac7420072b7a"
      },
      "execution_count": 23,
      "outputs": [
        {
          "output_type": "execute_result",
          "data": {
            "text/plain": [
              "(5700, 2327, 6348)"
            ]
          },
          "metadata": {},
          "execution_count": 23
        }
      ]
    },
    {
      "cell_type": "markdown",
      "source": [
        "#### Summary of Unique Users:\n",
        "- **Train Set:** 5700 unique users based on `Surname`.\n",
        "- **Validation Set:** 2327 unique users based on `Surname`.\n",
        "- **Total Dataset:** 6348 unique users in total.\n",
        "\n",
        "This shows that there is some overlap between the train and validation sets, but overall, the `Surname` column provides a significant number of unique identifiers for customers across the dataset.\n"
      ],
      "metadata": {
        "id": "imowGqEtpbyC"
      }
    },
    {
      "cell_type": "markdown",
      "source": [
        "### 2. Define Input and Target Columns\n",
        "Next, we identify the input (independent) columns for the features and the target column for prediction. These will be stored in `input_cols` and `target_col`, respectively.\n",
        "\n",
        "In the previous task, the `train_test_split` method was used with the `stratify` parameter, which ensures that the distribution of the target variable (`Exited`) remains consistent across the training and validation sets. Therefore, we no longer need to explicitly define the input columns and target column to perform the split.\n"
      ],
      "metadata": {
        "id": "1xoQanewp4K7"
      }
    },
    {
      "cell_type": "code",
      "source": [
        "# Uncomment if manual column selection is needed\n",
        "#input_cols = list(X_train.columns)[1:-1]\n",
        "#target_col = 'Exited'"
      ],
      "metadata": {
        "id": "zBBZzW6zsKbh"
      },
      "execution_count": 24,
      "outputs": []
    },
    {
      "cell_type": "markdown",
      "source": [
        "We proceed to create datasets for training and validation:\n",
        "\n",
        "- train_inputs: Training feature data.\n",
        "- train_targets: Training target data (Exited).\n",
        "- val_inputs: Validation feature data.\n",
        "- val_targets: Validation target data (Exited)."
      ],
      "metadata": {
        "id": "rQEFfwOeqGao"
      }
    },
    {
      "cell_type": "code",
      "source": [
        "# Create the specified datasets\n",
        "train_inputs = X_train.copy()\n",
        "train_targets = y_train.copy()\n",
        "val_inputs = X_val.copy()\n",
        "val_targets = y_val.copy()"
      ],
      "metadata": {
        "id": "TwiX3K4Xn2IL"
      },
      "execution_count": 25,
      "outputs": []
    },
    {
      "cell_type": "markdown",
      "source": [
        "By copying the original splits into these new variables, we ensure our data is ready for further processing without altering the original data structures. This step is crucial for maintaining the integrity of the training and validation data during preprocessing."
      ],
      "metadata": {
        "id": "xl7Qk9dTqQr0"
      }
    },
    {
      "cell_type": "markdown",
      "source": [
        "### 3. Identifying Numerical and Categorical Columns\n",
        "In this step, we will use `pandas.DataFrame.select_dtypes` to differentiate between numerical and categorical columns in our dataset. The identified columns will be stored in two separate lists: `numeric_cols` for numerical features and `categorical_cols` for categorical features."
      ],
      "metadata": {
        "id": "4YpaY8TjrKEK"
      }
    },
    {
      "cell_type": "code",
      "source": [
        "# Identifying numerical columns\n",
        "numeric_cols = train_inputs.select_dtypes(include=np.number).columns.tolist()\n",
        "# Identifying categorical columns\n",
        "categorical_cols = train_inputs.select_dtypes('object').columns.tolist()\n",
        "\n",
        "# Displaying the results\n",
        "numeric_cols, categorical_cols"
      ],
      "metadata": {
        "id": "pz6Et14-2eRH",
        "colab": {
          "base_uri": "https://localhost:8080/"
        },
        "outputId": "ebdadffe-9cc3-4ea4-ae18-e463a7564e41"
      },
      "execution_count": 26,
      "outputs": [
        {
          "output_type": "execute_result",
          "data": {
            "text/plain": [
              "(['id',\n",
              "  'CustomerId',\n",
              "  'CreditScore',\n",
              "  'Age',\n",
              "  'Tenure',\n",
              "  'Balance',\n",
              "  'NumOfProducts',\n",
              "  'HasCrCard',\n",
              "  'IsActiveMember',\n",
              "  'EstimatedSalary'],\n",
              " ['Surname', 'Geography', 'Gender'])"
            ]
          },
          "metadata": {},
          "execution_count": 26
        }
      ]
    },
    {
      "cell_type": "markdown",
      "source": [
        "Now that we’ve identified the numerical columns, let’s generate summary statistics using the describe() method to understand the distribution of each numerical feature. We round the values to two decimal places for better readability."
      ],
      "metadata": {
        "id": "r8BshaTkr0n9"
      }
    },
    {
      "cell_type": "code",
      "source": [
        "# Generating summary statistics for the numerical columns\n",
        "train_inputs[numeric_cols].describe().round(2)"
      ],
      "metadata": {
        "colab": {
          "base_uri": "https://localhost:8080/",
          "height": 300
        },
        "id": "EG-YFe1dkKwO",
        "outputId": "c796637c-1d9b-4784-f574-a6f6e1fa5512"
      },
      "execution_count": 27,
      "outputs": [
        {
          "output_type": "execute_result",
          "data": {
            "text/plain": [
              "            id  CustomerId  CreditScore      Age   Tenure   Balance  NumOfProducts  HasCrCard  IsActiveMember  EstimatedSalary\n",
              "count 12000.00    12000.00     12000.00 12000.00 12000.00  12000.00       12000.00   12000.00        12000.00         12000.00\n",
              "mean   7479.63 15690923.99       658.84    37.69     5.03  43008.17           1.59       0.79            0.49        117992.40\n",
              "std    4334.09   146930.97        72.33     8.14     2.78  59906.63           0.53       0.41            0.50         45589.48\n",
              "min       0.00  1581102.00       431.00    18.00     0.00      0.00           1.00       0.00            0.00            11.58\n",
              "25%    3725.75 15635116.00       603.00    32.00     3.00      0.00           1.00       1.00            0.00         83343.73\n",
              "50%    7471.50 15689953.00       661.00    37.00     5.00      0.00           2.00       1.00            0.00        123613.91\n",
              "75%   11231.25 15756921.50       708.00    42.00     7.00 109949.05           2.00       1.00            1.00        156912.81\n",
              "max   14999.00 15815690.00       850.00    74.00    10.00 209767.31           4.00       1.00            1.00        199992.48"
            ],
            "text/html": [
              "\n",
              "  <div id=\"df-644795de-fbdd-45fe-a196-c475e69f4cff\" class=\"colab-df-container\">\n",
              "    <div>\n",
              "<style scoped>\n",
              "    .dataframe tbody tr th:only-of-type {\n",
              "        vertical-align: middle;\n",
              "    }\n",
              "\n",
              "    .dataframe tbody tr th {\n",
              "        vertical-align: top;\n",
              "    }\n",
              "\n",
              "    .dataframe thead th {\n",
              "        text-align: right;\n",
              "    }\n",
              "</style>\n",
              "<table border=\"1\" class=\"dataframe\">\n",
              "  <thead>\n",
              "    <tr style=\"text-align: right;\">\n",
              "      <th></th>\n",
              "      <th>id</th>\n",
              "      <th>CustomerId</th>\n",
              "      <th>CreditScore</th>\n",
              "      <th>Age</th>\n",
              "      <th>Tenure</th>\n",
              "      <th>Balance</th>\n",
              "      <th>NumOfProducts</th>\n",
              "      <th>HasCrCard</th>\n",
              "      <th>IsActiveMember</th>\n",
              "      <th>EstimatedSalary</th>\n",
              "    </tr>\n",
              "  </thead>\n",
              "  <tbody>\n",
              "    <tr>\n",
              "      <th>count</th>\n",
              "      <td>12000.00</td>\n",
              "      <td>12000.00</td>\n",
              "      <td>12000.00</td>\n",
              "      <td>12000.00</td>\n",
              "      <td>12000.00</td>\n",
              "      <td>12000.00</td>\n",
              "      <td>12000.00</td>\n",
              "      <td>12000.00</td>\n",
              "      <td>12000.00</td>\n",
              "      <td>12000.00</td>\n",
              "    </tr>\n",
              "    <tr>\n",
              "      <th>mean</th>\n",
              "      <td>7479.63</td>\n",
              "      <td>15690923.99</td>\n",
              "      <td>658.84</td>\n",
              "      <td>37.69</td>\n",
              "      <td>5.03</td>\n",
              "      <td>43008.17</td>\n",
              "      <td>1.59</td>\n",
              "      <td>0.79</td>\n",
              "      <td>0.49</td>\n",
              "      <td>117992.40</td>\n",
              "    </tr>\n",
              "    <tr>\n",
              "      <th>std</th>\n",
              "      <td>4334.09</td>\n",
              "      <td>146930.97</td>\n",
              "      <td>72.33</td>\n",
              "      <td>8.14</td>\n",
              "      <td>2.78</td>\n",
              "      <td>59906.63</td>\n",
              "      <td>0.53</td>\n",
              "      <td>0.41</td>\n",
              "      <td>0.50</td>\n",
              "      <td>45589.48</td>\n",
              "    </tr>\n",
              "    <tr>\n",
              "      <th>min</th>\n",
              "      <td>0.00</td>\n",
              "      <td>1581102.00</td>\n",
              "      <td>431.00</td>\n",
              "      <td>18.00</td>\n",
              "      <td>0.00</td>\n",
              "      <td>0.00</td>\n",
              "      <td>1.00</td>\n",
              "      <td>0.00</td>\n",
              "      <td>0.00</td>\n",
              "      <td>11.58</td>\n",
              "    </tr>\n",
              "    <tr>\n",
              "      <th>25%</th>\n",
              "      <td>3725.75</td>\n",
              "      <td>15635116.00</td>\n",
              "      <td>603.00</td>\n",
              "      <td>32.00</td>\n",
              "      <td>3.00</td>\n",
              "      <td>0.00</td>\n",
              "      <td>1.00</td>\n",
              "      <td>1.00</td>\n",
              "      <td>0.00</td>\n",
              "      <td>83343.73</td>\n",
              "    </tr>\n",
              "    <tr>\n",
              "      <th>50%</th>\n",
              "      <td>7471.50</td>\n",
              "      <td>15689953.00</td>\n",
              "      <td>661.00</td>\n",
              "      <td>37.00</td>\n",
              "      <td>5.00</td>\n",
              "      <td>0.00</td>\n",
              "      <td>2.00</td>\n",
              "      <td>1.00</td>\n",
              "      <td>0.00</td>\n",
              "      <td>123613.91</td>\n",
              "    </tr>\n",
              "    <tr>\n",
              "      <th>75%</th>\n",
              "      <td>11231.25</td>\n",
              "      <td>15756921.50</td>\n",
              "      <td>708.00</td>\n",
              "      <td>42.00</td>\n",
              "      <td>7.00</td>\n",
              "      <td>109949.05</td>\n",
              "      <td>2.00</td>\n",
              "      <td>1.00</td>\n",
              "      <td>1.00</td>\n",
              "      <td>156912.81</td>\n",
              "    </tr>\n",
              "    <tr>\n",
              "      <th>max</th>\n",
              "      <td>14999.00</td>\n",
              "      <td>15815690.00</td>\n",
              "      <td>850.00</td>\n",
              "      <td>74.00</td>\n",
              "      <td>10.00</td>\n",
              "      <td>209767.31</td>\n",
              "      <td>4.00</td>\n",
              "      <td>1.00</td>\n",
              "      <td>1.00</td>\n",
              "      <td>199992.48</td>\n",
              "    </tr>\n",
              "  </tbody>\n",
              "</table>\n",
              "</div>\n",
              "    <div class=\"colab-df-buttons\">\n",
              "\n",
              "  <div class=\"colab-df-container\">\n",
              "    <button class=\"colab-df-convert\" onclick=\"convertToInteractive('df-644795de-fbdd-45fe-a196-c475e69f4cff')\"\n",
              "            title=\"Convert this dataframe to an interactive table.\"\n",
              "            style=\"display:none;\">\n",
              "\n",
              "  <svg xmlns=\"http://www.w3.org/2000/svg\" height=\"24px\" viewBox=\"0 -960 960 960\">\n",
              "    <path d=\"M120-120v-720h720v720H120Zm60-500h600v-160H180v160Zm220 220h160v-160H400v160Zm0 220h160v-160H400v160ZM180-400h160v-160H180v160Zm440 0h160v-160H620v160ZM180-180h160v-160H180v160Zm440 0h160v-160H620v160Z\"/>\n",
              "  </svg>\n",
              "    </button>\n",
              "\n",
              "  <style>\n",
              "    .colab-df-container {\n",
              "      display:flex;\n",
              "      gap: 12px;\n",
              "    }\n",
              "\n",
              "    .colab-df-convert {\n",
              "      background-color: #E8F0FE;\n",
              "      border: none;\n",
              "      border-radius: 50%;\n",
              "      cursor: pointer;\n",
              "      display: none;\n",
              "      fill: #1967D2;\n",
              "      height: 32px;\n",
              "      padding: 0 0 0 0;\n",
              "      width: 32px;\n",
              "    }\n",
              "\n",
              "    .colab-df-convert:hover {\n",
              "      background-color: #E2EBFA;\n",
              "      box-shadow: 0px 1px 2px rgba(60, 64, 67, 0.3), 0px 1px 3px 1px rgba(60, 64, 67, 0.15);\n",
              "      fill: #174EA6;\n",
              "    }\n",
              "\n",
              "    .colab-df-buttons div {\n",
              "      margin-bottom: 4px;\n",
              "    }\n",
              "\n",
              "    [theme=dark] .colab-df-convert {\n",
              "      background-color: #3B4455;\n",
              "      fill: #D2E3FC;\n",
              "    }\n",
              "\n",
              "    [theme=dark] .colab-df-convert:hover {\n",
              "      background-color: #434B5C;\n",
              "      box-shadow: 0px 1px 3px 1px rgba(0, 0, 0, 0.15);\n",
              "      filter: drop-shadow(0px 1px 2px rgba(0, 0, 0, 0.3));\n",
              "      fill: #FFFFFF;\n",
              "    }\n",
              "  </style>\n",
              "\n",
              "    <script>\n",
              "      const buttonEl =\n",
              "        document.querySelector('#df-644795de-fbdd-45fe-a196-c475e69f4cff button.colab-df-convert');\n",
              "      buttonEl.style.display =\n",
              "        google.colab.kernel.accessAllowed ? 'block' : 'none';\n",
              "\n",
              "      async function convertToInteractive(key) {\n",
              "        const element = document.querySelector('#df-644795de-fbdd-45fe-a196-c475e69f4cff');\n",
              "        const dataTable =\n",
              "          await google.colab.kernel.invokeFunction('convertToInteractive',\n",
              "                                                    [key], {});\n",
              "        if (!dataTable) return;\n",
              "\n",
              "        const docLinkHtml = 'Like what you see? Visit the ' +\n",
              "          '<a target=\"_blank\" href=https://colab.research.google.com/notebooks/data_table.ipynb>data table notebook</a>'\n",
              "          + ' to learn more about interactive tables.';\n",
              "        element.innerHTML = '';\n",
              "        dataTable['output_type'] = 'display_data';\n",
              "        await google.colab.output.renderOutput(dataTable, element);\n",
              "        const docLink = document.createElement('div');\n",
              "        docLink.innerHTML = docLinkHtml;\n",
              "        element.appendChild(docLink);\n",
              "      }\n",
              "    </script>\n",
              "  </div>\n",
              "\n",
              "\n",
              "<div id=\"df-36f2ff88-ce1e-4b5f-8cd9-28cf4c316a09\">\n",
              "  <button class=\"colab-df-quickchart\" onclick=\"quickchart('df-36f2ff88-ce1e-4b5f-8cd9-28cf4c316a09')\"\n",
              "            title=\"Suggest charts\"\n",
              "            style=\"display:none;\">\n",
              "\n",
              "<svg xmlns=\"http://www.w3.org/2000/svg\" height=\"24px\"viewBox=\"0 0 24 24\"\n",
              "     width=\"24px\">\n",
              "    <g>\n",
              "        <path d=\"M19 3H5c-1.1 0-2 .9-2 2v14c0 1.1.9 2 2 2h14c1.1 0 2-.9 2-2V5c0-1.1-.9-2-2-2zM9 17H7v-7h2v7zm4 0h-2V7h2v10zm4 0h-2v-4h2v4z\"/>\n",
              "    </g>\n",
              "</svg>\n",
              "  </button>\n",
              "\n",
              "<style>\n",
              "  .colab-df-quickchart {\n",
              "      --bg-color: #E8F0FE;\n",
              "      --fill-color: #1967D2;\n",
              "      --hover-bg-color: #E2EBFA;\n",
              "      --hover-fill-color: #174EA6;\n",
              "      --disabled-fill-color: #AAA;\n",
              "      --disabled-bg-color: #DDD;\n",
              "  }\n",
              "\n",
              "  [theme=dark] .colab-df-quickchart {\n",
              "      --bg-color: #3B4455;\n",
              "      --fill-color: #D2E3FC;\n",
              "      --hover-bg-color: #434B5C;\n",
              "      --hover-fill-color: #FFFFFF;\n",
              "      --disabled-bg-color: #3B4455;\n",
              "      --disabled-fill-color: #666;\n",
              "  }\n",
              "\n",
              "  .colab-df-quickchart {\n",
              "    background-color: var(--bg-color);\n",
              "    border: none;\n",
              "    border-radius: 50%;\n",
              "    cursor: pointer;\n",
              "    display: none;\n",
              "    fill: var(--fill-color);\n",
              "    height: 32px;\n",
              "    padding: 0;\n",
              "    width: 32px;\n",
              "  }\n",
              "\n",
              "  .colab-df-quickchart:hover {\n",
              "    background-color: var(--hover-bg-color);\n",
              "    box-shadow: 0 1px 2px rgba(60, 64, 67, 0.3), 0 1px 3px 1px rgba(60, 64, 67, 0.15);\n",
              "    fill: var(--button-hover-fill-color);\n",
              "  }\n",
              "\n",
              "  .colab-df-quickchart-complete:disabled,\n",
              "  .colab-df-quickchart-complete:disabled:hover {\n",
              "    background-color: var(--disabled-bg-color);\n",
              "    fill: var(--disabled-fill-color);\n",
              "    box-shadow: none;\n",
              "  }\n",
              "\n",
              "  .colab-df-spinner {\n",
              "    border: 2px solid var(--fill-color);\n",
              "    border-color: transparent;\n",
              "    border-bottom-color: var(--fill-color);\n",
              "    animation:\n",
              "      spin 1s steps(1) infinite;\n",
              "  }\n",
              "\n",
              "  @keyframes spin {\n",
              "    0% {\n",
              "      border-color: transparent;\n",
              "      border-bottom-color: var(--fill-color);\n",
              "      border-left-color: var(--fill-color);\n",
              "    }\n",
              "    20% {\n",
              "      border-color: transparent;\n",
              "      border-left-color: var(--fill-color);\n",
              "      border-top-color: var(--fill-color);\n",
              "    }\n",
              "    30% {\n",
              "      border-color: transparent;\n",
              "      border-left-color: var(--fill-color);\n",
              "      border-top-color: var(--fill-color);\n",
              "      border-right-color: var(--fill-color);\n",
              "    }\n",
              "    40% {\n",
              "      border-color: transparent;\n",
              "      border-right-color: var(--fill-color);\n",
              "      border-top-color: var(--fill-color);\n",
              "    }\n",
              "    60% {\n",
              "      border-color: transparent;\n",
              "      border-right-color: var(--fill-color);\n",
              "    }\n",
              "    80% {\n",
              "      border-color: transparent;\n",
              "      border-right-color: var(--fill-color);\n",
              "      border-bottom-color: var(--fill-color);\n",
              "    }\n",
              "    90% {\n",
              "      border-color: transparent;\n",
              "      border-bottom-color: var(--fill-color);\n",
              "    }\n",
              "  }\n",
              "</style>\n",
              "\n",
              "  <script>\n",
              "    async function quickchart(key) {\n",
              "      const quickchartButtonEl =\n",
              "        document.querySelector('#' + key + ' button');\n",
              "      quickchartButtonEl.disabled = true;  // To prevent multiple clicks.\n",
              "      quickchartButtonEl.classList.add('colab-df-spinner');\n",
              "      try {\n",
              "        const charts = await google.colab.kernel.invokeFunction(\n",
              "            'suggestCharts', [key], {});\n",
              "      } catch (error) {\n",
              "        console.error('Error during call to suggestCharts:', error);\n",
              "      }\n",
              "      quickchartButtonEl.classList.remove('colab-df-spinner');\n",
              "      quickchartButtonEl.classList.add('colab-df-quickchart-complete');\n",
              "    }\n",
              "    (() => {\n",
              "      let quickchartButtonEl =\n",
              "        document.querySelector('#df-36f2ff88-ce1e-4b5f-8cd9-28cf4c316a09 button');\n",
              "      quickchartButtonEl.style.display =\n",
              "        google.colab.kernel.accessAllowed ? 'block' : 'none';\n",
              "    })();\n",
              "  </script>\n",
              "</div>\n",
              "    </div>\n",
              "  </div>\n"
            ],
            "application/vnd.google.colaboratory.intrinsic+json": {
              "type": "dataframe",
              "summary": "{\n  \"name\": \"train_inputs[numeric_cols]\",\n  \"rows\": 8,\n  \"fields\": [\n    {\n      \"column\": \"id\",\n      \"properties\": {\n        \"dtype\": \"number\",\n        \"std\": 4938.6786196013145,\n        \"min\": 0.0,\n        \"max\": 14999.0,\n        \"num_unique_values\": 8,\n        \"samples\": [\n          7479.63,\n          7471.5,\n          12000.0\n        ],\n        \"semantic_type\": \"\",\n        \"description\": \"\"\n      }\n    },\n    {\n      \"column\": \"CustomerId\",\n      \"properties\": {\n        \"dtype\": \"number\",\n        \"std\": 7848462.681048886,\n        \"min\": 12000.0,\n        \"max\": 15815690.0,\n        \"num_unique_values\": 8,\n        \"samples\": [\n          15690923.99,\n          15689953.0,\n          12000.0\n        ],\n        \"semantic_type\": \"\",\n        \"description\": \"\"\n      }\n    },\n    {\n      \"column\": \"CreditScore\",\n      \"properties\": {\n        \"dtype\": \"number\",\n        \"std\": 4048.150291021594,\n        \"min\": 72.33,\n        \"max\": 12000.0,\n        \"num_unique_values\": 8,\n        \"samples\": [\n          658.84,\n          661.0,\n          12000.0\n        ],\n        \"semantic_type\": \"\",\n        \"description\": \"\"\n      }\n    },\n    {\n      \"column\": \"Age\",\n      \"properties\": {\n        \"dtype\": \"number\",\n        \"std\": 4230.116753700903,\n        \"min\": 8.14,\n        \"max\": 12000.0,\n        \"num_unique_values\": 8,\n        \"samples\": [\n          37.69,\n          37.0,\n          12000.0\n        ],\n        \"semantic_type\": \"\",\n        \"description\": \"\"\n      }\n    },\n    {\n      \"column\": \"Tenure\",\n      \"properties\": {\n        \"dtype\": \"number\",\n        \"std\": 4240.984580213951,\n        \"min\": 0.0,\n        \"max\": 12000.0,\n        \"num_unique_values\": 8,\n        \"samples\": [\n          5.03,\n          5.0,\n          12000.0\n        ],\n        \"semantic_type\": \"\",\n        \"description\": \"\"\n      }\n    },\n    {\n      \"column\": \"Balance\",\n      \"properties\": {\n        \"dtype\": \"number\",\n        \"std\": 73737.5600063943,\n        \"min\": 0.0,\n        \"max\": 209767.31,\n        \"num_unique_values\": 6,\n        \"samples\": [\n          12000.0,\n          43008.17,\n          209767.31\n        ],\n        \"semantic_type\": \"\",\n        \"description\": \"\"\n      }\n    },\n    {\n      \"column\": \"NumOfProducts\",\n      \"properties\": {\n        \"dtype\": \"number\",\n        \"std\": 4242.028666421628,\n        \"min\": 0.53,\n        \"max\": 12000.0,\n        \"num_unique_values\": 6,\n        \"samples\": [\n          12000.0,\n          1.59,\n          4.0\n        ],\n        \"semantic_type\": \"\",\n        \"description\": \"\"\n      }\n    },\n    {\n      \"column\": \"HasCrCard\",\n      \"properties\": {\n        \"dtype\": \"number\",\n        \"std\": 4242.378063104971,\n        \"min\": 0.0,\n        \"max\": 12000.0,\n        \"num_unique_values\": 5,\n        \"samples\": [\n          0.79,\n          1.0,\n          0.41\n        ],\n        \"semantic_type\": \"\",\n        \"description\": \"\"\n      }\n    },\n    {\n      \"column\": \"IsActiveMember\",\n      \"properties\": {\n        \"dtype\": \"number\",\n        \"std\": 4242.489689735556,\n        \"min\": 0.0,\n        \"max\": 12000.0,\n        \"num_unique_values\": 5,\n        \"samples\": [\n          0.49,\n          1.0,\n          0.5\n        ],\n        \"semantic_type\": \"\",\n        \"description\": \"\"\n      }\n    },\n    {\n      \"column\": \"EstimatedSalary\",\n      \"properties\": {\n        \"dtype\": \"number\",\n        \"std\": 70346.42468729339,\n        \"min\": 11.58,\n        \"max\": 199992.48,\n        \"num_unique_values\": 8,\n        \"samples\": [\n          117992.4,\n          123613.91,\n          12000.0\n        ],\n        \"semantic_type\": \"\",\n        \"description\": \"\"\n      }\n    }\n  ]\n}"
            }
          },
          "metadata": {},
          "execution_count": 27
        }
      ]
    },
    {
      "cell_type": "markdown",
      "source": [
        "For the categorical columns, it’s important to understand how many unique values each column contains. This will help determine how to handle them during the preprocessing stage (e.g., using one-hot encoding for low cardinality or ignoring high-cardinality columns)."
      ],
      "metadata": {
        "id": "oj61E8Edr6CX"
      }
    },
    {
      "cell_type": "code",
      "source": [
        "# Counting unique values in categorical columns\n",
        "train_inputs[categorical_cols].nunique()"
      ],
      "metadata": {
        "colab": {
          "base_uri": "https://localhost:8080/",
          "height": 178
        },
        "id": "Wh9Qi9DSn5A1",
        "outputId": "a17b3632-1e79-425f-da84-f83617831e74"
      },
      "execution_count": 28,
      "outputs": [
        {
          "output_type": "execute_result",
          "data": {
            "text/plain": [
              "Surname      732\n",
              "Geography      3\n",
              "Gender         2\n",
              "dtype: int64"
            ],
            "text/html": [
              "<div>\n",
              "<style scoped>\n",
              "    .dataframe tbody tr th:only-of-type {\n",
              "        vertical-align: middle;\n",
              "    }\n",
              "\n",
              "    .dataframe tbody tr th {\n",
              "        vertical-align: top;\n",
              "    }\n",
              "\n",
              "    .dataframe thead th {\n",
              "        text-align: right;\n",
              "    }\n",
              "</style>\n",
              "<table border=\"1\" class=\"dataframe\">\n",
              "  <thead>\n",
              "    <tr style=\"text-align: right;\">\n",
              "      <th></th>\n",
              "      <th>0</th>\n",
              "    </tr>\n",
              "  </thead>\n",
              "  <tbody>\n",
              "    <tr>\n",
              "      <th>Surname</th>\n",
              "      <td>732</td>\n",
              "    </tr>\n",
              "    <tr>\n",
              "      <th>Geography</th>\n",
              "      <td>3</td>\n",
              "    </tr>\n",
              "    <tr>\n",
              "      <th>Gender</th>\n",
              "      <td>2</td>\n",
              "    </tr>\n",
              "  </tbody>\n",
              "</table>\n",
              "</div><br><label><b>dtype:</b> int64</label>"
            ]
          },
          "metadata": {},
          "execution_count": 28
        }
      ]
    },
    {
      "cell_type": "markdown",
      "source": [
        "\n",
        "### Key Observations:\n",
        "- The **'Surname'** column has a high number of unique values (732). This may require special handling as encoding a large number of categories could lead to overfitting.\n",
        "- The **'Geography'** and **'Gender'** columns have only 3 and 2 unique values, respectively, making them good candidates for one-hot encoding.\n",
        "\n",
        "These insights will guide the feature engineering and preprocessing steps that follow.\n"
      ],
      "metadata": {
        "id": "_CXe0H6HrYX8"
      }
    },
    {
      "cell_type": "markdown",
      "source": [
        "## 4. Data Preprocessing for Numerical and Categorical Columns\n",
        "To prepare the data for input into the model, we will preprocess both numerical and categorical columns. The following steps will be taken:\n",
        "\n",
        "- Scaling numerical features to ensure they are on the same scale,\n",
        "- Encoding categorical features for compatibility with machine learning algorithms,\n",
        "- Removing irrelevant features or those that do not contribute to model performance.\n",
        "\n",
        "The preprocessing will be applied consistently to both training and validation datasets to ensure the model performs well on unseen data.\n"
      ],
      "metadata": {
        "id": "gM_9mYCUgZD2"
      }
    },
    {
      "cell_type": "markdown",
      "source": [
        " We will not work on filling in the missing values, since at the analysis stage we verified that there are no such values."
      ],
      "metadata": {
        "id": "28kQpMaRg7qI"
      }
    },
    {
      "cell_type": "markdown",
      "source": [
        "**Visualizing the Distribution of Numerical Features**"
      ],
      "metadata": {
        "id": "AfLSbB6VhP1k"
      }
    },
    {
      "cell_type": "markdown",
      "source": [
        "Before proceeding with preprocessing, it is important to understand the distribution of the numerical features. This will help identify potential outliers and determine the need for scaling."
      ],
      "metadata": {
        "id": "u1Lp_g-mhS86"
      }
    },
    {
      "cell_type": "code",
      "source": [
        "# Visualization of numerical data distribution\n",
        "plt.figure(figsize=(15, 12))\n",
        "for i, col in enumerate(numeric_cols):\n",
        "    plt.subplot(3, 4, i + 1)\n",
        "    sns.histplot(raw_df[col], kde=True)\n",
        "    plt.title(col)\n",
        "plt.tight_layout()\n",
        "plt.show()"
      ],
      "metadata": {
        "id": "Co2hJVl32fUz",
        "colab": {
          "base_uri": "https://localhost:8080/",
          "height": 1000
        },
        "outputId": "d57e7843-d8f7-4679-b42f-5503d19c25a8"
      },
      "execution_count": 29,
      "outputs": [
        {
          "output_type": "display_data",
          "data": {
            "text/plain": [
              "<Figure size 1500x1200 with 10 Axes>"
            ],
            "image/png": "[encoded data removed]"
          },
          "metadata": {}
        }
      ]
    },
    {
      "cell_type": "markdown",
      "source": [
        "Analysis of the Visualizations:\n",
        "- ID and CustomerID: These columns are unique identifiers and will be excluded from the model, as they do not provide predictive value.\n",
        "- CreditScore: Exhibits a normal distribution, suggesting minimal transformation is needed apart from scaling.\n",
        "- Age: Skewed slightly toward younger customers, but remains within a reasonable range.\n",
        "- Tenure: Distributed fairly uniformly, which indicates customers have a wide range of tenure lengths.\n",
        "- Balance: Highly skewed with a large number of customers having zero balance. This may impact the model and will require scaling.\n",
        "- NumOfProducts: Most customers hold 1 or 2 products, with fewer customers holding 3 or more. The feature is categorical but will benefit from encoding.\n",
        "- HasCrCard and IsActiveMember: These are binary variables and will be encoded appropriately.\n",
        "- EstimatedSalary: Normally distributed, but with some outliers, suggesting the need for scaling to standardize the feature"
      ],
      "metadata": {
        "id": "QSf7pFLmhbol"
      }
    },
    {
      "cell_type": "markdown",
      "source": [
        "**Categorical Data Distribution and Visualization**"
      ],
      "metadata": {
        "id": "H6Z4gYdPiWNr"
      }
    },
    {
      "cell_type": "markdown",
      "source": [
        "In this section, we analyze the distribution of categorical features present in the dataset: Surname, Geography, and Gender. Understanding the distribution of categorical features is essential as it gives us insights into the composition of the dataset and helps identify any imbalances or patterns that may affect model performance. We will also visualize these distributions to get a clearer view of the frequency of different categories.\n"
      ],
      "metadata": {
        "id": "rEt1RZPKiipc"
      }
    },
    {
      "cell_type": "markdown",
      "source": [
        "We first use `value_counts() `to display the unique values and their counts for each feature.\n",
        "This allows us to check for possible imbalances that may need to be addressed, particularly for features like `Geography` and `Gender`.\n",
        "\n"
      ],
      "metadata": {
        "id": "pGOEa0uVivbx"
      }
    },
    {
      "cell_type": "code",
      "source": [
        "# Analysis of categorical data\n",
        "for col in categorical_cols:\n",
        "    print(f\"Distribution of values in the column {col}: {col}:\")\n",
        "    print(raw_df[col].value_counts())"
      ],
      "metadata": {
        "colab": {
          "base_uri": "https://localhost:8080/"
        },
        "id": "EdcWjEG-5OWd",
        "outputId": "f03b5116-6ec1-48cb-def7-fb7e79f40831"
      },
      "execution_count": 30,
      "outputs": [
        {
          "output_type": "stream",
          "name": "stdout",
          "text": [
            "Distribution of values in the column Surname: Surname:\n",
            "Surname\n",
            "Ch'iu      252\n",
            "Ch'ien     241\n",
            "Ch'ang     225\n",
            "Hsia       204\n",
            "T'ien      187\n",
            "          ... \n",
            "Trejo        1\n",
            "Purdy        1\n",
            "Otoole       1\n",
            "Sarratt      1\n",
            "Liardet      1\n",
            "Name: count, Length: 764, dtype: int64\n",
            "Distribution of values in the column Geography: Geography:\n",
            "Geography\n",
            "France     9032\n",
            "Spain      3303\n",
            "Germany    2665\n",
            "Name: count, dtype: int64\n",
            "Distribution of values in the column Gender: Gender:\n",
            "Gender\n",
            "Male      8529\n",
            "Female    6471\n",
            "Name: count, dtype: int64\n"
          ]
        }
      ]
    },
    {
      "cell_type": "markdown",
      "source": [
        "- `Surname`: The distribution of surnames is highly uneven, with some surnames appearing very frequently and many others appearing only once or a few times. This feature is not likely to be informative for prediction and may lead to overfitting if not properly handled.\n",
        "- `Geography`: Most customers are from France, followed by Spain and Germany. The imbalance in geographical distribution could affect the model's performance if not addressed.\n",
        "- `Gender`: There are more male customers than female customers, but the difference\n",
        "is not as significant as in geography."
      ],
      "metadata": {
        "id": "kLi-nSqRi-uQ"
      }
    },
    {
      "cell_type": "markdown",
      "source": [
        "Using bar plots for each categorical feature helps us visualize the count of occurrences for each category.\n",
        "This is particularly useful for identifying class imbalances, which may need to be addressed during model training."
      ],
      "metadata": {
        "id": "9CIiKpsbipWm"
      }
    },
    {
      "cell_type": "code",
      "source": [
        "# Visualization of categorical data distribution\n",
        "plt.figure(figsize=(10, 5))\n",
        "for i, col in enumerate(categorical_cols):\n",
        "    plt.subplot(1, 3, i + 1)\n",
        "    sns.countplot(data=raw_df, x=col)\n",
        "    plt.title(col)\n",
        "plt.tight_layout()\n",
        "plt.show()"
      ],
      "metadata": {
        "colab": {
          "base_uri": "https://localhost:8080/",
          "height": 507
        },
        "id": "UJbfA9Jp9tVM",
        "outputId": "45e0e1f6-e331-4187-e3ff-59bfab767578"
      },
      "execution_count": 31,
      "outputs": [
        {
          "output_type": "display_data",
          "data": {
            "text/plain": [
              "<Figure size 1000x500 with 3 Axes>"
            ],
            "image/png": "[encoded data removed]"
          },
          "metadata": {}
        }
      ]
    },
    {
      "cell_type": "markdown",
      "source": [
        "By analyzing and visualizing categorical data, we can make informed decisions about how to handle these features during preprocessing. Based on the analysis, we may decide to:\n",
        "- Drop the `Surname` feature, as it seems unlikely to contribute to the prediction task.\n",
        "- Encode the `Geography` and `Gender` features using one-hot encoding to ensure the model can properly interpret them."
      ],
      "metadata": {
        "id": "-6UODc6zi1yD"
      }
    },
    {
      "cell_type": "markdown",
      "source": [
        "**Data Analysis: Correlation between Features and Target Variable**"
      ],
      "metadata": {
        "id": "5GEkovyxjqqL"
      }
    },
    {
      "cell_type": "markdown",
      "source": [
        "In this section, we conduct a detailed analysis of how numerical and categorical features in the dataset correlate with the target variable `Exited`. This helps identify which features might play an important role in predicting customer churn.\n"
      ],
      "metadata": {
        "id": "U6QWv6e7jsfC"
      }
    },
    {
      "cell_type": "code",
      "source": [
        "# Check correlation of numerical variables with the target function\n",
        "numerical_features = raw_df.select_dtypes(include=[np.number]).columns.tolist()\n",
        "# Exclude the target variable\n",
        "numerical_features.remove('Exited')\n",
        "\n",
        "# Calculate the correlation\n",
        "correlation_matrix = raw_df[numerical_features + ['Exited']].corr()\n",
        "\n",
        "# Visualize the correlation matrix\n",
        "plt.figure(figsize=(12, 8))\n",
        "sns.heatmap(correlation_matrix, annot=True, cmap='coolwarm')\n",
        "plt.title('Correlation Matrix with Target Variable (Exited)')\n",
        "plt.show()\n",
        "\n",
        "# Check correlation of categorical variables with the target function\n",
        "categorical_features = raw_df.select_dtypes(include=['object']).columns.tolist()\n",
        "categorical_features.remove('Surname')  # Виключаємо Surname\n",
        "\n",
        "# Function to compute statistical significance using chi-square test\n",
        "def chi_square_test(feature, target):\n",
        "    contingency_table = pd.crosstab(raw_df[feature], raw_df[target])\n",
        "    chi2, p, dof, ex = chi2_contingency(contingency_table)\n",
        "    return p\n",
        "\n",
        "# Print the results of the chi-square test\n",
        "for feature in categorical_features:\n",
        "    p_value = chi_square_test(feature, 'Exited')\n",
        "    print(f\"Feature: {feature}, p-value: {p_value}\")\n",
        "\n",
        "# p-value менше 0.05 вказує на статистично значущий зв'язок змінної з цільовою функцією\n",
        "#numeric_cols = train_inputs.select_dtypes(include=np.number).columns.tolist()\n",
        "#categorical_cols = train_inputs.select_dtypes('object').columns.tolist()"
      ],
      "metadata": {
        "colab": {
          "base_uri": "https://localhost:8080/",
          "height": 835
        },
        "id": "LOHeiSWlP0-T",
        "outputId": "6c9d2903-7d02-4675-8af3-497dd38b1b9a"
      },
      "execution_count": 32,
      "outputs": [
        {
          "output_type": "display_data",
          "data": {
            "text/plain": [
              "<Figure size 1200x800 with 2 Axes>"
            ],
            "image/png": "[encoded data removed]"
          },
          "metadata": {}
        },
        {
          "output_type": "stream",
          "name": "stdout",
          "text": [
            "Feature: Geography, p-value: 2.3828579577437346e-192\n",
            "Feature: Gender, p-value: 8.217517615834431e-100\n"
          ]
        }
      ]
    },
    {
      "cell_type": "markdown",
      "source": [
        "Correlation Matrix Interpretation:\n",
        "- `Age` shows a relatively strong positive correlation (+0.46) with the target variable Exited. This suggests that older customers are more likely to leave.\n",
        "- `Balance` and `NumOfProducts` have negative correlations with `Exited`, implying that customers with higher balances and more products are less likely to leave.\n",
        "- `IsActiveMember` has a moderate negative correlation (-0.19) with `Exited`, indicating that active members are less likely to leave.\n",
        "\n",
        "The rest of the numerical features show weaker correlations with the target variable.\n"
      ],
      "metadata": {
        "id": "0lCfhAfpj5mX"
      }
    },
    {
      "cell_type": "markdown",
      "source": [
        "Chi-Square Test Results:\n",
        "Both `Geography` and `Gender` have p-values much lower than the standard threshold of 0.05, indicating that these features are statistically significant in relation to the target variable.\n",
        "Conclusion:\n",
        "Based on these findings, we proceed with feature engineering, focusing on transforming the categorical variables Geography and Gender. We also scale the numerical variables to ensure uniformity when they are fed into the machine learning model."
      ],
      "metadata": {
        "id": "4hRCQ_AbkXb5"
      }
    },
    {
      "cell_type": "markdown",
      "source": [
        "### Excluding Columns: `id`, `CustomerId`, and `Surname`\n",
        "\n",
        "We exclude the columns `id`, `CustomerId`, and `Surname` from the dataset as part of the data preprocessing for the following reasons:\n",
        "\n",
        "1. **id**: This is a unique identifier for each row in the dataset. It does not provide any valuable information for the model and has no correlation with the target variable. Using this column could potentially mislead the model by introducing false dependencies on unique values.\n",
        "\n",
        "2. **CustomerId**: Similar to `id`, this column serves as a unique identifier for each customer and is not informative for prediction. Including this column could lead to overfitting, where the model memorizes specific customer IDs rather than learning meaningful patterns for generalization.\n",
        "\n",
        "3. **Surname**: While `Surname` is a categorical variable, it has no direct correlation with the target variable. Since surnames are often unique or rare, encoding this feature could result in overfitting and degrade the model's ability to generalize.\n",
        "\n",
        "#### Conclusion:\n",
        "We exclude `id`, `CustomerId`, and `Surname` to focus on the more relevant features that could influence customer churn behavior.\n"
      ],
      "metadata": {
        "id": "qHCwJ2HslOJO"
      }
    },
    {
      "cell_type": "markdown",
      "source": [
        "### Feature Scaling and Categorical Encoding for Data Preprocessing\n",
        "For the next step in preparing our dataset for model training, we perform two key preprocessing tasks:\n",
        "\n",
        "- Scaling Numerical Features: We apply scaling to the numerical features to standardize their range, ensuring that features with larger ranges do not dominate the learning process of the model. Scaling is crucial, particularly for models that are sensitive to feature magnitude.\n",
        "\n",
        "- Encoding Categorical Features: Categorical variables, such as `Geography` and `Gender`, are converted into numerical representations using One-Hot Encoding. This allows the model to process categorical information while avoiding implicit ranking or ordinality in the data.\n",
        "\n",
        "Below is the pipeline we constructed for these preprocessing steps, followed by its application to both the training and validation datasets."
      ],
      "metadata": {
        "id": "Qtefw8bVk1pw"
      }
    },
    {
      "cell_type": "code",
      "source": [
        "# Define categorical and numerical colum to predprocessing\n",
        "#numeric_cols_transform = [col for col in numeric_cols if col not in ['id', 'CustomerId']]\n",
        "numeric_cols_transform = [col for col in numeric_cols if col not in ['id', 'CustomerId','CreditScore','Tenure','HasCrCard','EstimatedSalary']]\n",
        "categorical_cols_transform = [col for col in categorical_cols if col not in ['Surname']]\n",
        "\n",
        "# Create a pipeline for numerical data (scaling)\n",
        "numeric_transformer = Pipeline(steps=[\n",
        "    ('scaler', StandardScaler())])\n",
        "\n",
        "\n",
        "# Create a pipeline for categorical data (encoding)\n",
        "categorical_transformer = Pipeline(steps=[\n",
        "    ('onehot', OneHotEncoder(handle_unknown='ignore'))])\n",
        "\n",
        "# Combine preprocessing steps\n",
        "preprocessor = ColumnTransformer(\n",
        "    transformers=[\n",
        "        ('num', numeric_transformer, numeric_cols_transform),\n",
        "        ('cat', categorical_transformer, categorical_cols_transform)])"
      ],
      "metadata": {
        "id": "DzfPo0gFAG_J"
      },
      "execution_count": 33,
      "outputs": []
    },
    {
      "cell_type": "markdown",
      "source": [
        "We now apply this preprocessing pipeline to our training and validation datasets. This ensures that both sets are processed in the same way, enabling us to maintain consistency and avoid data leakage between training and validation phases."
      ],
      "metadata": {
        "id": "CKR6-8O2mbEq"
      }
    },
    {
      "cell_type": "code",
      "source": [
        "# Apply preprocessing to the training and validation datasets\n",
        "train_inputs_processed = preprocessor.fit_transform(train_inputs)\n",
        "val_inputs_processed = preprocessor.transform(val_inputs)"
      ],
      "metadata": {
        "id": "5lCVKCv6AUgn"
      },
      "execution_count": 34,
      "outputs": []
    },
    {
      "cell_type": "markdown",
      "source": [
        "After applying the transformations, we convert the processed data back into a DataFrame for easy inspection."
      ],
      "metadata": {
        "id": "xVOacY_Emb_G"
      }
    },
    {
      "cell_type": "code",
      "source": [
        "# Getting the names of encoded categorical features\n",
        "encoded_cat_cols = preprocessor.named_transformers_['cat']['onehot'].get_feature_names_out(categorical_cols_transform)\n",
        "\n",
        "# Converting back to DataFrame for easy viewing\n",
        "train_inputs_processed_df = pd.DataFrame(train_inputs_processed, columns=numeric_cols_transform + list(encoded_cat_cols))\n",
        "val_inputs_processed_df = pd.DataFrame(val_inputs_processed, columns=numeric_cols_transform + list(encoded_cat_cols))"
      ],
      "metadata": {
        "id": "NwYodly9AXP5"
      },
      "execution_count": 35,
      "outputs": []
    },
    {
      "cell_type": "markdown",
      "source": [
        " Below, we display the first few rows of the processed training and validation data."
      ],
      "metadata": {
        "id": "6Qtv8tK-mp3s"
      }
    },
    {
      "cell_type": "code",
      "source": [
        "# Display the first rows of the processed data\n",
        "print(\"Processed Train Inputs:\")\n",
        "display(train_inputs_processed_df.head())\n",
        "print(\"Processed Validation Inputs:\")\n",
        "display(val_inputs_processed_df.head())"
      ],
      "metadata": {
        "colab": {
          "base_uri": "https://localhost:8080/",
          "height": 431
        },
        "id": "5lUJJ47NAaqA",
        "outputId": "12118655-41e1-4c07-9f8a-4e08a28b0604"
      },
      "execution_count": 36,
      "outputs": [
        {
          "output_type": "stream",
          "name": "stdout",
          "text": [
            "Processed Train Inputs:\n"
          ]
        },
        {
          "output_type": "display_data",
          "data": {
            "text/plain": [
              "    Age  Balance  NumOfProducts  IsActiveMember  Geography_France  Geography_Germany  Geography_Spain  Gender_Female  Gender_Male\n",
              "0 -0.94     1.48          -1.11            1.02              1.00               0.00             0.00           0.00         1.00\n",
              "1  0.16     2.25          -1.11           -0.98              1.00               0.00             0.00           1.00         0.00\n",
              "2 -0.33     1.22           0.77           -0.98              0.00               1.00             0.00           0.00         1.00\n",
              "3  2.50    -0.72           0.77            1.02              0.00               0.00             1.00           0.00         1.00\n",
              "4 -2.05    -0.72           0.77            1.02              1.00               0.00             0.00           0.00         1.00"
            ],
            "text/html": [
              "\n",
              "  <div id=\"df-3d3ef707-3162-469f-bb3a-b51c86b60f01\" class=\"colab-df-container\">\n",
              "    <div>\n",
              "<style scoped>\n",
              "    .dataframe tbody tr th:only-of-type {\n",
              "        vertical-align: middle;\n",
              "    }\n",
              "\n",
              "    .dataframe tbody tr th {\n",
              "        vertical-align: top;\n",
              "    }\n",
              "\n",
              "    .dataframe thead th {\n",
              "        text-align: right;\n",
              "    }\n",
              "</style>\n",
              "<table border=\"1\" class=\"dataframe\">\n",
              "  <thead>\n",
              "    <tr style=\"text-align: right;\">\n",
              "      <th></th>\n",
              "      <th>Age</th>\n",
              "      <th>Balance</th>\n",
              "      <th>NumOfProducts</th>\n",
              "      <th>IsActiveMember</th>\n",
              "      <th>Geography_France</th>\n",
              "      <th>Geography_Germany</th>\n",
              "      <th>Geography_Spain</th>\n",
              "      <th>Gender_Female</th>\n",
              "      <th>Gender_Male</th>\n",
              "    </tr>\n",
              "  </thead>\n",
              "  <tbody>\n",
              "    <tr>\n",
              "      <th>0</th>\n",
              "      <td>-0.94</td>\n",
              "      <td>1.48</td>\n",
              "      <td>-1.11</td>\n",
              "      <td>1.02</td>\n",
              "      <td>1.00</td>\n",
              "      <td>0.00</td>\n",
              "      <td>0.00</td>\n",
              "      <td>0.00</td>\n",
              "      <td>1.00</td>\n",
              "    </tr>\n",
              "    <tr>\n",
              "      <th>1</th>\n",
              "      <td>0.16</td>\n",
              "      <td>2.25</td>\n",
              "      <td>-1.11</td>\n",
              "      <td>-0.98</td>\n",
              "      <td>1.00</td>\n",
              "      <td>0.00</td>\n",
              "      <td>0.00</td>\n",
              "      <td>1.00</td>\n",
              "      <td>0.00</td>\n",
              "    </tr>\n",
              "    <tr>\n",
              "      <th>2</th>\n",
              "      <td>-0.33</td>\n",
              "      <td>1.22</td>\n",
              "      <td>0.77</td>\n",
              "      <td>-0.98</td>\n",
              "      <td>0.00</td>\n",
              "      <td>1.00</td>\n",
              "      <td>0.00</td>\n",
              "      <td>0.00</td>\n",
              "      <td>1.00</td>\n",
              "    </tr>\n",
              "    <tr>\n",
              "      <th>3</th>\n",
              "      <td>2.50</td>\n",
              "      <td>-0.72</td>\n",
              "      <td>0.77</td>\n",
              "      <td>1.02</td>\n",
              "      <td>0.00</td>\n",
              "      <td>0.00</td>\n",
              "      <td>1.00</td>\n",
              "      <td>0.00</td>\n",
              "      <td>1.00</td>\n",
              "    </tr>\n",
              "    <tr>\n",
              "      <th>4</th>\n",
              "      <td>-2.05</td>\n",
              "      <td>-0.72</td>\n",
              "      <td>0.77</td>\n",
              "      <td>1.02</td>\n",
              "      <td>1.00</td>\n",
              "      <td>0.00</td>\n",
              "      <td>0.00</td>\n",
              "      <td>0.00</td>\n",
              "      <td>1.00</td>\n",
              "    </tr>\n",
              "  </tbody>\n",
              "</table>\n",
              "</div>\n",
              "    <div class=\"colab-df-buttons\">\n",
              "\n",
              "  <div class=\"colab-df-container\">\n",
              "    <button class=\"colab-df-convert\" onclick=\"convertToInteractive('df-3d3ef707-3162-469f-bb3a-b51c86b60f01')\"\n",
              "            title=\"Convert this dataframe to an interactive table.\"\n",
              "            style=\"display:none;\">\n",
              "\n",
              "  <svg xmlns=\"http://www.w3.org/2000/svg\" height=\"24px\" viewBox=\"0 -960 960 960\">\n",
              "    <path d=\"M120-120v-720h720v720H120Zm60-500h600v-160H180v160Zm220 220h160v-160H400v160Zm0 220h160v-160H400v160ZM180-400h160v-160H180v160Zm440 0h160v-160H620v160ZM180-180h160v-160H180v160Zm440 0h160v-160H620v160Z\"/>\n",
              "  </svg>\n",
              "    </button>\n",
              "\n",
              "  <style>\n",
              "    .colab-df-container {\n",
              "      display:flex;\n",
              "      gap: 12px;\n",
              "    }\n",
              "\n",
              "    .colab-df-convert {\n",
              "      background-color: #E8F0FE;\n",
              "      border: none;\n",
              "      border-radius: 50%;\n",
              "      cursor: pointer;\n",
              "      display: none;\n",
              "      fill: #1967D2;\n",
              "      height: 32px;\n",
              "      padding: 0 0 0 0;\n",
              "      width: 32px;\n",
              "    }\n",
              "\n",
              "    .colab-df-convert:hover {\n",
              "      background-color: #E2EBFA;\n",
              "      box-shadow: 0px 1px 2px rgba(60, 64, 67, 0.3), 0px 1px 3px 1px rgba(60, 64, 67, 0.15);\n",
              "      fill: #174EA6;\n",
              "    }\n",
              "\n",
              "    .colab-df-buttons div {\n",
              "      margin-bottom: 4px;\n",
              "    }\n",
              "\n",
              "    [theme=dark] .colab-df-convert {\n",
              "      background-color: #3B4455;\n",
              "      fill: #D2E3FC;\n",
              "    }\n",
              "\n",
              "    [theme=dark] .colab-df-convert:hover {\n",
              "      background-color: #434B5C;\n",
              "      box-shadow: 0px 1px 3px 1px rgba(0, 0, 0, 0.15);\n",
              "      filter: drop-shadow(0px 1px 2px rgba(0, 0, 0, 0.3));\n",
              "      fill: #FFFFFF;\n",
              "    }\n",
              "  </style>\n",
              "\n",
              "    <script>\n",
              "      const buttonEl =\n",
              "        document.querySelector('#df-3d3ef707-3162-469f-bb3a-b51c86b60f01 button.colab-df-convert');\n",
              "      buttonEl.style.display =\n",
              "        google.colab.kernel.accessAllowed ? 'block' : 'none';\n",
              "\n",
              "      async function convertToInteractive(key) {\n",
              "        const element = document.querySelector('#df-3d3ef707-3162-469f-bb3a-b51c86b60f01');\n",
              "        const dataTable =\n",
              "          await google.colab.kernel.invokeFunction('convertToInteractive',\n",
              "                                                    [key], {});\n",
              "        if (!dataTable) return;\n",
              "\n",
              "        const docLinkHtml = 'Like what you see? Visit the ' +\n",
              "          '<a target=\"_blank\" href=https://colab.research.google.com/notebooks/data_table.ipynb>data table notebook</a>'\n",
              "          + ' to learn more about interactive tables.';\n",
              "        element.innerHTML = '';\n",
              "        dataTable['output_type'] = 'display_data';\n",
              "        await google.colab.output.renderOutput(dataTable, element);\n",
              "        const docLink = document.createElement('div');\n",
              "        docLink.innerHTML = docLinkHtml;\n",
              "        element.appendChild(docLink);\n",
              "      }\n",
              "    </script>\n",
              "  </div>\n",
              "\n",
              "\n",
              "<div id=\"df-e1c27d44-45a6-45d5-9456-6fa03179f80a\">\n",
              "  <button class=\"colab-df-quickchart\" onclick=\"quickchart('df-e1c27d44-45a6-45d5-9456-6fa03179f80a')\"\n",
              "            title=\"Suggest charts\"\n",
              "            style=\"display:none;\">\n",
              "\n",
              "<svg xmlns=\"http://www.w3.org/2000/svg\" height=\"24px\"viewBox=\"0 0 24 24\"\n",
              "     width=\"24px\">\n",
              "    <g>\n",
              "        <path d=\"M19 3H5c-1.1 0-2 .9-2 2v14c0 1.1.9 2 2 2h14c1.1 0 2-.9 2-2V5c0-1.1-.9-2-2-2zM9 17H7v-7h2v7zm4 0h-2V7h2v10zm4 0h-2v-4h2v4z\"/>\n",
              "    </g>\n",
              "</svg>\n",
              "  </button>\n",
              "\n",
              "<style>\n",
              "  .colab-df-quickchart {\n",
              "      --bg-color: #E8F0FE;\n",
              "      --fill-color: #1967D2;\n",
              "      --hover-bg-color: #E2EBFA;\n",
              "      --hover-fill-color: #174EA6;\n",
              "      --disabled-fill-color: #AAA;\n",
              "      --disabled-bg-color: #DDD;\n",
              "  }\n",
              "\n",
              "  [theme=dark] .colab-df-quickchart {\n",
              "      --bg-color: #3B4455;\n",
              "      --fill-color: #D2E3FC;\n",
              "      --hover-bg-color: #434B5C;\n",
              "      --hover-fill-color: #FFFFFF;\n",
              "      --disabled-bg-color: #3B4455;\n",
              "      --disabled-fill-color: #666;\n",
              "  }\n",
              "\n",
              "  .colab-df-quickchart {\n",
              "    background-color: var(--bg-color);\n",
              "    border: none;\n",
              "    border-radius: 50%;\n",
              "    cursor: pointer;\n",
              "    display: none;\n",
              "    fill: var(--fill-color);\n",
              "    height: 32px;\n",
              "    padding: 0;\n",
              "    width: 32px;\n",
              "  }\n",
              "\n",
              "  .colab-df-quickchart:hover {\n",
              "    background-color: var(--hover-bg-color);\n",
              "    box-shadow: 0 1px 2px rgba(60, 64, 67, 0.3), 0 1px 3px 1px rgba(60, 64, 67, 0.15);\n",
              "    fill: var(--button-hover-fill-color);\n",
              "  }\n",
              "\n",
              "  .colab-df-quickchart-complete:disabled,\n",
              "  .colab-df-quickchart-complete:disabled:hover {\n",
              "    background-color: var(--disabled-bg-color);\n",
              "    fill: var(--disabled-fill-color);\n",
              "    box-shadow: none;\n",
              "  }\n",
              "\n",
              "  .colab-df-spinner {\n",
              "    border: 2px solid var(--fill-color);\n",
              "    border-color: transparent;\n",
              "    border-bottom-color: var(--fill-color);\n",
              "    animation:\n",
              "      spin 1s steps(1) infinite;\n",
              "  }\n",
              "\n",
              "  @keyframes spin {\n",
              "    0% {\n",
              "      border-color: transparent;\n",
              "      border-bottom-color: var(--fill-color);\n",
              "      border-left-color: var(--fill-color);\n",
              "    }\n",
              "    20% {\n",
              "      border-color: transparent;\n",
              "      border-left-color: var(--fill-color);\n",
              "      border-top-color: var(--fill-color);\n",
              "    }\n",
              "    30% {\n",
              "      border-color: transparent;\n",
              "      border-left-color: var(--fill-color);\n",
              "      border-top-color: var(--fill-color);\n",
              "      border-right-color: var(--fill-color);\n",
              "    }\n",
              "    40% {\n",
              "      border-color: transparent;\n",
              "      border-right-color: var(--fill-color);\n",
              "      border-top-color: var(--fill-color);\n",
              "    }\n",
              "    60% {\n",
              "      border-color: transparent;\n",
              "      border-right-color: var(--fill-color);\n",
              "    }\n",
              "    80% {\n",
              "      border-color: transparent;\n",
              "      border-right-color: var(--fill-color);\n",
              "      border-bottom-color: var(--fill-color);\n",
              "    }\n",
              "    90% {\n",
              "      border-color: transparent;\n",
              "      border-bottom-color: var(--fill-color);\n",
              "    }\n",
              "  }\n",
              "</style>\n",
              "\n",
              "  <script>\n",
              "    async function quickchart(key) {\n",
              "      const quickchartButtonEl =\n",
              "        document.querySelector('#' + key + ' button');\n",
              "      quickchartButtonEl.disabled = true;  // To prevent multiple clicks.\n",
              "      quickchartButtonEl.classList.add('colab-df-spinner');\n",
              "      try {\n",
              "        const charts = await google.colab.kernel.invokeFunction(\n",
              "            'suggestCharts', [key], {});\n",
              "      } catch (error) {\n",
              "        console.error('Error during call to suggestCharts:', error);\n",
              "      }\n",
              "      quickchartButtonEl.classList.remove('colab-df-spinner');\n",
              "      quickchartButtonEl.classList.add('colab-df-quickchart-complete');\n",
              "    }\n",
              "    (() => {\n",
              "      let quickchartButtonEl =\n",
              "        document.querySelector('#df-e1c27d44-45a6-45d5-9456-6fa03179f80a button');\n",
              "      quickchartButtonEl.style.display =\n",
              "        google.colab.kernel.accessAllowed ? 'block' : 'none';\n",
              "    })();\n",
              "  </script>\n",
              "</div>\n",
              "    </div>\n",
              "  </div>\n"
            ],
            "application/vnd.google.colaboratory.intrinsic+json": {
              "type": "dataframe",
              "summary": "{\n  \"name\": \"display(val_inputs_processed_df\",\n  \"rows\": 5,\n  \"fields\": [\n    {\n      \"column\": \"Age\",\n      \"properties\": {\n        \"dtype\": \"number\",\n        \"std\": 1.6861728273373167,\n        \"min\": -2.05059100854066,\n        \"max\": 2.495924223498755,\n        \"num_unique_values\": 5,\n        \"samples\": [\n          0.16122721245148786,\n          -2.05059100854066,\n          -0.33028794776898945\n        ],\n        \"semantic_type\": \"\",\n        \"description\": \"\"\n      }\n    },\n    {\n      \"column\": \"Balance\",\n      \"properties\": {\n        \"dtype\": \"number\",\n        \"std\": 1.3521379036969865,\n        \"min\": -0.7179500526334832,\n        \"max\": 2.254433580099375,\n        \"num_unique_values\": 4,\n        \"samples\": [\n          2.254433580099375,\n          -0.7179500526334832,\n          1.4754639358943908\n        ],\n        \"semantic_type\": \"\",\n        \"description\": \"\"\n      }\n    },\n    {\n      \"column\": \"NumOfProducts\",\n      \"properties\": {\n        \"dtype\": \"number\",\n        \"std\": 1.0283475963502704,\n        \"min\": -1.1081927527515099,\n        \"max\": 0.7693044988393583,\n        \"num_unique_values\": 2,\n        \"samples\": [\n          0.7693044988393583,\n          -1.1081927527515099\n        ],\n        \"semantic_type\": \"\",\n        \"description\": \"\"\n      }\n    },\n    {\n      \"column\": \"IsActiveMember\",\n      \"properties\": {\n        \"dtype\": \"number\",\n        \"std\": 1.0956003512745267,\n        \"min\": -0.9833059918764125,\n        \"max\": 1.0169774294690614,\n        \"num_unique_values\": 2,\n        \"samples\": [\n          -0.9833059918764125,\n          1.0169774294690614\n        ],\n        \"semantic_type\": \"\",\n        \"description\": \"\"\n      }\n    },\n    {\n      \"column\": \"Geography_France\",\n      \"properties\": {\n        \"dtype\": \"number\",\n        \"std\": 0.5477225575051662,\n        \"min\": 0.0,\n        \"max\": 1.0,\n        \"num_unique_values\": 2,\n        \"samples\": [\n          0.0,\n          1.0\n        ],\n        \"semantic_type\": \"\",\n        \"description\": \"\"\n      }\n    },\n    {\n      \"column\": \"Geography_Germany\",\n      \"properties\": {\n        \"dtype\": \"number\",\n        \"std\": 0.44721359549995804,\n        \"min\": 0.0,\n        \"max\": 1.0,\n        \"num_unique_values\": 2,\n        \"samples\": [\n          1.0,\n          0.0\n        ],\n        \"semantic_type\": \"\",\n        \"description\": \"\"\n      }\n    },\n    {\n      \"column\": \"Geography_Spain\",\n      \"properties\": {\n        \"dtype\": \"number\",\n        \"std\": 0.447213595499958,\n        \"min\": 0.0,\n        \"max\": 1.0,\n        \"num_unique_values\": 2,\n        \"samples\": [\n          1.0,\n          0.0\n        ],\n        \"semantic_type\": \"\",\n        \"description\": \"\"\n      }\n    },\n    {\n      \"column\": \"Gender_Female\",\n      \"properties\": {\n        \"dtype\": \"number\",\n        \"std\": 0.44721359549995804,\n        \"min\": 0.0,\n        \"max\": 1.0,\n        \"num_unique_values\": 2,\n        \"samples\": [\n          1.0,\n          0.0\n        ],\n        \"semantic_type\": \"\",\n        \"description\": \"\"\n      }\n    },\n    {\n      \"column\": \"Gender_Male\",\n      \"properties\": {\n        \"dtype\": \"number\",\n        \"std\": 0.44721359549995804,\n        \"min\": 0.0,\n        \"max\": 1.0,\n        \"num_unique_values\": 2,\n        \"samples\": [\n          0.0,\n          1.0\n        ],\n        \"semantic_type\": \"\",\n        \"description\": \"\"\n      }\n    }\n  ]\n}"
            }
          },
          "metadata": {}
        },
        {
          "output_type": "stream",
          "name": "stdout",
          "text": [
            "Processed Validation Inputs:\n"
          ]
        },
        {
          "output_type": "display_data",
          "data": {
            "text/plain": [
              "    Age  Balance  NumOfProducts  IsActiveMember  Geography_France  Geography_Germany  Geography_Spain  Gender_Female  Gender_Male\n",
              "0  1.02     1.21           4.52            1.02              0.00               1.00             0.00           0.00         1.00\n",
              "1  0.41    -0.72           0.77            1.02              1.00               0.00             0.00           0.00         1.00\n",
              "2  0.04    -0.72           0.77            1.02              1.00               0.00             0.00           1.00         0.00\n",
              "3  0.65     1.88          -1.11            1.02              1.00               0.00             0.00           1.00         0.00\n",
              "4 -0.94    -0.72           0.77           -0.98              0.00               0.00             1.00           1.00         0.00"
            ],
            "text/html": [
              "\n",
              "  <div id=\"df-aa0d98a9-09af-4aaf-b280-498b685a67d6\" class=\"colab-df-container\">\n",
              "    <div>\n",
              "<style scoped>\n",
              "    .dataframe tbody tr th:only-of-type {\n",
              "        vertical-align: middle;\n",
              "    }\n",
              "\n",
              "    .dataframe tbody tr th {\n",
              "        vertical-align: top;\n",
              "    }\n",
              "\n",
              "    .dataframe thead th {\n",
              "        text-align: right;\n",
              "    }\n",
              "</style>\n",
              "<table border=\"1\" class=\"dataframe\">\n",
              "  <thead>\n",
              "    <tr style=\"text-align: right;\">\n",
              "      <th></th>\n",
              "      <th>Age</th>\n",
              "      <th>Balance</th>\n",
              "      <th>NumOfProducts</th>\n",
              "      <th>IsActiveMember</th>\n",
              "      <th>Geography_France</th>\n",
              "      <th>Geography_Germany</th>\n",
              "      <th>Geography_Spain</th>\n",
              "      <th>Gender_Female</th>\n",
              "      <th>Gender_Male</th>\n",
              "    </tr>\n",
              "  </thead>\n",
              "  <tbody>\n",
              "    <tr>\n",
              "      <th>0</th>\n",
              "      <td>1.02</td>\n",
              "      <td>1.21</td>\n",
              "      <td>4.52</td>\n",
              "      <td>1.02</td>\n",
              "      <td>0.00</td>\n",
              "      <td>1.00</td>\n",
              "      <td>0.00</td>\n",
              "      <td>0.00</td>\n",
              "      <td>1.00</td>\n",
              "    </tr>\n",
              "    <tr>\n",
              "      <th>1</th>\n",
              "      <td>0.41</td>\n",
              "      <td>-0.72</td>\n",
              "      <td>0.77</td>\n",
              "      <td>1.02</td>\n",
              "      <td>1.00</td>\n",
              "      <td>0.00</td>\n",
              "      <td>0.00</td>\n",
              "      <td>0.00</td>\n",
              "      <td>1.00</td>\n",
              "    </tr>\n",
              "    <tr>\n",
              "      <th>2</th>\n",
              "      <td>0.04</td>\n",
              "      <td>-0.72</td>\n",
              "      <td>0.77</td>\n",
              "      <td>1.02</td>\n",
              "      <td>1.00</td>\n",
              "      <td>0.00</td>\n",
              "      <td>0.00</td>\n",
              "      <td>1.00</td>\n",
              "      <td>0.00</td>\n",
              "    </tr>\n",
              "    <tr>\n",
              "      <th>3</th>\n",
              "      <td>0.65</td>\n",
              "      <td>1.88</td>\n",
              "      <td>-1.11</td>\n",
              "      <td>1.02</td>\n",
              "      <td>1.00</td>\n",
              "      <td>0.00</td>\n",
              "      <td>0.00</td>\n",
              "      <td>1.00</td>\n",
              "      <td>0.00</td>\n",
              "    </tr>\n",
              "    <tr>\n",
              "      <th>4</th>\n",
              "      <td>-0.94</td>\n",
              "      <td>-0.72</td>\n",
              "      <td>0.77</td>\n",
              "      <td>-0.98</td>\n",
              "      <td>0.00</td>\n",
              "      <td>0.00</td>\n",
              "      <td>1.00</td>\n",
              "      <td>1.00</td>\n",
              "      <td>0.00</td>\n",
              "    </tr>\n",
              "  </tbody>\n",
              "</table>\n",
              "</div>\n",
              "    <div class=\"colab-df-buttons\">\n",
              "\n",
              "  <div class=\"colab-df-container\">\n",
              "    <button class=\"colab-df-convert\" onclick=\"convertToInteractive('df-aa0d98a9-09af-4aaf-b280-498b685a67d6')\"\n",
              "            title=\"Convert this dataframe to an interactive table.\"\n",
              "            style=\"display:none;\">\n",
              "\n",
              "  <svg xmlns=\"http://www.w3.org/2000/svg\" height=\"24px\" viewBox=\"0 -960 960 960\">\n",
              "    <path d=\"M120-120v-720h720v720H120Zm60-500h600v-160H180v160Zm220 220h160v-160H400v160Zm0 220h160v-160H400v160ZM180-400h160v-160H180v160Zm440 0h160v-160H620v160ZM180-180h160v-160H180v160Zm440 0h160v-160H620v160Z\"/>\n",
              "  </svg>\n",
              "    </button>\n",
              "\n",
              "  <style>\n",
              "    .colab-df-container {\n",
              "      display:flex;\n",
              "      gap: 12px;\n",
              "    }\n",
              "\n",
              "    .colab-df-convert {\n",
              "      background-color: #E8F0FE;\n",
              "      border: none;\n",
              "      border-radius: 50%;\n",
              "      cursor: pointer;\n",
              "      display: none;\n",
              "      fill: #1967D2;\n",
              "      height: 32px;\n",
              "      padding: 0 0 0 0;\n",
              "      width: 32px;\n",
              "    }\n",
              "\n",
              "    .colab-df-convert:hover {\n",
              "      background-color: #E2EBFA;\n",
              "      box-shadow: 0px 1px 2px rgba(60, 64, 67, 0.3), 0px 1px 3px 1px rgba(60, 64, 67, 0.15);\n",
              "      fill: #174EA6;\n",
              "    }\n",
              "\n",
              "    .colab-df-buttons div {\n",
              "      margin-bottom: 4px;\n",
              "    }\n",
              "\n",
              "    [theme=dark] .colab-df-convert {\n",
              "      background-color: #3B4455;\n",
              "      fill: #D2E3FC;\n",
              "    }\n",
              "\n",
              "    [theme=dark] .colab-df-convert:hover {\n",
              "      background-color: #434B5C;\n",
              "      box-shadow: 0px 1px 3px 1px rgba(0, 0, 0, 0.15);\n",
              "      filter: drop-shadow(0px 1px 2px rgba(0, 0, 0, 0.3));\n",
              "      fill: #FFFFFF;\n",
              "    }\n",
              "  </style>\n",
              "\n",
              "    <script>\n",
              "      const buttonEl =\n",
              "        document.querySelector('#df-aa0d98a9-09af-4aaf-b280-498b685a67d6 button.colab-df-convert');\n",
              "      buttonEl.style.display =\n",
              "        google.colab.kernel.accessAllowed ? 'block' : 'none';\n",
              "\n",
              "      async function convertToInteractive(key) {\n",
              "        const element = document.querySelector('#df-aa0d98a9-09af-4aaf-b280-498b685a67d6');\n",
              "        const dataTable =\n",
              "          await google.colab.kernel.invokeFunction('convertToInteractive',\n",
              "                                                    [key], {});\n",
              "        if (!dataTable) return;\n",
              "\n",
              "        const docLinkHtml = 'Like what you see? Visit the ' +\n",
              "          '<a target=\"_blank\" href=https://colab.research.google.com/notebooks/data_table.ipynb>data table notebook</a>'\n",
              "          + ' to learn more about interactive tables.';\n",
              "        element.innerHTML = '';\n",
              "        dataTable['output_type'] = 'display_data';\n",
              "        await google.colab.output.renderOutput(dataTable, element);\n",
              "        const docLink = document.createElement('div');\n",
              "        docLink.innerHTML = docLinkHtml;\n",
              "        element.appendChild(docLink);\n",
              "      }\n",
              "    </script>\n",
              "  </div>\n",
              "\n",
              "\n",
              "<div id=\"df-68f8a3b1-6da3-4069-9b58-958ddce8d091\">\n",
              "  <button class=\"colab-df-quickchart\" onclick=\"quickchart('df-68f8a3b1-6da3-4069-9b58-958ddce8d091')\"\n",
              "            title=\"Suggest charts\"\n",
              "            style=\"display:none;\">\n",
              "\n",
              "<svg xmlns=\"http://www.w3.org/2000/svg\" height=\"24px\"viewBox=\"0 0 24 24\"\n",
              "     width=\"24px\">\n",
              "    <g>\n",
              "        <path d=\"M19 3H5c-1.1 0-2 .9-2 2v14c0 1.1.9 2 2 2h14c1.1 0 2-.9 2-2V5c0-1.1-.9-2-2-2zM9 17H7v-7h2v7zm4 0h-2V7h2v10zm4 0h-2v-4h2v4z\"/>\n",
              "    </g>\n",
              "</svg>\n",
              "  </button>\n",
              "\n",
              "<style>\n",
              "  .colab-df-quickchart {\n",
              "      --bg-color: #E8F0FE;\n",
              "      --fill-color: #1967D2;\n",
              "      --hover-bg-color: #E2EBFA;\n",
              "      --hover-fill-color: #174EA6;\n",
              "      --disabled-fill-color: #AAA;\n",
              "      --disabled-bg-color: #DDD;\n",
              "  }\n",
              "\n",
              "  [theme=dark] .colab-df-quickchart {\n",
              "      --bg-color: #3B4455;\n",
              "      --fill-color: #D2E3FC;\n",
              "      --hover-bg-color: #434B5C;\n",
              "      --hover-fill-color: #FFFFFF;\n",
              "      --disabled-bg-color: #3B4455;\n",
              "      --disabled-fill-color: #666;\n",
              "  }\n",
              "\n",
              "  .colab-df-quickchart {\n",
              "    background-color: var(--bg-color);\n",
              "    border: none;\n",
              "    border-radius: 50%;\n",
              "    cursor: pointer;\n",
              "    display: none;\n",
              "    fill: var(--fill-color);\n",
              "    height: 32px;\n",
              "    padding: 0;\n",
              "    width: 32px;\n",
              "  }\n",
              "\n",
              "  .colab-df-quickchart:hover {\n",
              "    background-color: var(--hover-bg-color);\n",
              "    box-shadow: 0 1px 2px rgba(60, 64, 67, 0.3), 0 1px 3px 1px rgba(60, 64, 67, 0.15);\n",
              "    fill: var(--button-hover-fill-color);\n",
              "  }\n",
              "\n",
              "  .colab-df-quickchart-complete:disabled,\n",
              "  .colab-df-quickchart-complete:disabled:hover {\n",
              "    background-color: var(--disabled-bg-color);\n",
              "    fill: var(--disabled-fill-color);\n",
              "    box-shadow: none;\n",
              "  }\n",
              "\n",
              "  .colab-df-spinner {\n",
              "    border: 2px solid var(--fill-color);\n",
              "    border-color: transparent;\n",
              "    border-bottom-color: var(--fill-color);\n",
              "    animation:\n",
              "      spin 1s steps(1) infinite;\n",
              "  }\n",
              "\n",
              "  @keyframes spin {\n",
              "    0% {\n",
              "      border-color: transparent;\n",
              "      border-bottom-color: var(--fill-color);\n",
              "      border-left-color: var(--fill-color);\n",
              "    }\n",
              "    20% {\n",
              "      border-color: transparent;\n",
              "      border-left-color: var(--fill-color);\n",
              "      border-top-color: var(--fill-color);\n",
              "    }\n",
              "    30% {\n",
              "      border-color: transparent;\n",
              "      border-left-color: var(--fill-color);\n",
              "      border-top-color: var(--fill-color);\n",
              "      border-right-color: var(--fill-color);\n",
              "    }\n",
              "    40% {\n",
              "      border-color: transparent;\n",
              "      border-right-color: var(--fill-color);\n",
              "      border-top-color: var(--fill-color);\n",
              "    }\n",
              "    60% {\n",
              "      border-color: transparent;\n",
              "      border-right-color: var(--fill-color);\n",
              "    }\n",
              "    80% {\n",
              "      border-color: transparent;\n",
              "      border-right-color: var(--fill-color);\n",
              "      border-bottom-color: var(--fill-color);\n",
              "    }\n",
              "    90% {\n",
              "      border-color: transparent;\n",
              "      border-bottom-color: var(--fill-color);\n",
              "    }\n",
              "  }\n",
              "</style>\n",
              "\n",
              "  <script>\n",
              "    async function quickchart(key) {\n",
              "      const quickchartButtonEl =\n",
              "        document.querySelector('#' + key + ' button');\n",
              "      quickchartButtonEl.disabled = true;  // To prevent multiple clicks.\n",
              "      quickchartButtonEl.classList.add('colab-df-spinner');\n",
              "      try {\n",
              "        const charts = await google.colab.kernel.invokeFunction(\n",
              "            'suggestCharts', [key], {});\n",
              "      } catch (error) {\n",
              "        console.error('Error during call to suggestCharts:', error);\n",
              "      }\n",
              "      quickchartButtonEl.classList.remove('colab-df-spinner');\n",
              "      quickchartButtonEl.classList.add('colab-df-quickchart-complete');\n",
              "    }\n",
              "    (() => {\n",
              "      let quickchartButtonEl =\n",
              "        document.querySelector('#df-68f8a3b1-6da3-4069-9b58-958ddce8d091 button');\n",
              "      quickchartButtonEl.style.display =\n",
              "        google.colab.kernel.accessAllowed ? 'block' : 'none';\n",
              "    })();\n",
              "  </script>\n",
              "</div>\n",
              "    </div>\n",
              "  </div>\n"
            ],
            "application/vnd.google.colaboratory.intrinsic+json": {
              "type": "dataframe",
              "summary": "{\n  \"name\": \"display(val_inputs_processed_df\",\n  \"rows\": 5,\n  \"fields\": [\n    {\n      \"column\": \"Age\",\n      \"properties\": {\n        \"dtype\": \"number\",\n        \"std\": 0.7504665547469763,\n        \"min\": -0.944681898044586,\n        \"max\": 1.021378742837323,\n        \"num_unique_values\": 5,\n        \"samples\": [\n          0.4069847925617265,\n          -0.944681898044586,\n          0.038348422396368535\n        ],\n        \"semantic_type\": \"\",\n        \"description\": \"\"\n      }\n    },\n    {\n      \"column\": \"Balance\",\n      \"properties\": {\n        \"dtype\": \"number\",\n        \"std\": 1.263448645633877,\n        \"min\": -0.7179500526334832,\n        \"max\": 1.8818666228359875,\n        \"num_unique_values\": 3,\n        \"samples\": [\n          1.2145430342981003,\n          -0.7179500526334832,\n          1.8818666228359875\n        ],\n        \"semantic_type\": \"\",\n        \"description\": \"\"\n      }\n    },\n    {\n      \"column\": \"NumOfProducts\",\n      \"properties\": {\n        \"dtype\": \"number\",\n        \"std\": 2.0566951927005412,\n        \"min\": -1.1081927527515099,\n        \"max\": 4.5242990020210945,\n        \"num_unique_values\": 3,\n        \"samples\": [\n          4.5242990020210945,\n          0.7693044988393583,\n          -1.1081927527515099\n        ],\n        \"semantic_type\": \"\",\n        \"description\": \"\"\n      }\n    },\n    {\n      \"column\": \"IsActiveMember\",\n      \"properties\": {\n        \"dtype\": \"number\",\n        \"std\": 0.8945539408788667,\n        \"min\": -0.9833059918764125,\n        \"max\": 1.0169774294690614,\n        \"num_unique_values\": 2,\n        \"samples\": [\n          -0.9833059918764125,\n          1.0169774294690614\n        ],\n        \"semantic_type\": \"\",\n        \"description\": \"\"\n      }\n    },\n    {\n      \"column\": \"Geography_France\",\n      \"properties\": {\n        \"dtype\": \"number\",\n        \"std\": 0.5477225575051662,\n        \"min\": 0.0,\n        \"max\": 1.0,\n        \"num_unique_values\": 2,\n        \"samples\": [\n          1.0,\n          0.0\n        ],\n        \"semantic_type\": \"\",\n        \"description\": \"\"\n      }\n    },\n    {\n      \"column\": \"Geography_Germany\",\n      \"properties\": {\n        \"dtype\": \"number\",\n        \"std\": 0.44721359549995804,\n        \"min\": 0.0,\n        \"max\": 1.0,\n        \"num_unique_values\": 2,\n        \"samples\": [\n          0.0,\n          1.0\n        ],\n        \"semantic_type\": \"\",\n        \"description\": \"\"\n      }\n    },\n    {\n      \"column\": \"Geography_Spain\",\n      \"properties\": {\n        \"dtype\": \"number\",\n        \"std\": 0.447213595499958,\n        \"min\": 0.0,\n        \"max\": 1.0,\n        \"num_unique_values\": 2,\n        \"samples\": [\n          1.0,\n          0.0\n        ],\n        \"semantic_type\": \"\",\n        \"description\": \"\"\n      }\n    },\n    {\n      \"column\": \"Gender_Female\",\n      \"properties\": {\n        \"dtype\": \"number\",\n        \"std\": 0.5477225575051662,\n        \"min\": 0.0,\n        \"max\": 1.0,\n        \"num_unique_values\": 2,\n        \"samples\": [\n          1.0,\n          0.0\n        ],\n        \"semantic_type\": \"\",\n        \"description\": \"\"\n      }\n    },\n    {\n      \"column\": \"Gender_Male\",\n      \"properties\": {\n        \"dtype\": \"number\",\n        \"std\": 0.5477225575051662,\n        \"min\": 0.0,\n        \"max\": 1.0,\n        \"num_unique_values\": 2,\n        \"samples\": [\n          0.0,\n          1.0\n        ],\n        \"semantic_type\": \"\",\n        \"description\": \"\"\n      }\n    }\n  ]\n}"
            }
          },
          "metadata": {}
        }
      ]
    },
    {
      "cell_type": "markdown",
      "source": [
        "The resulting tables present scaled numerical values and one-hot encoded categorical features, ready for model input."
      ],
      "metadata": {
        "id": "df3cRJKimfZW"
      }
    },
    {
      "cell_type": "markdown",
      "source": [
        "## 5 Saving Processed Data to Parquet Files"
      ],
      "metadata": {
        "id": "k3n4BGVfnGoU"
      }
    },
    {
      "cell_type": "markdown",
      "source": [
        "5. Збережіть дані, що містяться в змінних `train_inputs`, `train_targets`, `val_inputs`, `val_targets` на диск в форматі `parquet`. В кінці виведіть список файлів в папці, в яку Ви зберегли файли і перевірте, чи файли збереглись. Вивести список файлів можна з `os.listdir(your_dir)` або `!ls your_dir`"
      ],
      "metadata": {
        "id": "Gk-NVTdyoAtu"
      }
    },
    {
      "cell_type": "markdown",
      "source": [
        "In this final step of the data preprocessing pipeline, we will save the processed data into **parquet** files for future use. This approach enables efficient storage of the dataset while maintaining the structure of the data and ensuring easy loading for future training or evaluation.\n",
        "\n"
      ],
      "metadata": {
        "id": "4Z_RUuJynoBR"
      }
    },
    {
      "cell_type": "markdown",
      "source": [
        "**Verifying Data Shape**\n"
      ],
      "metadata": {
        "id": "YjzXHqDhoGSw"
      }
    },
    {
      "cell_type": "markdown",
      "source": [
        "Before saving, it is important to verify the shapes of the training and validation inputs, as well as the target variables. This ensures that the datasets have been processed correctly and are ready to be saved in their respective formats."
      ],
      "metadata": {
        "id": "YLOTwd1toKaW"
      }
    },
    {
      "cell_type": "code",
      "source": [
        "# Checking shapes of the processed datasets\n",
        "print('train_inputs:', train_inputs.shape)\n",
        "print('train_targets:', train_targets.shape)\n",
        "print('val_inputs:', val_inputs.shape)\n",
        "print('val_targets:', val_targets.shape)"
      ],
      "metadata": {
        "id": "DteIwTkN2hve",
        "colab": {
          "base_uri": "https://localhost:8080/"
        },
        "outputId": "164a6962-5195-417e-ceec-4c5c0486acb3"
      },
      "execution_count": 37,
      "outputs": [
        {
          "output_type": "stream",
          "name": "stdout",
          "text": [
            "train_inputs: (12000, 13)\n",
            "train_targets: (12000,)\n",
            "val_inputs: (3000, 13)\n",
            "val_targets: (3000,)\n"
          ]
        }
      ]
    },
    {
      "cell_type": "markdown",
      "source": [
        "**Saving Data in Parquet Format**"
      ],
      "metadata": {
        "id": "ffXg2Vr-oVDS"
      }
    },
    {
      "cell_type": "markdown",
      "source": [
        "The train_inputs and val_inputs are saved as separate parquet files.\n",
        "Similarly, the target values for both the training and validation sets are saved into parquet format. The parquet format is chosen due to its columnar storage, allowing for better compression and faster queries when reading back the data."
      ],
      "metadata": {
        "id": "90qjz7_JoREb"
      }
    },
    {
      "cell_type": "code",
      "source": [
        "# Save the processed datasets to parquet files\n",
        "train_inputs.to_parquet('train_inputs.parquet')\n",
        "val_inputs.to_parquet('val_inputs.parquet')"
      ],
      "metadata": {
        "id": "ur-lTkLwNOT0"
      },
      "execution_count": 38,
      "outputs": []
    },
    {
      "cell_type": "code",
      "source": [
        "# Saving the target variables to parquet\n",
        "%%time\n",
        "pd.DataFrame(train_targets).to_parquet('train_targets.parquet')\n",
        "pd.DataFrame(val_targets).to_parquet('val_targets.parquet')"
      ],
      "metadata": {
        "colab": {
          "base_uri": "https://localhost:8080/"
        },
        "id": "yvmXEgutSvtn",
        "outputId": "f9562763-0486-4ad1-80f0-8357d2325b57"
      },
      "execution_count": 39,
      "outputs": [
        {
          "output_type": "stream",
          "name": "stdout",
          "text": [
            "CPU times: user 9.71 ms, sys: 0 ns, total: 9.71 ms\n",
            "Wall time: 10.6 ms\n"
          ]
        }
      ]
    },
    {
      "cell_type": "markdown",
      "source": [
        "**Loading the Data for Validation**"
      ],
      "metadata": {
        "id": "epK6TJqsofe0"
      }
    },
    {
      "cell_type": "markdown",
      "source": [
        "After saving the parquet files, we immediately reload the data to verify that the saved files maintain their structure and data integrity. This step ensures that the data can be accessed seamlessly in future processes."
      ],
      "metadata": {
        "id": "YzGOp3qtoeSu"
      }
    },
    {
      "cell_type": "code",
      "source": [
        "# Reload the saved files to validate\n",
        "%%time\n",
        "train_inputs = pd.read_parquet('train_inputs.parquet')\n",
        "val_inputs = pd.read_parquet('val_inputs.parquet')"
      ],
      "metadata": {
        "colab": {
          "base_uri": "https://localhost:8080/"
        },
        "id": "fu5MONgVTCLW",
        "outputId": "e58f94d3-bbb5-43d4-8b58-ca8a7b7f9b65"
      },
      "execution_count": 40,
      "outputs": [
        {
          "output_type": "stream",
          "name": "stdout",
          "text": [
            "CPU times: user 41.1 ms, sys: 11.5 ms, total: 52.6 ms\n",
            "Wall time: 92 ms\n"
          ]
        }
      ]
    },
    {
      "cell_type": "code",
      "source": [
        "print('train_inputs:', train_inputs.shape)\n",
        "print('train_targets:', train_targets.shape)\n",
        "print('val_inputs:', val_inputs.shape)\n",
        "print('val_targets:', val_targets.shape)"
      ],
      "metadata": {
        "colab": {
          "base_uri": "https://localhost:8080/"
        },
        "id": "zDRwoRsLTK46",
        "outputId": "31587138-b80c-4774-b1e5-9af00f70d3a7"
      },
      "execution_count": 41,
      "outputs": [
        {
          "output_type": "stream",
          "name": "stdout",
          "text": [
            "train_inputs: (12000, 13)\n",
            "train_targets: (12000,)\n",
            "val_inputs: (3000, 13)\n",
            "val_targets: (3000,)\n"
          ]
        }
      ]
    },
    {
      "cell_type": "code",
      "source": [
        "val_inputs"
      ],
      "metadata": {
        "colab": {
          "base_uri": "https://localhost:8080/",
          "height": 423
        },
        "id": "I5Ks-HoeTTeC",
        "outputId": "69b0233e-d16d-42a3-ec95-8dacaf849802"
      },
      "execution_count": 42,
      "outputs": [
        {
          "output_type": "execute_result",
          "data": {
            "text/plain": [
              "          id  CustomerId     Surname  CreditScore Geography  Gender  Age  Tenure   Balance  NumOfProducts  HasCrCard  IsActiveMember  EstimatedSalary\n",
              "6490    6490    15794345     Pirozzi          714   Germany    Male   46       1 115764.32              4          1               1         72945.32\n",
              "3646    3646    15617348     Ritchie          593    France    Male   41       5      0.00              2          1               1         38196.24\n",
              "5306    5306    15787907       Hs?eh          731    France  Female   38       2      0.00              2          0               1        116971.05\n",
              "652      652    15803378        Onio          673    France  Female   43       4 155739.76              1          0               1        111622.76\n",
              "2627    2627    15772423    Genovesi          678     Spain  Female   30       4      0.00              2          1               0        143681.85\n",
              "...      ...         ...         ...          ...       ...     ...  ...     ...       ...            ...        ...             ...              ...\n",
              "10550  10550    15635388        Hsia          678    France    Male   38       4      0.00              2          1               0        133535.29\n",
              "8866    8866    15589715        Ting          753    France    Male   54       6      0.00              1          1               0        177065.24\n",
              "3244    3244    15682890  Okwuadigbo          678     Spain    Male   32       5      0.00              2          1               0        176712.59\n",
              "12441  12441    15690188      Aitken          724     Spain    Male   33       5 138162.41              1          1               0        105720.09\n",
              "3024    3024    15751147        Zito          684    France    Male   41       5 129731.64              1          1               1         98293.14\n",
              "\n",
              "[3000 rows x 13 columns]"
            ],
            "text/html": [
              "\n",
              "  <div id=\"df-40c094a1-e27b-4728-9f9a-5233ac529b0f\" class=\"colab-df-container\">\n",
              "    <div>\n",
              "<style scoped>\n",
              "    .dataframe tbody tr th:only-of-type {\n",
              "        vertical-align: middle;\n",
              "    }\n",
              "\n",
              "    .dataframe tbody tr th {\n",
              "        vertical-align: top;\n",
              "    }\n",
              "\n",
              "    .dataframe thead th {\n",
              "        text-align: right;\n",
              "    }\n",
              "</style>\n",
              "<table border=\"1\" class=\"dataframe\">\n",
              "  <thead>\n",
              "    <tr style=\"text-align: right;\">\n",
              "      <th></th>\n",
              "      <th>id</th>\n",
              "      <th>CustomerId</th>\n",
              "      <th>Surname</th>\n",
              "      <th>CreditScore</th>\n",
              "      <th>Geography</th>\n",
              "      <th>Gender</th>\n",
              "      <th>Age</th>\n",
              "      <th>Tenure</th>\n",
              "      <th>Balance</th>\n",
              "      <th>NumOfProducts</th>\n",
              "      <th>HasCrCard</th>\n",
              "      <th>IsActiveMember</th>\n",
              "      <th>EstimatedSalary</th>\n",
              "    </tr>\n",
              "  </thead>\n",
              "  <tbody>\n",
              "    <tr>\n",
              "      <th>6490</th>\n",
              "      <td>6490</td>\n",
              "      <td>15794345</td>\n",
              "      <td>Pirozzi</td>\n",
              "      <td>714</td>\n",
              "      <td>Germany</td>\n",
              "      <td>Male</td>\n",
              "      <td>46</td>\n",
              "      <td>1</td>\n",
              "      <td>115764.32</td>\n",
              "      <td>4</td>\n",
              "      <td>1</td>\n",
              "      <td>1</td>\n",
              "      <td>72945.32</td>\n",
              "    </tr>\n",
              "    <tr>\n",
              "      <th>3646</th>\n",
              "      <td>3646</td>\n",
              "      <td>15617348</td>\n",
              "      <td>Ritchie</td>\n",
              "      <td>593</td>\n",
              "      <td>France</td>\n",
              "      <td>Male</td>\n",
              "      <td>41</td>\n",
              "      <td>5</td>\n",
              "      <td>0.00</td>\n",
              "      <td>2</td>\n",
              "      <td>1</td>\n",
              "      <td>1</td>\n",
              "      <td>38196.24</td>\n",
              "    </tr>\n",
              "    <tr>\n",
              "      <th>5306</th>\n",
              "      <td>5306</td>\n",
              "      <td>15787907</td>\n",
              "      <td>Hs?eh</td>\n",
              "      <td>731</td>\n",
              "      <td>France</td>\n",
              "      <td>Female</td>\n",
              "      <td>38</td>\n",
              "      <td>2</td>\n",
              "      <td>0.00</td>\n",
              "      <td>2</td>\n",
              "      <td>0</td>\n",
              "      <td>1</td>\n",
              "      <td>116971.05</td>\n",
              "    </tr>\n",
              "    <tr>\n",
              "      <th>652</th>\n",
              "      <td>652</td>\n",
              "      <td>15803378</td>\n",
              "      <td>Onio</td>\n",
              "      <td>673</td>\n",
              "      <td>France</td>\n",
              "      <td>Female</td>\n",
              "      <td>43</td>\n",
              "      <td>4</td>\n",
              "      <td>155739.76</td>\n",
              "      <td>1</td>\n",
              "      <td>0</td>\n",
              "      <td>1</td>\n",
              "      <td>111622.76</td>\n",
              "    </tr>\n",
              "    <tr>\n",
              "      <th>2627</th>\n",
              "      <td>2627</td>\n",
              "      <td>15772423</td>\n",
              "      <td>Genovesi</td>\n",
              "      <td>678</td>\n",
              "      <td>Spain</td>\n",
              "      <td>Female</td>\n",
              "      <td>30</td>\n",
              "      <td>4</td>\n",
              "      <td>0.00</td>\n",
              "      <td>2</td>\n",
              "      <td>1</td>\n",
              "      <td>0</td>\n",
              "      <td>143681.85</td>\n",
              "    </tr>\n",
              "    <tr>\n",
              "      <th>...</th>\n",
              "      <td>...</td>\n",
              "      <td>...</td>\n",
              "      <td>...</td>\n",
              "      <td>...</td>\n",
              "      <td>...</td>\n",
              "      <td>...</td>\n",
              "      <td>...</td>\n",
              "      <td>...</td>\n",
              "      <td>...</td>\n",
              "      <td>...</td>\n",
              "      <td>...</td>\n",
              "      <td>...</td>\n",
              "      <td>...</td>\n",
              "    </tr>\n",
              "    <tr>\n",
              "      <th>10550</th>\n",
              "      <td>10550</td>\n",
              "      <td>15635388</td>\n",
              "      <td>Hsia</td>\n",
              "      <td>678</td>\n",
              "      <td>France</td>\n",
              "      <td>Male</td>\n",
              "      <td>38</td>\n",
              "      <td>4</td>\n",
              "      <td>0.00</td>\n",
              "      <td>2</td>\n",
              "      <td>1</td>\n",
              "      <td>0</td>\n",
              "      <td>133535.29</td>\n",
              "    </tr>\n",
              "    <tr>\n",
              "      <th>8866</th>\n",
              "      <td>8866</td>\n",
              "      <td>15589715</td>\n",
              "      <td>Ting</td>\n",
              "      <td>753</td>\n",
              "      <td>France</td>\n",
              "      <td>Male</td>\n",
              "      <td>54</td>\n",
              "      <td>6</td>\n",
              "      <td>0.00</td>\n",
              "      <td>1</td>\n",
              "      <td>1</td>\n",
              "      <td>0</td>\n",
              "      <td>177065.24</td>\n",
              "    </tr>\n",
              "    <tr>\n",
              "      <th>3244</th>\n",
              "      <td>3244</td>\n",
              "      <td>15682890</td>\n",
              "      <td>Okwuadigbo</td>\n",
              "      <td>678</td>\n",
              "      <td>Spain</td>\n",
              "      <td>Male</td>\n",
              "      <td>32</td>\n",
              "      <td>5</td>\n",
              "      <td>0.00</td>\n",
              "      <td>2</td>\n",
              "      <td>1</td>\n",
              "      <td>0</td>\n",
              "      <td>176712.59</td>\n",
              "    </tr>\n",
              "    <tr>\n",
              "      <th>12441</th>\n",
              "      <td>12441</td>\n",
              "      <td>15690188</td>\n",
              "      <td>Aitken</td>\n",
              "      <td>724</td>\n",
              "      <td>Spain</td>\n",
              "      <td>Male</td>\n",
              "      <td>33</td>\n",
              "      <td>5</td>\n",
              "      <td>138162.41</td>\n",
              "      <td>1</td>\n",
              "      <td>1</td>\n",
              "      <td>0</td>\n",
              "      <td>105720.09</td>\n",
              "    </tr>\n",
              "    <tr>\n",
              "      <th>3024</th>\n",
              "      <td>3024</td>\n",
              "      <td>15751147</td>\n",
              "      <td>Zito</td>\n",
              "      <td>684</td>\n",
              "      <td>France</td>\n",
              "      <td>Male</td>\n",
              "      <td>41</td>\n",
              "      <td>5</td>\n",
              "      <td>129731.64</td>\n",
              "      <td>1</td>\n",
              "      <td>1</td>\n",
              "      <td>1</td>\n",
              "      <td>98293.14</td>\n",
              "    </tr>\n",
              "  </tbody>\n",
              "</table>\n",
              "<p>3000 rows × 13 columns</p>\n",
              "</div>\n",
              "    <div class=\"colab-df-buttons\">\n",
              "\n",
              "  <div class=\"colab-df-container\">\n",
              "    <button class=\"colab-df-convert\" onclick=\"convertToInteractive('df-40c094a1-e27b-4728-9f9a-5233ac529b0f')\"\n",
              "            title=\"Convert this dataframe to an interactive table.\"\n",
              "            style=\"display:none;\">\n",
              "\n",
              "  <svg xmlns=\"http://www.w3.org/2000/svg\" height=\"24px\" viewBox=\"0 -960 960 960\">\n",
              "    <path d=\"M120-120v-720h720v720H120Zm60-500h600v-160H180v160Zm220 220h160v-160H400v160Zm0 220h160v-160H400v160ZM180-400h160v-160H180v160Zm440 0h160v-160H620v160ZM180-180h160v-160H180v160Zm440 0h160v-160H620v160Z\"/>\n",
              "  </svg>\n",
              "    </button>\n",
              "\n",
              "  <style>\n",
              "    .colab-df-container {\n",
              "      display:flex;\n",
              "      gap: 12px;\n",
              "    }\n",
              "\n",
              "    .colab-df-convert {\n",
              "      background-color: #E8F0FE;\n",
              "      border: none;\n",
              "      border-radius: 50%;\n",
              "      cursor: pointer;\n",
              "      display: none;\n",
              "      fill: #1967D2;\n",
              "      height: 32px;\n",
              "      padding: 0 0 0 0;\n",
              "      width: 32px;\n",
              "    }\n",
              "\n",
              "    .colab-df-convert:hover {\n",
              "      background-color: #E2EBFA;\n",
              "      box-shadow: 0px 1px 2px rgba(60, 64, 67, 0.3), 0px 1px 3px 1px rgba(60, 64, 67, 0.15);\n",
              "      fill: #174EA6;\n",
              "    }\n",
              "\n",
              "    .colab-df-buttons div {\n",
              "      margin-bottom: 4px;\n",
              "    }\n",
              "\n",
              "    [theme=dark] .colab-df-convert {\n",
              "      background-color: #3B4455;\n",
              "      fill: #D2E3FC;\n",
              "    }\n",
              "\n",
              "    [theme=dark] .colab-df-convert:hover {\n",
              "      background-color: #434B5C;\n",
              "      box-shadow: 0px 1px 3px 1px rgba(0, 0, 0, 0.15);\n",
              "      filter: drop-shadow(0px 1px 2px rgba(0, 0, 0, 0.3));\n",
              "      fill: #FFFFFF;\n",
              "    }\n",
              "  </style>\n",
              "\n",
              "    <script>\n",
              "      const buttonEl =\n",
              "        document.querySelector('#df-40c094a1-e27b-4728-9f9a-5233ac529b0f button.colab-df-convert');\n",
              "      buttonEl.style.display =\n",
              "        google.colab.kernel.accessAllowed ? 'block' : 'none';\n",
              "\n",
              "      async function convertToInteractive(key) {\n",
              "        const element = document.querySelector('#df-40c094a1-e27b-4728-9f9a-5233ac529b0f');\n",
              "        const dataTable =\n",
              "          await google.colab.kernel.invokeFunction('convertToInteractive',\n",
              "                                                    [key], {});\n",
              "        if (!dataTable) return;\n",
              "\n",
              "        const docLinkHtml = 'Like what you see? Visit the ' +\n",
              "          '<a target=\"_blank\" href=https://colab.research.google.com/notebooks/data_table.ipynb>data table notebook</a>'\n",
              "          + ' to learn more about interactive tables.';\n",
              "        element.innerHTML = '';\n",
              "        dataTable['output_type'] = 'display_data';\n",
              "        await google.colab.output.renderOutput(dataTable, element);\n",
              "        const docLink = document.createElement('div');\n",
              "        docLink.innerHTML = docLinkHtml;\n",
              "        element.appendChild(docLink);\n",
              "      }\n",
              "    </script>\n",
              "  </div>\n",
              "\n",
              "\n",
              "<div id=\"df-04090599-b411-498a-93ba-b0fc7ad10464\">\n",
              "  <button class=\"colab-df-quickchart\" onclick=\"quickchart('df-04090599-b411-498a-93ba-b0fc7ad10464')\"\n",
              "            title=\"Suggest charts\"\n",
              "            style=\"display:none;\">\n",
              "\n",
              "<svg xmlns=\"http://www.w3.org/2000/svg\" height=\"24px\"viewBox=\"0 0 24 24\"\n",
              "     width=\"24px\">\n",
              "    <g>\n",
              "        <path d=\"M19 3H5c-1.1 0-2 .9-2 2v14c0 1.1.9 2 2 2h14c1.1 0 2-.9 2-2V5c0-1.1-.9-2-2-2zM9 17H7v-7h2v7zm4 0h-2V7h2v10zm4 0h-2v-4h2v4z\"/>\n",
              "    </g>\n",
              "</svg>\n",
              "  </button>\n",
              "\n",
              "<style>\n",
              "  .colab-df-quickchart {\n",
              "      --bg-color: #E8F0FE;\n",
              "      --fill-color: #1967D2;\n",
              "      --hover-bg-color: #E2EBFA;\n",
              "      --hover-fill-color: #174EA6;\n",
              "      --disabled-fill-color: #AAA;\n",
              "      --disabled-bg-color: #DDD;\n",
              "  }\n",
              "\n",
              "  [theme=dark] .colab-df-quickchart {\n",
              "      --bg-color: #3B4455;\n",
              "      --fill-color: #D2E3FC;\n",
              "      --hover-bg-color: #434B5C;\n",
              "      --hover-fill-color: #FFFFFF;\n",
              "      --disabled-bg-color: #3B4455;\n",
              "      --disabled-fill-color: #666;\n",
              "  }\n",
              "\n",
              "  .colab-df-quickchart {\n",
              "    background-color: var(--bg-color);\n",
              "    border: none;\n",
              "    border-radius: 50%;\n",
              "    cursor: pointer;\n",
              "    display: none;\n",
              "    fill: var(--fill-color);\n",
              "    height: 32px;\n",
              "    padding: 0;\n",
              "    width: 32px;\n",
              "  }\n",
              "\n",
              "  .colab-df-quickchart:hover {\n",
              "    background-color: var(--hover-bg-color);\n",
              "    box-shadow: 0 1px 2px rgba(60, 64, 67, 0.3), 0 1px 3px 1px rgba(60, 64, 67, 0.15);\n",
              "    fill: var(--button-hover-fill-color);\n",
              "  }\n",
              "\n",
              "  .colab-df-quickchart-complete:disabled,\n",
              "  .colab-df-quickchart-complete:disabled:hover {\n",
              "    background-color: var(--disabled-bg-color);\n",
              "    fill: var(--disabled-fill-color);\n",
              "    box-shadow: none;\n",
              "  }\n",
              "\n",
              "  .colab-df-spinner {\n",
              "    border: 2px solid var(--fill-color);\n",
              "    border-color: transparent;\n",
              "    border-bottom-color: var(--fill-color);\n",
              "    animation:\n",
              "      spin 1s steps(1) infinite;\n",
              "  }\n",
              "\n",
              "  @keyframes spin {\n",
              "    0% {\n",
              "      border-color: transparent;\n",
              "      border-bottom-color: var(--fill-color);\n",
              "      border-left-color: var(--fill-color);\n",
              "    }\n",
              "    20% {\n",
              "      border-color: transparent;\n",
              "      border-left-color: var(--fill-color);\n",
              "      border-top-color: var(--fill-color);\n",
              "    }\n",
              "    30% {\n",
              "      border-color: transparent;\n",
              "      border-left-color: var(--fill-color);\n",
              "      border-top-color: var(--fill-color);\n",
              "      border-right-color: var(--fill-color);\n",
              "    }\n",
              "    40% {\n",
              "      border-color: transparent;\n",
              "      border-right-color: var(--fill-color);\n",
              "      border-top-color: var(--fill-color);\n",
              "    }\n",
              "    60% {\n",
              "      border-color: transparent;\n",
              "      border-right-color: var(--fill-color);\n",
              "    }\n",
              "    80% {\n",
              "      border-color: transparent;\n",
              "      border-right-color: var(--fill-color);\n",
              "      border-bottom-color: var(--fill-color);\n",
              "    }\n",
              "    90% {\n",
              "      border-color: transparent;\n",
              "      border-bottom-color: var(--fill-color);\n",
              "    }\n",
              "  }\n",
              "</style>\n",
              "\n",
              "  <script>\n",
              "    async function quickchart(key) {\n",
              "      const quickchartButtonEl =\n",
              "        document.querySelector('#' + key + ' button');\n",
              "      quickchartButtonEl.disabled = true;  // To prevent multiple clicks.\n",
              "      quickchartButtonEl.classList.add('colab-df-spinner');\n",
              "      try {\n",
              "        const charts = await google.colab.kernel.invokeFunction(\n",
              "            'suggestCharts', [key], {});\n",
              "      } catch (error) {\n",
              "        console.error('Error during call to suggestCharts:', error);\n",
              "      }\n",
              "      quickchartButtonEl.classList.remove('colab-df-spinner');\n",
              "      quickchartButtonEl.classList.add('colab-df-quickchart-complete');\n",
              "    }\n",
              "    (() => {\n",
              "      let quickchartButtonEl =\n",
              "        document.querySelector('#df-04090599-b411-498a-93ba-b0fc7ad10464 button');\n",
              "      quickchartButtonEl.style.display =\n",
              "        google.colab.kernel.accessAllowed ? 'block' : 'none';\n",
              "    })();\n",
              "  </script>\n",
              "</div>\n",
              "    </div>\n",
              "  </div>\n"
            ],
            "application/vnd.google.colaboratory.intrinsic+json": {
              "type": "dataframe",
              "variable_name": "val_inputs",
              "summary": "{\n  \"name\": \"val_inputs\",\n  \"rows\": 3000,\n  \"fields\": [\n    {\n      \"column\": \"id\",\n      \"properties\": {\n        \"dtype\": \"number\",\n        \"std\": 4314,\n        \"min\": 1,\n        \"max\": 14995,\n        \"num_unique_values\": 3000,\n        \"samples\": [\n          3947,\n          7404,\n          2026\n        ],\n        \"semantic_type\": \"\",\n        \"description\": \"\"\n      }\n    },\n    {\n      \"column\": \"CustomerId\",\n      \"properties\": {\n        \"dtype\": \"number\",\n        \"std\": 71023,\n        \"min\": 15565706,\n        \"max\": 15814553,\n        \"num_unique_values\": 2327,\n        \"samples\": [\n          15770041,\n          15589435,\n          15805764\n        ],\n        \"semantic_type\": \"\",\n        \"description\": \"\"\n      }\n    },\n    {\n      \"column\": \"Surname\",\n      \"properties\": {\n        \"dtype\": \"category\",\n        \"num_unique_values\": 529,\n        \"samples\": [\n          \"Obiajulu\",\n          \"Nnonso\",\n          \"T'ang\"\n        ],\n        \"semantic_type\": \"\",\n        \"description\": \"\"\n      }\n    },\n    {\n      \"column\": \"CreditScore\",\n      \"properties\": {\n        \"dtype\": \"number\",\n        \"std\": 71,\n        \"min\": 434,\n        \"max\": 850,\n        \"num_unique_values\": 308,\n        \"samples\": [\n          846,\n          711,\n          681\n        ],\n        \"semantic_type\": \"\",\n        \"description\": \"\"\n      }\n    },\n    {\n      \"column\": \"Geography\",\n      \"properties\": {\n        \"dtype\": \"category\",\n        \"num_unique_values\": 3,\n        \"samples\": [\n          \"Germany\",\n          \"France\",\n          \"Spain\"\n        ],\n        \"semantic_type\": \"\",\n        \"description\": \"\"\n      }\n    },\n    {\n      \"column\": \"Gender\",\n      \"properties\": {\n        \"dtype\": \"category\",\n        \"num_unique_values\": 2,\n        \"samples\": [\n          \"Female\",\n          \"Male\"\n        ],\n        \"semantic_type\": \"\",\n        \"description\": \"\"\n      }\n    },\n    {\n      \"column\": \"Age\",\n      \"properties\": {\n        \"dtype\": \"number\",\n        \"std\": 8,\n        \"min\": 19,\n        \"max\": 72,\n        \"num_unique_values\": 53,\n        \"samples\": [\n          35,\n          61\n        ],\n        \"semantic_type\": \"\",\n        \"description\": \"\"\n      }\n    },\n    {\n      \"column\": \"Tenure\",\n      \"properties\": {\n        \"dtype\": \"number\",\n        \"std\": 2,\n        \"min\": 0,\n        \"max\": 10,\n        \"num_unique_values\": 11,\n        \"samples\": [\n          10,\n          1\n        ],\n        \"semantic_type\": \"\",\n        \"description\": \"\"\n      }\n    },\n    {\n      \"column\": \"Balance\",\n      \"properties\": {\n        \"dtype\": \"number\",\n        \"std\": 59001.34662641681,\n        \"min\": 0.0,\n        \"max\": 185966.64,\n        \"num_unique_values\": 918,\n        \"samples\": [\n          118897.1,\n          109922.61\n        ],\n        \"semantic_type\": \"\",\n        \"description\": \"\"\n      }\n    },\n    {\n      \"column\": \"NumOfProducts\",\n      \"properties\": {\n        \"dtype\": \"number\",\n        \"std\": 0,\n        \"min\": 1,\n        \"max\": 4,\n        \"num_unique_values\": 4,\n        \"samples\": [\n          2,\n          3\n        ],\n        \"semantic_type\": \"\",\n        \"description\": \"\"\n      }\n    },\n    {\n      \"column\": \"HasCrCard\",\n      \"properties\": {\n        \"dtype\": \"number\",\n        \"std\": 0,\n        \"min\": 0,\n        \"max\": 1,\n        \"num_unique_values\": 2,\n        \"samples\": [\n          0,\n          1\n        ],\n        \"semantic_type\": \"\",\n        \"description\": \"\"\n      }\n    },\n    {\n      \"column\": \"IsActiveMember\",\n      \"properties\": {\n        \"dtype\": \"number\",\n        \"std\": 0,\n        \"min\": 0,\n        \"max\": 1,\n        \"num_unique_values\": 2,\n        \"samples\": [\n          0,\n          1\n        ],\n        \"semantic_type\": \"\",\n        \"description\": \"\"\n      }\n    },\n    {\n      \"column\": \"EstimatedSalary\",\n      \"properties\": {\n        \"dtype\": \"number\",\n        \"std\": 46308.105230661626,\n        \"min\": 479.54,\n        \"max\": 199953.33,\n        \"num_unique_values\": 2238,\n        \"samples\": [\n          161203.6,\n          38276.84\n        ],\n        \"semantic_type\": \"\",\n        \"description\": \"\"\n      }\n    }\n  ]\n}"
            }
          },
          "metadata": {},
          "execution_count": 42
        }
      ]
    },
    {
      "cell_type": "code",
      "source": [
        "val_targets"
      ],
      "metadata": {
        "colab": {
          "base_uri": "https://localhost:8080/",
          "height": 458
        },
        "id": "0jlX2uhATZ38",
        "outputId": "25cbf128-d2e9-4d84-8483-a2f5726e9de7"
      },
      "execution_count": 43,
      "outputs": [
        {
          "output_type": "execute_result",
          "data": {
            "text/plain": [
              "6490     1\n",
              "3646     0\n",
              "5306     0\n",
              "652      0\n",
              "2627     0\n",
              "        ..\n",
              "10550    0\n",
              "8866     1\n",
              "3244     0\n",
              "12441    0\n",
              "3024     0\n",
              "Name: Exited, Length: 3000, dtype: int64"
            ],
            "text/html": [
              "<div>\n",
              "<style scoped>\n",
              "    .dataframe tbody tr th:only-of-type {\n",
              "        vertical-align: middle;\n",
              "    }\n",
              "\n",
              "    .dataframe tbody tr th {\n",
              "        vertical-align: top;\n",
              "    }\n",
              "\n",
              "    .dataframe thead th {\n",
              "        text-align: right;\n",
              "    }\n",
              "</style>\n",
              "<table border=\"1\" class=\"dataframe\">\n",
              "  <thead>\n",
              "    <tr style=\"text-align: right;\">\n",
              "      <th></th>\n",
              "      <th>Exited</th>\n",
              "    </tr>\n",
              "  </thead>\n",
              "  <tbody>\n",
              "    <tr>\n",
              "      <th>6490</th>\n",
              "      <td>1</td>\n",
              "    </tr>\n",
              "    <tr>\n",
              "      <th>3646</th>\n",
              "      <td>0</td>\n",
              "    </tr>\n",
              "    <tr>\n",
              "      <th>5306</th>\n",
              "      <td>0</td>\n",
              "    </tr>\n",
              "    <tr>\n",
              "      <th>652</th>\n",
              "      <td>0</td>\n",
              "    </tr>\n",
              "    <tr>\n",
              "      <th>2627</th>\n",
              "      <td>0</td>\n",
              "    </tr>\n",
              "    <tr>\n",
              "      <th>...</th>\n",
              "      <td>...</td>\n",
              "    </tr>\n",
              "    <tr>\n",
              "      <th>10550</th>\n",
              "      <td>0</td>\n",
              "    </tr>\n",
              "    <tr>\n",
              "      <th>8866</th>\n",
              "      <td>1</td>\n",
              "    </tr>\n",
              "    <tr>\n",
              "      <th>3244</th>\n",
              "      <td>0</td>\n",
              "    </tr>\n",
              "    <tr>\n",
              "      <th>12441</th>\n",
              "      <td>0</td>\n",
              "    </tr>\n",
              "    <tr>\n",
              "      <th>3024</th>\n",
              "      <td>0</td>\n",
              "    </tr>\n",
              "  </tbody>\n",
              "</table>\n",
              "<p>3000 rows × 1 columns</p>\n",
              "</div><br><label><b>dtype:</b> int64</label>"
            ]
          },
          "metadata": {},
          "execution_count": 43
        }
      ]
    },
    {
      "cell_type": "markdown",
      "source": [
        "Lastly, we check the list of saved files to confirm that all the parquet files have been successfully saved to the disk."
      ],
      "metadata": {
        "id": "54anZtwLon4v"
      }
    },
    {
      "cell_type": "code",
      "source": [
        "!ls"
      ],
      "metadata": {
        "colab": {
          "base_uri": "https://localhost:8080/"
        },
        "id": "RZjjys6ZTj2o",
        "outputId": "60236f1c-8727-4285-d1f2-29781c7324b9"
      },
      "execution_count": 44,
      "outputs": [
        {
          "output_type": "stream",
          "name": "stdout",
          "text": [
            "bank-customer-churn-prediction-dlu  train_inputs.parquet   val_inputs.parquet\n",
            "sample_data\t\t\t    train_targets.parquet  val_targets.parquet\n"
          ]
        }
      ]
    },
    {
      "cell_type": "markdown",
      "source": [
        "6. З підготовлених вхіжних даних створіть `X_train`, `X_val` набори, які містять лише колонки, які підуть на вхід моделі. Навчіть модель бінарної класифікації з допомогою `LogisticRegression` в `scikit-learn`."
      ],
      "metadata": {
        "id": "D5_3RjSdowGF"
      }
    },
    {
      "cell_type": "markdown",
      "source": [
        "## 6 Logistic Regression Model Training"
      ],
      "metadata": {
        "id": "_tcj0-rXpbO2"
      }
    },
    {
      "cell_type": "markdown",
      "source": [
        "We will now train a logistic regression model using the processed data. Specifically, we will:\n",
        "\n",
        "- Split the data into training and validation sets (X_train, X_val).\n",
        "- Train a binary classification model using Logistic Regression from the scikit-learn library.\n",
        "- Evaluate the model’s performance on the validation set using classification metrics."
      ],
      "metadata": {
        "id": "qVPEYcRRsYbe"
      }
    },
    {
      "cell_type": "code",
      "source": [
        "# Creating X_train and X_val from prepared data\n",
        "X_train = train_inputs_processed_df\n",
        "X_val = val_inputs_processed_df\n",
        "\n",
        "# Training the LogisticRegression model\n",
        "model = LogisticRegression(random_state=42)\n",
        "model.fit(X_train, y_train)\n",
        "\n",
        "# Predicting on the validation set\n",
        "y_val_pred = model.predict(X_val)\n",
        "\n",
        "# Evaluating the model\n",
        "print(\"Classification Report:\")\n",
        "print(classification_report(y_val, y_val_pred))\n",
        "\n",
        "print(\"Confusion Matrix:\")\n",
        "print(confusion_matrix(y_val, y_val_pred))"
      ],
      "metadata": {
        "id": "VZUkPF-e2irB",
        "colab": {
          "base_uri": "https://localhost:8080/"
        },
        "outputId": "70051e0e-72f3-4771-e7ff-b2f627f05fd3"
      },
      "execution_count": 45,
      "outputs": [
        {
          "output_type": "stream",
          "name": "stdout",
          "text": [
            "Classification Report:\n",
            "              precision    recall  f1-score   support\n",
            "\n",
            "           0       0.90      0.94      0.92      2390\n",
            "           1       0.73      0.57      0.64       610\n",
            "\n",
            "    accuracy                           0.87      3000\n",
            "   macro avg       0.81      0.76      0.78      3000\n",
            "weighted avg       0.86      0.87      0.86      3000\n",
            "\n",
            "Confusion Matrix:\n",
            "[[2258  132]\n",
            " [ 260  350]]\n"
          ]
        }
      ]
    },
    {
      "cell_type": "markdown",
      "source": [
        "Model Performance Insights:\n",
        "1. Class 0 (Non-churned clients):\n",
        "- Precision: 0.90 – The model correctly predicts 90% of non-churned clients.\n",
        "- Recall: 0.94 – It successfully identifies 94% of true non-churned cases, slightly higher compared to earlier approaches.\n",
        "- F1-Score: 0.92 – This harmonic mean indicates a good balance between precision and recall.\n",
        "2. Class 1 (Churned clients):\n",
        "- Precision: 0.73 – The model accurately identifies churned clients in 73% of cases.\n",
        "- Recall: 0.57 – It identifies 57% of true churned cases, which is relatively low, indicating room for improvement in identifying churned clients.\n",
        "- F1-Score: 0.64 – This lower score reflects the model’s challenge in identifying churned clients.\n",
        "3. Confusion Matrix:\n",
        "- True Positives (2258): Non-churned clients correctly classified.\n",
        "- False Negatives (132): Churned clients incorrectly classified as non-churned.\n",
        "- True Negatives (350): Churned clients correctly classified.\n",
        "- False Positives (260): Non-churned clients incorrectly classified as churned.\n",
        "4. Overall Accuracy: The model achieves an overall accuracy of 87%, performing well in classifying non-churned clients but needing improvement in identifying churned clients."
      ],
      "metadata": {
        "id": "pysXfOlvshNs"
      }
    },
    {
      "cell_type": "markdown",
      "source": [
        "**Conclusion**:\n",
        "The model is effective in identifying non-churned clients but struggles with churned ones. The relatively low recall for churned clients may indicate insufficient or imbalanced data for those cases or inadequate model capacity to recognize churned behavior."
      ],
      "metadata": {
        "id": "zdTAOYtCs-LZ"
      }
    },
    {
      "cell_type": "markdown",
      "source": [
        "The table below shows the first few rows of the processed training data (`X_train.head()`). The features have been scaled and encoded, ready to be used by the logistic regression model. The columns represent numerical and one-hot encoded categorical variables, such as geography and gender."
      ],
      "metadata": {
        "id": "JEt_Pxn2tWPf"
      }
    },
    {
      "cell_type": "code",
      "source": [
        "X_train.head()"
      ],
      "metadata": {
        "colab": {
          "base_uri": "https://localhost:8080/",
          "height": 206
        },
        "id": "Z8URdl1db3lS",
        "outputId": "da57e976-9170-4615-81af-7185a3ff6be9"
      },
      "execution_count": 46,
      "outputs": [
        {
          "output_type": "execute_result",
          "data": {
            "text/plain": [
              "    Age  Balance  NumOfProducts  IsActiveMember  Geography_France  Geography_Germany  Geography_Spain  Gender_Female  Gender_Male\n",
              "0 -0.94     1.48          -1.11            1.02              1.00               0.00             0.00           0.00         1.00\n",
              "1  0.16     2.25          -1.11           -0.98              1.00               0.00             0.00           1.00         0.00\n",
              "2 -0.33     1.22           0.77           -0.98              0.00               1.00             0.00           0.00         1.00\n",
              "3  2.50    -0.72           0.77            1.02              0.00               0.00             1.00           0.00         1.00\n",
              "4 -2.05    -0.72           0.77            1.02              1.00               0.00             0.00           0.00         1.00"
            ],
            "text/html": [
              "\n",
              "  <div id=\"df-ffef5500-8e52-4623-ac3f-c8a3c39d013b\" class=\"colab-df-container\">\n",
              "    <div>\n",
              "<style scoped>\n",
              "    .dataframe tbody tr th:only-of-type {\n",
              "        vertical-align: middle;\n",
              "    }\n",
              "\n",
              "    .dataframe tbody tr th {\n",
              "        vertical-align: top;\n",
              "    }\n",
              "\n",
              "    .dataframe thead th {\n",
              "        text-align: right;\n",
              "    }\n",
              "</style>\n",
              "<table border=\"1\" class=\"dataframe\">\n",
              "  <thead>\n",
              "    <tr style=\"text-align: right;\">\n",
              "      <th></th>\n",
              "      <th>Age</th>\n",
              "      <th>Balance</th>\n",
              "      <th>NumOfProducts</th>\n",
              "      <th>IsActiveMember</th>\n",
              "      <th>Geography_France</th>\n",
              "      <th>Geography_Germany</th>\n",
              "      <th>Geography_Spain</th>\n",
              "      <th>Gender_Female</th>\n",
              "      <th>Gender_Male</th>\n",
              "    </tr>\n",
              "  </thead>\n",
              "  <tbody>\n",
              "    <tr>\n",
              "      <th>0</th>\n",
              "      <td>-0.94</td>\n",
              "      <td>1.48</td>\n",
              "      <td>-1.11</td>\n",
              "      <td>1.02</td>\n",
              "      <td>1.00</td>\n",
              "      <td>0.00</td>\n",
              "      <td>0.00</td>\n",
              "      <td>0.00</td>\n",
              "      <td>1.00</td>\n",
              "    </tr>\n",
              "    <tr>\n",
              "      <th>1</th>\n",
              "      <td>0.16</td>\n",
              "      <td>2.25</td>\n",
              "      <td>-1.11</td>\n",
              "      <td>-0.98</td>\n",
              "      <td>1.00</td>\n",
              "      <td>0.00</td>\n",
              "      <td>0.00</td>\n",
              "      <td>1.00</td>\n",
              "      <td>0.00</td>\n",
              "    </tr>\n",
              "    <tr>\n",
              "      <th>2</th>\n",
              "      <td>-0.33</td>\n",
              "      <td>1.22</td>\n",
              "      <td>0.77</td>\n",
              "      <td>-0.98</td>\n",
              "      <td>0.00</td>\n",
              "      <td>1.00</td>\n",
              "      <td>0.00</td>\n",
              "      <td>0.00</td>\n",
              "      <td>1.00</td>\n",
              "    </tr>\n",
              "    <tr>\n",
              "      <th>3</th>\n",
              "      <td>2.50</td>\n",
              "      <td>-0.72</td>\n",
              "      <td>0.77</td>\n",
              "      <td>1.02</td>\n",
              "      <td>0.00</td>\n",
              "      <td>0.00</td>\n",
              "      <td>1.00</td>\n",
              "      <td>0.00</td>\n",
              "      <td>1.00</td>\n",
              "    </tr>\n",
              "    <tr>\n",
              "      <th>4</th>\n",
              "      <td>-2.05</td>\n",
              "      <td>-0.72</td>\n",
              "      <td>0.77</td>\n",
              "      <td>1.02</td>\n",
              "      <td>1.00</td>\n",
              "      <td>0.00</td>\n",
              "      <td>0.00</td>\n",
              "      <td>0.00</td>\n",
              "      <td>1.00</td>\n",
              "    </tr>\n",
              "  </tbody>\n",
              "</table>\n",
              "</div>\n",
              "    <div class=\"colab-df-buttons\">\n",
              "\n",
              "  <div class=\"colab-df-container\">\n",
              "    <button class=\"colab-df-convert\" onclick=\"convertToInteractive('df-ffef5500-8e52-4623-ac3f-c8a3c39d013b')\"\n",
              "            title=\"Convert this dataframe to an interactive table.\"\n",
              "            style=\"display:none;\">\n",
              "\n",
              "  <svg xmlns=\"http://www.w3.org/2000/svg\" height=\"24px\" viewBox=\"0 -960 960 960\">\n",
              "    <path d=\"M120-120v-720h720v720H120Zm60-500h600v-160H180v160Zm220 220h160v-160H400v160Zm0 220h160v-160H400v160ZM180-400h160v-160H180v160Zm440 0h160v-160H620v160ZM180-180h160v-160H180v160Zm440 0h160v-160H620v160Z\"/>\n",
              "  </svg>\n",
              "    </button>\n",
              "\n",
              "  <style>\n",
              "    .colab-df-container {\n",
              "      display:flex;\n",
              "      gap: 12px;\n",
              "    }\n",
              "\n",
              "    .colab-df-convert {\n",
              "      background-color: #E8F0FE;\n",
              "      border: none;\n",
              "      border-radius: 50%;\n",
              "      cursor: pointer;\n",
              "      display: none;\n",
              "      fill: #1967D2;\n",
              "      height: 32px;\n",
              "      padding: 0 0 0 0;\n",
              "      width: 32px;\n",
              "    }\n",
              "\n",
              "    .colab-df-convert:hover {\n",
              "      background-color: #E2EBFA;\n",
              "      box-shadow: 0px 1px 2px rgba(60, 64, 67, 0.3), 0px 1px 3px 1px rgba(60, 64, 67, 0.15);\n",
              "      fill: #174EA6;\n",
              "    }\n",
              "\n",
              "    .colab-df-buttons div {\n",
              "      margin-bottom: 4px;\n",
              "    }\n",
              "\n",
              "    [theme=dark] .colab-df-convert {\n",
              "      background-color: #3B4455;\n",
              "      fill: #D2E3FC;\n",
              "    }\n",
              "\n",
              "    [theme=dark] .colab-df-convert:hover {\n",
              "      background-color: #434B5C;\n",
              "      box-shadow: 0px 1px 3px 1px rgba(0, 0, 0, 0.15);\n",
              "      filter: drop-shadow(0px 1px 2px rgba(0, 0, 0, 0.3));\n",
              "      fill: #FFFFFF;\n",
              "    }\n",
              "  </style>\n",
              "\n",
              "    <script>\n",
              "      const buttonEl =\n",
              "        document.querySelector('#df-ffef5500-8e52-4623-ac3f-c8a3c39d013b button.colab-df-convert');\n",
              "      buttonEl.style.display =\n",
              "        google.colab.kernel.accessAllowed ? 'block' : 'none';\n",
              "\n",
              "      async function convertToInteractive(key) {\n",
              "        const element = document.querySelector('#df-ffef5500-8e52-4623-ac3f-c8a3c39d013b');\n",
              "        const dataTable =\n",
              "          await google.colab.kernel.invokeFunction('convertToInteractive',\n",
              "                                                    [key], {});\n",
              "        if (!dataTable) return;\n",
              "\n",
              "        const docLinkHtml = 'Like what you see? Visit the ' +\n",
              "          '<a target=\"_blank\" href=https://colab.research.google.com/notebooks/data_table.ipynb>data table notebook</a>'\n",
              "          + ' to learn more about interactive tables.';\n",
              "        element.innerHTML = '';\n",
              "        dataTable['output_type'] = 'display_data';\n",
              "        await google.colab.output.renderOutput(dataTable, element);\n",
              "        const docLink = document.createElement('div');\n",
              "        docLink.innerHTML = docLinkHtml;\n",
              "        element.appendChild(docLink);\n",
              "      }\n",
              "    </script>\n",
              "  </div>\n",
              "\n",
              "\n",
              "<div id=\"df-f770e5ee-4482-4bdd-987b-3feeac7773de\">\n",
              "  <button class=\"colab-df-quickchart\" onclick=\"quickchart('df-f770e5ee-4482-4bdd-987b-3feeac7773de')\"\n",
              "            title=\"Suggest charts\"\n",
              "            style=\"display:none;\">\n",
              "\n",
              "<svg xmlns=\"http://www.w3.org/2000/svg\" height=\"24px\"viewBox=\"0 0 24 24\"\n",
              "     width=\"24px\">\n",
              "    <g>\n",
              "        <path d=\"M19 3H5c-1.1 0-2 .9-2 2v14c0 1.1.9 2 2 2h14c1.1 0 2-.9 2-2V5c0-1.1-.9-2-2-2zM9 17H7v-7h2v7zm4 0h-2V7h2v10zm4 0h-2v-4h2v4z\"/>\n",
              "    </g>\n",
              "</svg>\n",
              "  </button>\n",
              "\n",
              "<style>\n",
              "  .colab-df-quickchart {\n",
              "      --bg-color: #E8F0FE;\n",
              "      --fill-color: #1967D2;\n",
              "      --hover-bg-color: #E2EBFA;\n",
              "      --hover-fill-color: #174EA6;\n",
              "      --disabled-fill-color: #AAA;\n",
              "      --disabled-bg-color: #DDD;\n",
              "  }\n",
              "\n",
              "  [theme=dark] .colab-df-quickchart {\n",
              "      --bg-color: #3B4455;\n",
              "      --fill-color: #D2E3FC;\n",
              "      --hover-bg-color: #434B5C;\n",
              "      --hover-fill-color: #FFFFFF;\n",
              "      --disabled-bg-color: #3B4455;\n",
              "      --disabled-fill-color: #666;\n",
              "  }\n",
              "\n",
              "  .colab-df-quickchart {\n",
              "    background-color: var(--bg-color);\n",
              "    border: none;\n",
              "    border-radius: 50%;\n",
              "    cursor: pointer;\n",
              "    display: none;\n",
              "    fill: var(--fill-color);\n",
              "    height: 32px;\n",
              "    padding: 0;\n",
              "    width: 32px;\n",
              "  }\n",
              "\n",
              "  .colab-df-quickchart:hover {\n",
              "    background-color: var(--hover-bg-color);\n",
              "    box-shadow: 0 1px 2px rgba(60, 64, 67, 0.3), 0 1px 3px 1px rgba(60, 64, 67, 0.15);\n",
              "    fill: var(--button-hover-fill-color);\n",
              "  }\n",
              "\n",
              "  .colab-df-quickchart-complete:disabled,\n",
              "  .colab-df-quickchart-complete:disabled:hover {\n",
              "    background-color: var(--disabled-bg-color);\n",
              "    fill: var(--disabled-fill-color);\n",
              "    box-shadow: none;\n",
              "  }\n",
              "\n",
              "  .colab-df-spinner {\n",
              "    border: 2px solid var(--fill-color);\n",
              "    border-color: transparent;\n",
              "    border-bottom-color: var(--fill-color);\n",
              "    animation:\n",
              "      spin 1s steps(1) infinite;\n",
              "  }\n",
              "\n",
              "  @keyframes spin {\n",
              "    0% {\n",
              "      border-color: transparent;\n",
              "      border-bottom-color: var(--fill-color);\n",
              "      border-left-color: var(--fill-color);\n",
              "    }\n",
              "    20% {\n",
              "      border-color: transparent;\n",
              "      border-left-color: var(--fill-color);\n",
              "      border-top-color: var(--fill-color);\n",
              "    }\n",
              "    30% {\n",
              "      border-color: transparent;\n",
              "      border-left-color: var(--fill-color);\n",
              "      border-top-color: var(--fill-color);\n",
              "      border-right-color: var(--fill-color);\n",
              "    }\n",
              "    40% {\n",
              "      border-color: transparent;\n",
              "      border-right-color: var(--fill-color);\n",
              "      border-top-color: var(--fill-color);\n",
              "    }\n",
              "    60% {\n",
              "      border-color: transparent;\n",
              "      border-right-color: var(--fill-color);\n",
              "    }\n",
              "    80% {\n",
              "      border-color: transparent;\n",
              "      border-right-color: var(--fill-color);\n",
              "      border-bottom-color: var(--fill-color);\n",
              "    }\n",
              "    90% {\n",
              "      border-color: transparent;\n",
              "      border-bottom-color: var(--fill-color);\n",
              "    }\n",
              "  }\n",
              "</style>\n",
              "\n",
              "  <script>\n",
              "    async function quickchart(key) {\n",
              "      const quickchartButtonEl =\n",
              "        document.querySelector('#' + key + ' button');\n",
              "      quickchartButtonEl.disabled = true;  // To prevent multiple clicks.\n",
              "      quickchartButtonEl.classList.add('colab-df-spinner');\n",
              "      try {\n",
              "        const charts = await google.colab.kernel.invokeFunction(\n",
              "            'suggestCharts', [key], {});\n",
              "      } catch (error) {\n",
              "        console.error('Error during call to suggestCharts:', error);\n",
              "      }\n",
              "      quickchartButtonEl.classList.remove('colab-df-spinner');\n",
              "      quickchartButtonEl.classList.add('colab-df-quickchart-complete');\n",
              "    }\n",
              "    (() => {\n",
              "      let quickchartButtonEl =\n",
              "        document.querySelector('#df-f770e5ee-4482-4bdd-987b-3feeac7773de button');\n",
              "      quickchartButtonEl.style.display =\n",
              "        google.colab.kernel.accessAllowed ? 'block' : 'none';\n",
              "    })();\n",
              "  </script>\n",
              "</div>\n",
              "    </div>\n",
              "  </div>\n"
            ],
            "application/vnd.google.colaboratory.intrinsic+json": {
              "type": "dataframe",
              "variable_name": "X_train",
              "summary": "{\n  \"name\": \"X_train\",\n  \"rows\": 12000,\n  \"fields\": [\n    {\n      \"column\": \"Age\",\n      \"properties\": {\n        \"dtype\": \"number\",\n        \"std\": 1.0000416692710037,\n        \"min\": -2.419227378706018,\n        \"max\": 4.461984864380664,\n        \"num_unique_values\": 56,\n        \"samples\": [\n          -0.944681898044586,\n          -0.08453036765875079,\n          -1.313318268209944\n        ],\n        \"semantic_type\": \"\",\n        \"description\": \"\"\n      }\n    },\n    {\n      \"column\": \"Balance\",\n      \"properties\": {\n        \"dtype\": \"number\",\n        \"std\": 1.0000416692709786,\n        \"min\": -0.7179500526334832,\n        \"max\": 2.7837668532251993,\n        \"num_unique_values\": 2895,\n        \"samples\": [\n          1.1290207193621795,\n          2.1413503948412784,\n          2.123493863526371\n        ],\n        \"semantic_type\": \"\",\n        \"description\": \"\"\n      }\n    },\n    {\n      \"column\": \"NumOfProducts\",\n      \"properties\": {\n        \"dtype\": \"number\",\n        \"std\": 1.0000416692710465,\n        \"min\": -1.1081927527515099,\n        \"max\": 4.5242990020210945,\n        \"num_unique_values\": 4,\n        \"samples\": [\n          0.7693044988393583,\n          4.5242990020210945,\n          -1.1081927527515099\n        ],\n        \"semantic_type\": \"\",\n        \"description\": \"\"\n      }\n    },\n    {\n      \"column\": \"IsActiveMember\",\n      \"properties\": {\n        \"dtype\": \"number\",\n        \"std\": 1.0000416692710434,\n        \"min\": -0.9833059918764125,\n        \"max\": 1.0169774294690614,\n        \"num_unique_values\": 2,\n        \"samples\": [\n          -0.9833059918764125,\n          1.0169774294690614\n        ],\n        \"semantic_type\": \"\",\n        \"description\": \"\"\n      }\n    },\n    {\n      \"column\": \"Geography_France\",\n      \"properties\": {\n        \"dtype\": \"number\",\n        \"std\": 0.4897303469324766,\n        \"min\": 0.0,\n        \"max\": 1.0,\n        \"num_unique_values\": 2,\n        \"samples\": [\n          0.0,\n          1.0\n        ],\n        \"semantic_type\": \"\",\n        \"description\": \"\"\n      }\n    },\n    {\n      \"column\": \"Geography_Germany\",\n      \"properties\": {\n        \"dtype\": \"number\",\n        \"std\": 0.38357749995910745,\n        \"min\": 0.0,\n        \"max\": 1.0,\n        \"num_unique_values\": 2,\n        \"samples\": [\n          1.0,\n          0.0\n        ],\n        \"semantic_type\": \"\",\n        \"description\": \"\"\n      }\n    },\n    {\n      \"column\": \"Geography_Spain\",\n      \"properties\": {\n        \"dtype\": \"number\",\n        \"std\": 0.4141508569349529,\n        \"min\": 0.0,\n        \"max\": 1.0,\n        \"num_unique_values\": 2,\n        \"samples\": [\n          1.0,\n          0.0\n        ],\n        \"semantic_type\": \"\",\n        \"description\": \"\"\n      }\n    },\n    {\n      \"column\": \"Gender_Female\",\n      \"properties\": {\n        \"dtype\": \"number\",\n        \"std\": 0.49466290638096455,\n        \"min\": 0.0,\n        \"max\": 1.0,\n        \"num_unique_values\": 2,\n        \"samples\": [\n          1.0,\n          0.0\n        ],\n        \"semantic_type\": \"\",\n        \"description\": \"\"\n      }\n    },\n    {\n      \"column\": \"Gender_Male\",\n      \"properties\": {\n        \"dtype\": \"number\",\n        \"std\": 0.49466290638096455,\n        \"min\": 0.0,\n        \"max\": 1.0,\n        \"num_unique_values\": 2,\n        \"samples\": [\n          0.0,\n          1.0\n        ],\n        \"semantic_type\": \"\",\n        \"description\": \"\"\n      }\n    }\n  ]\n}"
            }
          },
          "metadata": {},
          "execution_count": 46
        }
      ]
    },
    {
      "cell_type": "markdown",
      "source": [
        "After fitting the logistic regression model, the learned coefficients represent the relationship between each feature and the target variable (customer churn). These coefficients indicate how much each feature contributes to the likelihood of a customer churning."
      ],
      "metadata": {
        "id": "O_6BXvP0teQr"
      }
    },
    {
      "cell_type": "code",
      "source": [
        "model.coef_.round(2)"
      ],
      "metadata": {
        "colab": {
          "base_uri": "https://localhost:8080/"
        },
        "id": "MWSDjP74c38_",
        "outputId": "fd98649d-e57e-4bf0-81da-f88386b51ffb"
      },
      "execution_count": 47,
      "outputs": [
        {
          "output_type": "execute_result",
          "data": {
            "text/plain": [
              "array([[ 1.29, -0.32, -0.72, -0.64, -0.82,  0.76, -0.92, -0.05, -0.92]])"
            ]
          },
          "metadata": {},
          "execution_count": 47
        }
      ]
    },
    {
      "cell_type": "markdown",
      "source": [
        "## 7 Model Evaluation"
      ],
      "metadata": {
        "id": "6PxkDNQSvVm1"
      }
    },
    {
      "cell_type": "markdown",
      "source": [
        "In this section, we will evaluate the performance of the binary classification model using various metrics on both the training and validation datasets. The evaluation includes the Confusion Matrix, ROC Curve, F1 Score, and AUROC for a classification threshold of 0.5."
      ],
      "metadata": {
        "id": "-WSQUyZuvUxd"
      }
    },
    {
      "cell_type": "markdown",
      "source": [
        "**F1 Score & AUROC**"
      ],
      "metadata": {
        "id": "pzT_MH1Rvxyk"
      }
    },
    {
      "cell_type": "code",
      "source": [
        "# Predict on training set for further metric calculations\n",
        "y_train_pred = model.predict(X_train)\n",
        "y_train_probs = model.predict_proba(X_train)[:, 1]\n",
        "y_val_probs = model.predict_proba(X_val)[:, 1]\n",
        "\n",
        "# Compute metrics\n",
        "from sklearn.metrics import f1_score, roc_auc_score\n",
        "train_f1 = f1_score(y_train, y_train_pred)\n",
        "val_f1 = f1_score(y_val, y_val_pred)\n",
        "train_auc = roc_auc_score(y_train, y_train_probs)\n",
        "val_auc = roc_auc_score(y_val, y_val_probs)\n",
        "\n",
        "# Print results\n",
        "print(f\"F1 Score on training data: {train_f1}\")\n",
        "print(f\"F1 Score on validation data: {val_f1}\")\n",
        "print(f\"AUROC on training data: {train_auc}\")\n",
        "print(f\"AUROC on validation data: {val_auc}\")"
      ],
      "metadata": {
        "id": "I02ENkyJ2jhn",
        "colab": {
          "base_uri": "https://localhost:8080/"
        },
        "outputId": "c6ffc568-6b9d-40ef-9c06-2955a718c59a"
      },
      "execution_count": 48,
      "outputs": [
        {
          "output_type": "stream",
          "name": "stdout",
          "text": [
            "F1 Score on training data: 0.6366022429014555\n",
            "F1 Score on validation data: 0.6410256410256411\n",
            "AUROC on training data: 0.881148975546339\n",
            "AUROC on validation data: 0.8784419370327183\n"
          ]
        }
      ]
    },
    {
      "cell_type": "markdown",
      "source": [
        "**F1 Score:**\n",
        "\n",
        "The F1 Score combines precision and recall into a single metric that evaluates the balance between them. It is particularly useful when the dataset is imbalanced or when false positives and false negatives carry different costs.\n",
        "\n",
        "Training data: F1 score of 0.6366\n",
        "Validation data: F1 score of 0.6410\n",
        "While these values around 0.64 indicate decent performance, they suggest room for improvement, especially for the positive class. This result is typical in customer churn prediction models, where identifying true positives (churned customers) is often more difficult.\n"
      ],
      "metadata": {
        "id": "yuI8rRNSvmVY"
      }
    },
    {
      "cell_type": "markdown",
      "source": [
        "**AUROC:**\n",
        "\n",
        "The Area Under the Receiver Operating Characteristic Curve (AUROC) provides an aggregate measure of performance across all classification thresholds. AUROC close to 1.0 indicates that the model is highly capable of distinguishing between the positive and negative classes.\n",
        "\n",
        "Training data: AUROC of 0.8811\n",
        "Validation data: AUROC of 0.8747\n",
        "Both values above 0.87 indicate that the model performs very well in distinguishing between churned and non-churned customers."
      ],
      "metadata": {
        "id": "QYC6mW5Nv73b"
      }
    },
    {
      "cell_type": "markdown",
      "source": [
        "**Confusion Matrix**"
      ],
      "metadata": {
        "id": "1Exbbf7NvtVx"
      }
    },
    {
      "cell_type": "markdown",
      "source": [
        "We display the confusion matrix for both the training and validation datasets to understand how well the model is classifying customers as churned or non-churned."
      ],
      "metadata": {
        "id": "cKZc40wAvu3a"
      }
    },
    {
      "cell_type": "code",
      "source": [
        "# Confusion Matrix\n",
        "print(\"Confusion Matrix on training data:\")\n",
        "print(confusion_matrix(y_train, y_train_pred))\n",
        "print(\"Confusion Matrix on validation data:\")\n",
        "print(confusion_matrix(y_val, y_val_pred))"
      ],
      "metadata": {
        "colab": {
          "base_uri": "https://localhost:8080/"
        },
        "id": "5l-yvB4-eWoo",
        "outputId": "c921448f-b699-492d-eb96-db661ecf8045"
      },
      "execution_count": 49,
      "outputs": [
        {
          "output_type": "stream",
          "name": "stdout",
          "text": [
            "Confusion Matrix on training data:\n",
            "[[9143  415]\n",
            " [1108 1334]]\n",
            "Confusion Matrix on validation data:\n",
            "[[2258  132]\n",
            " [ 260  350]]\n"
          ]
        }
      ]
    },
    {
      "cell_type": "markdown",
      "source": [
        "The model performs well in identifying non-churned customers (TN) and has moderate success in identifying churned customers (TP).\n",
        "However, there are still some false negatives (customers who churned but were predicted as non-churned) and false positives (non-churned customers predicted to churn)."
      ],
      "metadata": {
        "id": "KMSy0YZYwUfK"
      }
    },
    {
      "cell_type": "markdown",
      "source": [
        "**ROC Curve**"
      ],
      "metadata": {
        "id": "YxzYNXMwwcuS"
      }
    },
    {
      "cell_type": "markdown",
      "source": [
        "Finally, we visualize the ROC curve for both the training and validation datasets to see how the model's performance changes with different classification thresholds."
      ],
      "metadata": {
        "id": "9l77g8ODwgJV"
      }
    },
    {
      "cell_type": "code",
      "source": [
        "# ROC Curve\n",
        "fpr_train, tpr_train, _ = roc_curve(y_train, y_train_probs)\n",
        "fpr_val, tpr_val, _ = roc_curve(y_val, y_val_probs)\n",
        "\n",
        "plt.figure(figsize=(14, 7))\n",
        "plt.subplot(1, 2, 1)\n",
        "plt.plot(fpr_train, tpr_train, label=f'Train ROC Curve (AUROC = {train_auc:.2f})')\n",
        "plt.plot([0, 1], [0, 1], 'k--')\n",
        "plt.xlabel('False Positive Rate')\n",
        "plt.ylabel('True Positive Rate')\n",
        "plt.title('ROC Curve - Train')\n",
        "plt.legend(loc='best')\n",
        "\n",
        "plt.subplot(1, 2, 2)\n",
        "plt.plot(fpr_val, tpr_val, label=f'Validation ROC Curve (AUROC = {val_auc:.2f})')\n",
        "plt.plot([0, 1], [0, 1], 'k--')\n",
        "plt.xlabel('False Positive Rate')\n",
        "plt.ylabel('True Positive Rate')\n",
        "plt.title('ROC Curve - Validation')\n",
        "plt.legend(loc='best')\n",
        "\n",
        "plt.tight_layout()\n",
        "plt.show()"
      ],
      "metadata": {
        "colab": {
          "base_uri": "https://localhost:8080/",
          "height": 707
        },
        "id": "XVvnXgVTeipM",
        "outputId": "180aff9a-a2af-4d3d-c0f8-735f24d0a3d1"
      },
      "execution_count": 50,
      "outputs": [
        {
          "output_type": "display_data",
          "data": {
            "text/plain": [
              "<Figure size 1400x700 with 2 Axes>"
            ],
            "image/png": "[encoded data removed]"
          },
          "metadata": {}
        }
      ]
    },
    {
      "cell_type": "markdown",
      "source": [
        " 1. ROC Curve Evaluation:\n",
        "- **AUROC score** for both the training and validation sets is 0.88. This is an excellent result, indicating the model's strong capability in distinguishing between classes.\n",
        "- Both curves rise quickly toward the top-left corner, indicating high sensitivity and specificity of the model. This means the model correctly identifies both positive and negative examples with high probability.\n",
        "- Since the curves and the area under the curve (AUROC) are very close for both sets, it demonstrates that the model generalizes well and is not overfitting.\n",
        "\n",
        "2. AUROC of 0.88 suggests strong model performance. Ideally, an AUROC close to 1.0 signifies near-perfect ability to differentiate between two classes. A score of 0.88 shows that the model handles this task very well.\n",
        "\n",
        "3. Conclusion: ROC curves and AUROC scores indicate that the model effectively distinguishes between the two classes and can be considered reliable for predicting customer churn.\n",
        "\n",
        "---\n",
        "\n",
        "### General Conclusions:\n",
        "\n",
        "1. **Performance based on F1 Score and AUROC:**\n",
        "   - The **F1 Score** on both the training and validation sets is around 0.64. This is not the highest score, especially for scenarios where it is crucial to identify positive cases (e.g., churned customers) as accurately as possible. It indicates potential room for improvement, particularly in terms of balancing sensitivity and specificity.\n",
        "   - **AUROC** is very high, at 0.88 for both the training and validation sets, demonstrating the model's strong ability to correctly classify both classes.\n",
        "\n",
        "2. **Consistency between training and validation data:** The model shows stable metrics across both training and validation data, which is a positive indicator of its generalization capabilities. This means the model is not overfitting and performs well with unseen data.\n",
        "\n",
        "3. **Confusion Matrix Analysis:** The matrix shows that the model better identifies customers who did not churn than those who did, which is typical for imbalanced data. However, false positives (customers who churned but were predicted not to) can be critical depending on business objectives.\n",
        "\n",
        "4. The model can be considered **satisfactory** with a tendency toward \"good\" given the high AUROC and stable metrics. It can still be improved, particularly in identifying potential churners. Further steps could involve increasing the F1 score by boosting the sensitivity to the class of churned customers. Adjusting classification thresholds or using more complex machine learning models might also be helpful in this regard.\n"
      ],
      "metadata": {
        "id": "Azn0MmJLxaYZ"
      }
    },
    {
      "cell_type": "markdown",
      "source": [
        "## 8 Predicting the Majority Class"
      ],
      "metadata": {
        "id": "eXtoRtX5yw7X"
      }
    },
    {
      "cell_type": "markdown",
      "source": [
        "In this step, we implement a simple baseline model that predicts the majority class (the class with the most instances in the training data). We then compare its performance with the model trained in Step 6 by evaluating the accuracy on both the training and validation datasets. Finally, we draw conclusions regarding the model's performance and overall quality."
      ],
      "metadata": {
        "id": "Fm5D_vvvzxzB"
      }
    },
    {
      "cell_type": "code",
      "source": [
        "# Determining the majority class in training data\n",
        "majority_class = y_train.mode()[0]\n",
        "print(f\"Majority class: {majority_class}\")"
      ],
      "metadata": {
        "id": "0szMoWzd2k_Y",
        "colab": {
          "base_uri": "https://localhost:8080/"
        },
        "outputId": "2dc902ea-f8f7-48b3-c194-ea1d158a15d2"
      },
      "execution_count": 51,
      "outputs": [
        {
          "output_type": "stream",
          "name": "stdout",
          "text": [
            "Majority class: 0\n"
          ]
        }
      ]
    },
    {
      "cell_type": "code",
      "source": [
        "# Creating predictions for the base model\n",
        "y_train_majority_pred = np.full_like(y_train, majority_class)\n",
        "y_val_majority_pred = np.full_like(y_val, majority_class)"
      ],
      "metadata": {
        "id": "ZwxD19j3ftyE"
      },
      "execution_count": 52,
      "outputs": []
    },
    {
      "cell_type": "code",
      "source": [
        "# Calculating accuracy for the base model\n",
        "train_majority_accuracy = accuracy_score(y_train, y_train_majority_pred)\n",
        "val_majority_accuracy = accuracy_score(y_val, y_val_majority_pred)\n",
        "\n",
        "# Calculating accuracy for the trained model\n",
        "train_model_accuracy = accuracy_score(y_train, y_train_pred)\n",
        "val_model_accuracy = accuracy_score(y_val, y_val_pred)\n",
        "\n",
        "# Displaying the results\n",
        "print(f\"Baseline model accuracy on training data: {train_majority_accuracy}\")\n",
        "print(f\"Baseline model accuracy on validation data: {val_majority_accuracy}\")\n",
        "print(f\"Trained model accuracy on training data: {train_model_accuracy}\")\n",
        "print(f\"Trained model accuracy on validation data: {val_model_accuracy}\")"
      ],
      "metadata": {
        "colab": {
          "base_uri": "https://localhost:8080/"
        },
        "id": "Eg6dmG-tfw6x",
        "outputId": "5bc344a5-ee85-455b-f686-9ef1ca781067"
      },
      "execution_count": 53,
      "outputs": [
        {
          "output_type": "stream",
          "name": "stdout",
          "text": [
            "Baseline model accuracy on training data: 0.7965\n",
            "Baseline model accuracy on validation data: 0.7966666666666666\n",
            "Trained model accuracy on training data: 0.8730833333333333\n",
            "Trained model accuracy on validation data: 0.8693333333333333\n"
          ]
        }
      ]
    },
    {
      "cell_type": "markdown",
      "source": [
        "**Conclusion**:\n",
        "The trained model significantly outperforms the baseline model, demonstrating a higher accuracy on both the training and validation datasets. The baseline model, which predicts only the majority class, achieves an accuracy of approximately 79.65% on both datasets. While this is expected given the class imbalance, it serves as a low benchmark.\n",
        "\n",
        "In contrast, the trained model achieves an accuracy of 87.81% on the training data and 86.93% on the validation data, reflecting a strong generalization capability. The small gap between training and validation accuracy suggests that the model is not overfitting and is able to capture meaningful patterns in the data, rather than memorizing the training set.\n",
        "\n",
        "The F1 Score and AUROC metrics also indicate strong performance, especially when compared to the baseline model. However, there is room for improvement in the model's ability to identify the minority class (churners), as evidenced by the F1 Score for class 1. This suggests that further fine-tuning, particularly in optimizing for recall or precision, could enhance the model’s effectiveness in detecting churn.\n",
        "\n",
        "---\n",
        "\n",
        "**Additional Insights**:\n",
        "The trained model is already satisfactory with a tendency toward \"good\" performance, based on its high AUROC and the stability of key metrics. This makes it useful for identifying potential churners. Nevertheless, there remains potential for further improvements. Specifically:\n",
        "- F1 Score Optimization: Improving the balance between precision and recall for the minority class (churners) is critical. This can be achieved by adjusting the classification threshold, applying oversampling techniques, or experimenting with more complex algorithms.\n",
        "- Focus on Generalization: Given that the model is not overfitting, additional efforts can be placed on refining its sensitivity to churn patterns, thereby further enhancing its ability to generalize to unseen data.\n",
        "In summary, the current model is a significant improvement over the baseline and exhibits strong potential for predicting customer churn. Further optimizations could elevate it to a higher performance level, especially in identifying churners."
      ],
      "metadata": {
        "id": "3zHmUNxzz89T"
      }
    },
    {
      "cell_type": "markdown",
      "source": [
        "## 9 Persisting the Model and Associated Objects Using the `joblib` Library"
      ],
      "metadata": {
        "id": "BlUlBmVN1JOl"
      }
    },
    {
      "cell_type": "markdown",
      "source": [
        "To ensure reproducibility and future usability of the trained model, it is essential to store not only the model itself but also any preprocessing steps and relevant metadata (e.g., feature columns). In this example, we will save the model and its associated components into a file using t"
      ],
      "metadata": {
        "id": "6NjEQuuQ1Q2h"
      }
    },
    {
      "cell_type": "code",
      "source": [
        "# Define the model and the preprocessing details in a dictionary\n",
        "churn_prediction = {\n",
        "    'model': model,\n",
        "    'preprocessor': preprocessor,\n",
        "    'numeric_cols': numeric_cols,\n",
        "    'categorical_cols': categorical_cols,\n",
        "}\n",
        "\n",
        "# Save everything to a joblib file\n",
        "joblib.dump(churn_prediction, 'log_reg.joblib')"
      ],
      "metadata": {
        "id": "FpeQ2qLm2oBU",
        "colab": {
          "base_uri": "https://localhost:8080/"
        },
        "outputId": "ade8fab0-22e3-4564-f145-705d7e32f962"
      },
      "execution_count": 54,
      "outputs": [
        {
          "output_type": "execute_result",
          "data": {
            "text/plain": [
              "['log_reg.joblib']"
            ]
          },
          "metadata": {},
          "execution_count": 54
        }
      ]
    },
    {
      "cell_type": "code",
      "source": [
        "# Load the dictionary from the joblib file\n",
        "churn_prediction_loaded = joblib.load('log_reg.joblib')\n",
        "\n",
        "# Access the loaded model and assign it to model_2\n",
        "model_2 = churn_prediction_loaded['model']\n",
        "preprocessor_loaded = churn_prediction_loaded['preprocessor']\n",
        "numeric_cols_loaded = churn_prediction_loaded['numeric_cols']\n",
        "categorical_cols_loaded = churn_prediction_loaded['categorical_cols']"
      ],
      "metadata": {
        "id": "PnYN3-CCyh_C"
      },
      "execution_count": 55,
      "outputs": []
    },
    {
      "cell_type": "code",
      "source": [
        "model_2"
      ],
      "metadata": {
        "colab": {
          "base_uri": "https://localhost:8080/",
          "height": 80
        },
        "id": "2bmfeqCmzUNe",
        "outputId": "2bf43a8e-e067-4a0c-cf2a-be44de72e000"
      },
      "execution_count": 56,
      "outputs": [
        {
          "output_type": "execute_result",
          "data": {
            "text/plain": [
              "LogisticRegression(random_state=42)"
            ],
            "text/html": [
              "<style>#sk-container-id-1 {\n",
              "  /* Definition of color scheme common for light and dark mode */\n",
              "  --sklearn-color-text: black;\n",
              "  --sklearn-color-line: gray;\n",
              "  /* Definition of color scheme for unfitted estimators */\n",
              "  --sklearn-color-unfitted-level-0: #fff5e6;\n",
              "  --sklearn-color-unfitted-level-1: #f6e4d2;\n",
              "  --sklearn-color-unfitted-level-2: #ffe0b3;\n",
              "  --sklearn-color-unfitted-level-3: chocolate;\n",
              "  /* Definition of color scheme for fitted estimators */\n",
              "  --sklearn-color-fitted-level-0: #f0f8ff;\n",
              "  --sklearn-color-fitted-level-1: #d4ebff;\n",
              "  --sklearn-color-fitted-level-2: #b3dbfd;\n",
              "  --sklearn-color-fitted-level-3: cornflowerblue;\n",
              "\n",
              "  /* Specific color for light theme */\n",
              "  --sklearn-color-text-on-default-background: var(--sg-text-color, var(--theme-code-foreground, var(--jp-content-font-color1, black)));\n",
              "  --sklearn-color-background: var(--sg-background-color, var(--theme-background, var(--jp-layout-color0, white)));\n",
              "  --sklearn-color-border-box: var(--sg-text-color, var(--theme-code-foreground, var(--jp-content-font-color1, black)));\n",
              "  --sklearn-color-icon: #696969;\n",
              "\n",
              "  @media (prefers-color-scheme: dark) {\n",
              "    /* Redefinition of color scheme for dark theme */\n",
              "    --sklearn-color-text-on-default-background: var(--sg-text-color, var(--theme-code-foreground, var(--jp-content-font-color1, white)));\n",
              "    --sklearn-color-background: var(--sg-background-color, var(--theme-background, var(--jp-layout-color0, #111)));\n",
              "    --sklearn-color-border-box: var(--sg-text-color, var(--theme-code-foreground, var(--jp-content-font-color1, white)));\n",
              "    --sklearn-color-icon: #878787;\n",
              "  }\n",
              "}\n",
              "\n",
              "#sk-container-id-1 {\n",
              "  color: var(--sklearn-color-text);\n",
              "}\n",
              "\n",
              "#sk-container-id-1 pre {\n",
              "  padding: 0;\n",
              "}\n",
              "\n",
              "#sk-container-id-1 input.sk-hidden--visually {\n",
              "  border: 0;\n",
              "  clip: rect(1px 1px 1px 1px);\n",
              "  clip: rect(1px, 1px, 1px, 1px);\n",
              "  height: 1px;\n",
              "  margin: -1px;\n",
              "  overflow: hidden;\n",
              "  padding: 0;\n",
              "  position: absolute;\n",
              "  width: 1px;\n",
              "}\n",
              "\n",
              "#sk-container-id-1 div.sk-dashed-wrapped {\n",
              "  border: 1px dashed var(--sklearn-color-line);\n",
              "  margin: 0 0.4em 0.5em 0.4em;\n",
              "  box-sizing: border-box;\n",
              "  padding-bottom: 0.4em;\n",
              "  background-color: var(--sklearn-color-background);\n",
              "}\n",
              "\n",
              "#sk-container-id-1 div.sk-container {\n",
              "  /* jupyter's `normalize.less` sets `[hidden] { display: none; }`\n",
              "     but bootstrap.min.css set `[hidden] { display: none !important; }`\n",
              "     so we also need the `!important` here to be able to override the\n",
              "     default hidden behavior on the sphinx rendered scikit-learn.org.\n",
              "     See: https://github.com/scikit-learn/scikit-learn/issues/21755 */\n",
              "  display: inline-block !important;\n",
              "  position: relative;\n",
              "}\n",
              "\n",
              "#sk-container-id-1 div.sk-text-repr-fallback {\n",
              "  display: none;\n",
              "}\n",
              "\n",
              "div.sk-parallel-item,\n",
              "div.sk-serial,\n",
              "div.sk-item {\n",
              "  /* draw centered vertical line to link estimators */\n",
              "  background-image: linear-gradient(var(--sklearn-color-text-on-default-background), var(--sklearn-color-text-on-default-background));\n",
              "  background-size: 2px 100%;\n",
              "  background-repeat: no-repeat;\n",
              "  background-position: center center;\n",
              "}\n",
              "\n",
              "/* Parallel-specific style estimator block */\n",
              "\n",
              "#sk-container-id-1 div.sk-parallel-item::after {\n",
              "  content: \"\";\n",
              "  width: 100%;\n",
              "  border-bottom: 2px solid var(--sklearn-color-text-on-default-background);\n",
              "  flex-grow: 1;\n",
              "}\n",
              "\n",
              "#sk-container-id-1 div.sk-parallel {\n",
              "  display: flex;\n",
              "  align-items: stretch;\n",
              "  justify-content: center;\n",
              "  background-color: var(--sklearn-color-background);\n",
              "  position: relative;\n",
              "}\n",
              "\n",
              "#sk-container-id-1 div.sk-parallel-item {\n",
              "  display: flex;\n",
              "  flex-direction: column;\n",
              "}\n",
              "\n",
              "#sk-container-id-1 div.sk-parallel-item:first-child::after {\n",
              "  align-self: flex-end;\n",
              "  width: 50%;\n",
              "}\n",
              "\n",
              "#sk-container-id-1 div.sk-parallel-item:last-child::after {\n",
              "  align-self: flex-start;\n",
              "  width: 50%;\n",
              "}\n",
              "\n",
              "#sk-container-id-1 div.sk-parallel-item:only-child::after {\n",
              "  width: 0;\n",
              "}\n",
              "\n",
              "/* Serial-specific style estimator block */\n",
              "\n",
              "#sk-container-id-1 div.sk-serial {\n",
              "  display: flex;\n",
              "  flex-direction: column;\n",
              "  align-items: center;\n",
              "  background-color: var(--sklearn-color-background);\n",
              "  padding-right: 1em;\n",
              "  padding-left: 1em;\n",
              "}\n",
              "\n",
              "\n",
              "/* Toggleable style: style used for estimator/Pipeline/ColumnTransformer box that is\n",
              "clickable and can be expanded/collapsed.\n",
              "- Pipeline and ColumnTransformer use this feature and define the default style\n",
              "- Estimators will overwrite some part of the style using the `sk-estimator` class\n",
              "*/\n",
              "\n",
              "/* Pipeline and ColumnTransformer style (default) */\n",
              "\n",
              "#sk-container-id-1 div.sk-toggleable {\n",
              "  /* Default theme specific background. It is overwritten whether we have a\n",
              "  specific estimator or a Pipeline/ColumnTransformer */\n",
              "  background-color: var(--sklearn-color-background);\n",
              "}\n",
              "\n",
              "/* Toggleable label */\n",
              "#sk-container-id-1 label.sk-toggleable__label {\n",
              "  cursor: pointer;\n",
              "  display: block;\n",
              "  width: 100%;\n",
              "  margin-bottom: 0;\n",
              "  padding: 0.5em;\n",
              "  box-sizing: border-box;\n",
              "  text-align: center;\n",
              "}\n",
              "\n",
              "#sk-container-id-1 label.sk-toggleable__label-arrow:before {\n",
              "  /* Arrow on the left of the label */\n",
              "  content: \"▸\";\n",
              "  float: left;\n",
              "  margin-right: 0.25em;\n",
              "  color: var(--sklearn-color-icon);\n",
              "}\n",
              "\n",
              "#sk-container-id-1 label.sk-toggleable__label-arrow:hover:before {\n",
              "  color: var(--sklearn-color-text);\n",
              "}\n",
              "\n",
              "/* Toggleable content - dropdown */\n",
              "\n",
              "#sk-container-id-1 div.sk-toggleable__content {\n",
              "  max-height: 0;\n",
              "  max-width: 0;\n",
              "  overflow: hidden;\n",
              "  text-align: left;\n",
              "  /* unfitted */\n",
              "  background-color: var(--sklearn-color-unfitted-level-0);\n",
              "}\n",
              "\n",
              "#sk-container-id-1 div.sk-toggleable__content.fitted {\n",
              "  /* fitted */\n",
              "  background-color: var(--sklearn-color-fitted-level-0);\n",
              "}\n",
              "\n",
              "#sk-container-id-1 div.sk-toggleable__content pre {\n",
              "  margin: 0.2em;\n",
              "  border-radius: 0.25em;\n",
              "  color: var(--sklearn-color-text);\n",
              "  /* unfitted */\n",
              "  background-color: var(--sklearn-color-unfitted-level-0);\n",
              "}\n",
              "\n",
              "#sk-container-id-1 div.sk-toggleable__content.fitted pre {\n",
              "  /* unfitted */\n",
              "  background-color: var(--sklearn-color-fitted-level-0);\n",
              "}\n",
              "\n",
              "#sk-container-id-1 input.sk-toggleable__control:checked~div.sk-toggleable__content {\n",
              "  /* Expand drop-down */\n",
              "  max-height: 200px;\n",
              "  max-width: 100%;\n",
              "  overflow: auto;\n",
              "}\n",
              "\n",
              "#sk-container-id-1 input.sk-toggleable__control:checked~label.sk-toggleable__label-arrow:before {\n",
              "  content: \"▾\";\n",
              "}\n",
              "\n",
              "/* Pipeline/ColumnTransformer-specific style */\n",
              "\n",
              "#sk-container-id-1 div.sk-label input.sk-toggleable__control:checked~label.sk-toggleable__label {\n",
              "  color: var(--sklearn-color-text);\n",
              "  background-color: var(--sklearn-color-unfitted-level-2);\n",
              "}\n",
              "\n",
              "#sk-container-id-1 div.sk-label.fitted input.sk-toggleable__control:checked~label.sk-toggleable__label {\n",
              "  background-color: var(--sklearn-color-fitted-level-2);\n",
              "}\n",
              "\n",
              "/* Estimator-specific style */\n",
              "\n",
              "/* Colorize estimator box */\n",
              "#sk-container-id-1 div.sk-estimator input.sk-toggleable__control:checked~label.sk-toggleable__label {\n",
              "  /* unfitted */\n",
              "  background-color: var(--sklearn-color-unfitted-level-2);\n",
              "}\n",
              "\n",
              "#sk-container-id-1 div.sk-estimator.fitted input.sk-toggleable__control:checked~label.sk-toggleable__label {\n",
              "  /* fitted */\n",
              "  background-color: var(--sklearn-color-fitted-level-2);\n",
              "}\n",
              "\n",
              "#sk-container-id-1 div.sk-label label.sk-toggleable__label,\n",
              "#sk-container-id-1 div.sk-label label {\n",
              "  /* The background is the default theme color */\n",
              "  color: var(--sklearn-color-text-on-default-background);\n",
              "}\n",
              "\n",
              "/* On hover, darken the color of the background */\n",
              "#sk-container-id-1 div.sk-label:hover label.sk-toggleable__label {\n",
              "  color: var(--sklearn-color-text);\n",
              "  background-color: var(--sklearn-color-unfitted-level-2);\n",
              "}\n",
              "\n",
              "/* Label box, darken color on hover, fitted */\n",
              "#sk-container-id-1 div.sk-label.fitted:hover label.sk-toggleable__label.fitted {\n",
              "  color: var(--sklearn-color-text);\n",
              "  background-color: var(--sklearn-color-fitted-level-2);\n",
              "}\n",
              "\n",
              "/* Estimator label */\n",
              "\n",
              "#sk-container-id-1 div.sk-label label {\n",
              "  font-family: monospace;\n",
              "  font-weight: bold;\n",
              "  display: inline-block;\n",
              "  line-height: 1.2em;\n",
              "}\n",
              "\n",
              "#sk-container-id-1 div.sk-label-container {\n",
              "  text-align: center;\n",
              "}\n",
              "\n",
              "/* Estimator-specific */\n",
              "#sk-container-id-1 div.sk-estimator {\n",
              "  font-family: monospace;\n",
              "  border: 1px dotted var(--sklearn-color-border-box);\n",
              "  border-radius: 0.25em;\n",
              "  box-sizing: border-box;\n",
              "  margin-bottom: 0.5em;\n",
              "  /* unfitted */\n",
              "  background-color: var(--sklearn-color-unfitted-level-0);\n",
              "}\n",
              "\n",
              "#sk-container-id-1 div.sk-estimator.fitted {\n",
              "  /* fitted */\n",
              "  background-color: var(--sklearn-color-fitted-level-0);\n",
              "}\n",
              "\n",
              "/* on hover */\n",
              "#sk-container-id-1 div.sk-estimator:hover {\n",
              "  /* unfitted */\n",
              "  background-color: var(--sklearn-color-unfitted-level-2);\n",
              "}\n",
              "\n",
              "#sk-container-id-1 div.sk-estimator.fitted:hover {\n",
              "  /* fitted */\n",
              "  background-color: var(--sklearn-color-fitted-level-2);\n",
              "}\n",
              "\n",
              "/* Specification for estimator info (e.g. \"i\" and \"?\") */\n",
              "\n",
              "/* Common style for \"i\" and \"?\" */\n",
              "\n",
              ".sk-estimator-doc-link,\n",
              "a:link.sk-estimator-doc-link,\n",
              "a:visited.sk-estimator-doc-link {\n",
              "  float: right;\n",
              "  font-size: smaller;\n",
              "  line-height: 1em;\n",
              "  font-family: monospace;\n",
              "  background-color: var(--sklearn-color-background);\n",
              "  border-radius: 1em;\n",
              "  height: 1em;\n",
              "  width: 1em;\n",
              "  text-decoration: none !important;\n",
              "  margin-left: 1ex;\n",
              "  /* unfitted */\n",
              "  border: var(--sklearn-color-unfitted-level-1) 1pt solid;\n",
              "  color: var(--sklearn-color-unfitted-level-1);\n",
              "}\n",
              "\n",
              ".sk-estimator-doc-link.fitted,\n",
              "a:link.sk-estimator-doc-link.fitted,\n",
              "a:visited.sk-estimator-doc-link.fitted {\n",
              "  /* fitted */\n",
              "  border: var(--sklearn-color-fitted-level-1) 1pt solid;\n",
              "  color: var(--sklearn-color-fitted-level-1);\n",
              "}\n",
              "\n",
              "/* On hover */\n",
              "div.sk-estimator:hover .sk-estimator-doc-link:hover,\n",
              ".sk-estimator-doc-link:hover,\n",
              "div.sk-label-container:hover .sk-estimator-doc-link:hover,\n",
              ".sk-estimator-doc-link:hover {\n",
              "  /* unfitted */\n",
              "  background-color: var(--sklearn-color-unfitted-level-3);\n",
              "  color: var(--sklearn-color-background);\n",
              "  text-decoration: none;\n",
              "}\n",
              "\n",
              "div.sk-estimator.fitted:hover .sk-estimator-doc-link.fitted:hover,\n",
              ".sk-estimator-doc-link.fitted:hover,\n",
              "div.sk-label-container:hover .sk-estimator-doc-link.fitted:hover,\n",
              ".sk-estimator-doc-link.fitted:hover {\n",
              "  /* fitted */\n",
              "  background-color: var(--sklearn-color-fitted-level-3);\n",
              "  color: var(--sklearn-color-background);\n",
              "  text-decoration: none;\n",
              "}\n",
              "\n",
              "/* Span, style for the box shown on hovering the info icon */\n",
              ".sk-estimator-doc-link span {\n",
              "  display: none;\n",
              "  z-index: 9999;\n",
              "  position: relative;\n",
              "  font-weight: normal;\n",
              "  right: .2ex;\n",
              "  padding: .5ex;\n",
              "  margin: .5ex;\n",
              "  width: min-content;\n",
              "  min-width: 20ex;\n",
              "  max-width: 50ex;\n",
              "  color: var(--sklearn-color-text);\n",
              "  box-shadow: 2pt 2pt 4pt #999;\n",
              "  /* unfitted */\n",
              "  background: var(--sklearn-color-unfitted-level-0);\n",
              "  border: .5pt solid var(--sklearn-color-unfitted-level-3);\n",
              "}\n",
              "\n",
              ".sk-estimator-doc-link.fitted span {\n",
              "  /* fitted */\n",
              "  background: var(--sklearn-color-fitted-level-0);\n",
              "  border: var(--sklearn-color-fitted-level-3);\n",
              "}\n",
              "\n",
              ".sk-estimator-doc-link:hover span {\n",
              "  display: block;\n",
              "}\n",
              "\n",
              "/* \"?\"-specific style due to the `<a>` HTML tag */\n",
              "\n",
              "#sk-container-id-1 a.estimator_doc_link {\n",
              "  float: right;\n",
              "  font-size: 1rem;\n",
              "  line-height: 1em;\n",
              "  font-family: monospace;\n",
              "  background-color: var(--sklearn-color-background);\n",
              "  border-radius: 1rem;\n",
              "  height: 1rem;\n",
              "  width: 1rem;\n",
              "  text-decoration: none;\n",
              "  /* unfitted */\n",
              "  color: var(--sklearn-color-unfitted-level-1);\n",
              "  border: var(--sklearn-color-unfitted-level-1) 1pt solid;\n",
              "}\n",
              "\n",
              "#sk-container-id-1 a.estimator_doc_link.fitted {\n",
              "  /* fitted */\n",
              "  border: var(--sklearn-color-fitted-level-1) 1pt solid;\n",
              "  color: var(--sklearn-color-fitted-level-1);\n",
              "}\n",
              "\n",
              "/* On hover */\n",
              "#sk-container-id-1 a.estimator_doc_link:hover {\n",
              "  /* unfitted */\n",
              "  background-color: var(--sklearn-color-unfitted-level-3);\n",
              "  color: var(--sklearn-color-background);\n",
              "  text-decoration: none;\n",
              "}\n",
              "\n",
              "#sk-container-id-1 a.estimator_doc_link.fitted:hover {\n",
              "  /* fitted */\n",
              "  background-color: var(--sklearn-color-fitted-level-3);\n",
              "}\n",
              "</style><div id=\"sk-container-id-1\" class=\"sk-top-container\"><div class=\"sk-text-repr-fallback\"><pre>LogisticRegression(random_state=42)</pre><b>In a Jupyter environment, please rerun this cell to show the HTML representation or trust the notebook. <br />On GitHub, the HTML representation is unable to render, please try loading this page with nbviewer.org.</b></div><div class=\"sk-container\" hidden><div class=\"sk-item\"><div class=\"sk-estimator fitted sk-toggleable\"><input class=\"sk-toggleable__control sk-hidden--visually\" id=\"sk-estimator-id-1\" type=\"checkbox\" checked><label for=\"sk-estimator-id-1\" class=\"sk-toggleable__label fitted sk-toggleable__label-arrow fitted\">&nbsp;&nbsp;LogisticRegression<a class=\"sk-estimator-doc-link fitted\" rel=\"noreferrer\" target=\"_blank\" href=\"https://scikit-learn.org/1.5/modules/generated/sklearn.linear_model.LogisticRegression.html\">?<span>Documentation for LogisticRegression</span></a><span class=\"sk-estimator-doc-link fitted\">i<span>Fitted</span></span></label><div class=\"sk-toggleable__content fitted\"><pre>LogisticRegression(random_state=42)</pre></div> </div></div></div></div>"
            ]
          },
          "metadata": {},
          "execution_count": 56
        }
      ]
    },
    {
      "cell_type": "markdown",
      "source": [
        "By saving the entire preprocessing pipeline along with the model, we ensure that any subsequent predictions made with this model will adhere to the same data transformations and feature engineering steps that were applied during training."
      ],
      "metadata": {
        "id": "PkAHDjc51WAt"
      }
    },
    {
      "cell_type": "markdown",
      "source": [
        "10. Ознайомтесь з роботою наведеної функції `predict_raw_df`. Ця функція робить підготовку даних (масштабування числових колонок і кодування категоріальних) і виводить ймовірності належності до класу 1 для кожного рядка в наданому наборі.\n",
        "\n",
        "Доповніть або внесіть зміни у функцію з врахуванням вашого препроцесингу даних."
      ],
      "metadata": {
        "id": "E_b1hrHUvQpb"
      }
    },
    {
      "cell_type": "markdown",
      "source": [
        "## 10 Function: `predict_raw_df`"
      ],
      "metadata": {
        "id": "wWb7mfqd1lU3"
      }
    },
    {
      "cell_type": "markdown",
      "source": [
        "This function is essential for using a pre-trained model to predict the probability that new observations (rows of data) belong to class 1 based on their features. Its primary purpose is to ensure the proper preprocessing of \"raw\" data (data that hasn't been prepared yet) and feed it into the model in the expected format."
      ],
      "metadata": {
        "id": "UBJa3Dot3XrK"
      }
    },
    {
      "cell_type": "markdown",
      "source": [
        " What This Function Does:  \n",
        " 1. **Preprocessing**: The input data is transformed using the `preprocessor`. This step includes scaling numeric features and encoding categorical features, ensuring the data is in the same format used during the model's training process.\n",
        " 2. **Prediction**: After preprocessing, the transformed data is passed to the `model` to compute the probability that each observation belongs to class 1 (the positive class in binary classification).\n",
        " 3. **Output**: The function returns the predicted probabilities for class 1, which can be used for further analysis or decision-making.\n",
        "\n",
        "\n"
      ],
      "metadata": {
        "id": "WhcJzF722k4H"
      }
    },
    {
      "cell_type": "code",
      "source": [
        "import warnings\n",
        "warnings.filterwarnings(\"ignore\")\n",
        "\n",
        "def predict_raw_df(model, preprocessor, input_df):\n",
        "    \"\"\"\n",
        "    This function preprocesses the input data and predicts probabilities using the provided model.\n",
        "\n",
        "    Parameters:\n",
        "    model: The trained model used for predictions.\n",
        "    preprocessor: The preprocessing pipeline for transforming the input data.\n",
        "    input_df: The input DataFrame containing raw data to be predicted.\n",
        "\n",
        "    Returns:\n",
        "    prob: The predicted probabilities for the class 1 for each row in the input DataFrame.\n",
        "    \"\"\"\n",
        "\n",
        "    # Apply the preprocessing pipeline to the input data\n",
        "    X_processed = preprocessor.transform(input_df)\n",
        "\n",
        "    # Predict probabilities for the processed data\n",
        "    prob = model.predict_proba(X_processed)[:, 1]\n",
        "\n",
        "    return prob"
      ],
      "metadata": {
        "id": "t5F0flvaz6GI"
      },
      "execution_count": 57,
      "outputs": []
    },
    {
      "cell_type": "markdown",
      "source": [
        "Example Usage:"
      ],
      "metadata": {
        "id": "BXLFgfaB3EeF"
      }
    },
    {
      "cell_type": "code",
      "source": [
        "# Assuming `model_loaded` and `preprocessor_loaded` are the loaded model and preprocessor respectively\n",
        "predictions = predict_raw_df(model_2, preprocessor_loaded, raw_df[:5])"
      ],
      "metadata": {
        "id": "hU2wB1Em0A-f"
      },
      "execution_count": 58,
      "outputs": []
    },
    {
      "cell_type": "code",
      "source": [
        "predictions"
      ],
      "metadata": {
        "colab": {
          "base_uri": "https://localhost:8080/"
        },
        "id": "p6RJmbW_4GRb",
        "outputId": "f5602a41-a0ae-4064-f979-67acf92e6a81"
      },
      "execution_count": 59,
      "outputs": [
        {
          "output_type": "execute_result",
          "data": {
            "text/plain": [
              "array([0.00575762, 0.0318665 , 0.34400149, 0.42767088, 0.9718132 ])"
            ]
          },
          "metadata": {},
          "execution_count": 59
        }
      ]
    },
    {
      "cell_type": "markdown",
      "source": [
        "11. Зчитайте дані з `test.csv` в змінну `test_raw_df`. Зробіть передбачення для кожного рядка даних з функцією з попереднього завдання і запишіть результат в нову колонку `Exited` в датафреймі `test_raw_df`."
      ],
      "metadata": {
        "id": "W8rRDFfExV40"
      }
    },
    {
      "cell_type": "markdown",
      "source": [
        "## 11 Loading the test data from test.csv and generating predictions"
      ],
      "metadata": {
        "id": "juTovKND4hY5"
      }
    },
    {
      "cell_type": "markdown",
      "source": [
        "This step involves loading unseen data, applying the model to make predictions, and storing the results in the DataFrame for further analysis.\n",
        "\n"
      ],
      "metadata": {
        "id": "RVV26LDG4l1A"
      }
    },
    {
      "cell_type": "code",
      "source": [
        "# Load the input data from test.csv\n",
        "test_raw_df = pd.read_csv('./bank-customer-churn-prediction-dlu/test.csv')"
      ],
      "metadata": {
        "id": "LyWEdGWx2u6d"
      },
      "execution_count": 60,
      "outputs": []
    },
    {
      "cell_type": "markdown",
      "source": [
        "Using the previously saved model and preprocessor,` the predict_raw_df() `function processes the raw data and generates predictions. These predictions represent the likelihood of each customer churning."
      ],
      "metadata": {
        "id": "mavtLH-34uz9"
      }
    },
    {
      "cell_type": "code",
      "source": [
        "# Make predictions\n",
        "predictions = predict_raw_df(model_2, preprocessor_loaded, test_raw_df)\n",
        "\n",
        "# Add the predictions to the DataFrame\n",
        "test_raw_df['Exited'] = predictions"
      ],
      "metadata": {
        "id": "vWqTbeeb47TH"
      },
      "execution_count": 61,
      "outputs": []
    },
    {
      "cell_type": "markdown",
      "source": [
        "12. Зчитайте файл 'sample_submission.csv' і зповніть колонку `Exited` передбаченими вашою моделлю значеннями для кожного відповідного `id` клієнта.\n",
        "Виведіть перші 5 рядків фінального датасету, збережіть результат в файл `submission_log_reg.csv` (УВАГА! не запишіть випадково ще індекси рядків!) і здайте цей файл на Kaggle зі свого профіля натиснувши `Submit Prediction`."
      ],
      "metadata": {
        "id": "ZHZciHxEx7IZ"
      }
    },
    {
      "cell_type": "markdown",
      "source": [
        "## 12 Submitting Predictions for Evaluation"
      ],
      "metadata": {
        "id": "WOeM3crg499r"
      }
    },
    {
      "cell_type": "markdown",
      "source": [
        "In this step, we are preparing the final dataset that contains the predictions made by our model. The goal is to submit this dataset to Kaggle for evaluation."
      ],
      "metadata": {
        "id": "1AUCKvcl5D_z"
      }
    },
    {
      "cell_type": "code",
      "source": [
        "from google.colab import drive\n",
        "drive.mount('/content/drive')"
      ],
      "metadata": {
        "colab": {
          "base_uri": "https://localhost:8080/"
        },
        "id": "i1KL6Hjx6sQZ",
        "outputId": "c53b5423-b52a-4b3f-aa04-76345e1cfbf9"
      },
      "execution_count": 63,
      "outputs": [
        {
          "output_type": "stream",
          "name": "stdout",
          "text": [
            "Mounted at /content/drive\n"
          ]
        }
      ]
    },
    {
      "cell_type": "code",
      "source": [
        "# Load the sample submission file\n",
        "submission_df =  pd.read_csv('./bank-customer-churn-prediction-dlu/sample_submission.csv')\n",
        "\n",
        "# Ensure the 'Exited' column is filled with predictions\n",
        "submission_df['Exited'] = predictions\n",
        "\n",
        "# Save the updated DataFrame to a new CSV file\n",
        "submission_df.to_csv('drive/MyDrive/Colab Notebooks/data//submission_log_reg.csv', index=False)"
      ],
      "metadata": {
        "id": "HjkKnrll2wNA"
      },
      "execution_count": 64,
      "outputs": []
    },
    {
      "cell_type": "code",
      "source": [
        "# Display the first 5 rows of the final dataset\n",
        "print(submission_df.head())"
      ],
      "metadata": {
        "colab": {
          "base_uri": "https://localhost:8080/"
        },
        "id": "7iY_k6Zk6-a8",
        "outputId": "5eff14ad-682a-4663-9861-25ae1adb9fb3"
      },
      "execution_count": 65,
      "outputs": [
        {
          "output_type": "stream",
          "name": "stdout",
          "text": [
            "      id  Exited\n",
            "0  15000    0.06\n",
            "1  15001    0.03\n",
            "2  15002    0.17\n",
            "3  15003    0.22\n",
            "4  15004    0.05\n"
          ]
        }
      ]
    }
  ]
}